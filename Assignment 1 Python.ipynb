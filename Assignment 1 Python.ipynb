{
 "cells": [
  {
   "cell_type": "markdown",
   "id": "0a023c6d",
   "metadata": {},
   "source": [
    "1.Write a Python program to find those numbers which are divisible by 7\n",
    "and multiple of 5, between 1500 and 2700 (both included)."
   ]
  },
  {
   "cell_type": "code",
   "execution_count": null,
   "id": "b7b658d4",
   "metadata": {},
   "outputs": [],
   "source": [
    "for i in range(1500,2701):\n",
    "    if (i%7==0 and i%5==0):\n",
    "        print(i)\n",
    "        \n",
    "  \n"
   ]
  },
  {
   "cell_type": "markdown",
   "id": "1d0b8490",
   "metadata": {},
   "source": [
    "2.Python program to add two numbers"
   ]
  },
  {
   "cell_type": "code",
   "execution_count": 12,
   "id": "77cd260b",
   "metadata": {},
   "outputs": [
    {
     "name": "stdout",
     "output_type": "stream",
     "text": [
      "Enter the value of a :3\n",
      "Enter the value of b :3\n",
      "The addition of 2 number is : 6\n"
     ]
    }
   ],
   "source": [
    "a=int(input(\"Enter the value of a :\"))\n",
    "b=int(input(\"Enter the value of b :\"))\n",
    "c=a+b\n",
    "print(\"The addition of 2 number is :\",c)"
   ]
  },
  {
   "cell_type": "markdown",
   "id": "9045c74d",
   "metadata": {},
   "source": [
    "3.Maximum of two numbers in Python"
   ]
  },
  {
   "cell_type": "code",
   "execution_count": 15,
   "id": "08a17f55",
   "metadata": {},
   "outputs": [
    {
     "name": "stdout",
     "output_type": "stream",
     "text": [
      "Enter the value of a :5\n",
      "Enter the value of b :6\n",
      "6 is maximum\n"
     ]
    }
   ],
   "source": [
    "a=int(input(\"Enter the value of a :\"))\n",
    "b=int(input(\"Enter the value of b :\"))\n",
    "if a>b:\n",
    "    print( a,\"is maximum\")\n",
    "else:\n",
    "    print( b,\"is maximum\")"
   ]
  },
  {
   "cell_type": "markdown",
   "id": "90224144",
   "metadata": {},
   "source": [
    "4.Python Program for factorial of a number."
   ]
  },
  {
   "cell_type": "code",
   "execution_count": 22,
   "id": "e3f2a92b",
   "metadata": {},
   "outputs": [
    {
     "name": "stdout",
     "output_type": "stream",
     "text": [
      "Enter the value :3\n",
      "The factorial of the number is : 6\n"
     ]
    }
   ],
   "source": [
    "a=int(input(\"Enter the value :\"))\n",
    "fact=1\n",
    "for i in range(1,a+1):\n",
    "    fact=fact*i\n",
    "print(\"The factorial of the number is :\",fact)    \n",
    "\n"
   ]
  },
  {
   "cell_type": "markdown",
   "id": "26f7f831",
   "metadata": {},
   "source": [
    "5.Python Program for simple interest"
   ]
  },
  {
   "cell_type": "code",
   "execution_count": 23,
   "id": "0cf8c623",
   "metadata": {},
   "outputs": [
    {
     "name": "stdout",
     "output_type": "stream",
     "text": [
      "Enter the principal amount: 8\n",
      "Enter the rate of interest: 6\n",
      "Enter the time period in year : 8\n",
      "The simple interest is  3.84\n"
     ]
    }
   ],
   "source": [
    "p=int(input(\"Enter the principal amount: \"))\n",
    "r=int(input(\"Enter the rate of interest: \"))\n",
    "t=int(input(\"Enter the time period in year : \"))\n",
    "simple_interst=(p*r*t)/100\n",
    "print(\"The simple interest is \",simple_interst)"
   ]
  },
  {
   "cell_type": "markdown",
   "id": "446879ca",
   "metadata": {},
   "source": [
    "6. Python Program for compound interest"
   ]
  },
  {
   "cell_type": "code",
   "execution_count": 32,
   "id": "5fbf1ce8",
   "metadata": {},
   "outputs": [
    {
     "name": "stdout",
     "output_type": "stream",
     "text": [
      "Enter the principal amount: 1200\n",
      "Enter the rate of interest: 5.4\n",
      "Enter the time span in year : 2\n",
      "The compound interest is : 133.0992000000001\n"
     ]
    }
   ],
   "source": [
    "p=int(input(\"Enter the principal amount: \"))\n",
    "r=float(input(\"Enter the rate of interest: \"))\n",
    "t=int(input(\"Enter the time span in year : \"))\n",
    "c=p*((1+r/100)**t)\n",
    "d=c-p\n",
    "print(\"The compound interest is :\",d)"
   ]
  },
  {
   "cell_type": "markdown",
   "id": "3cbe98a5",
   "metadata": {},
   "source": [
    "Python Program to check Armstrong Number"
   ]
  },
  {
   "cell_type": "code",
   "execution_count": null,
   "id": "c8e57e67",
   "metadata": {},
   "outputs": [],
   "source": [
    "a=int(input(\"Enter the number\"))\n",
    "sum=0\n",
    "temp=a\n",
    "while a>0:\n",
    "    digit=temp%10\n",
    "    sum+=digit**3\n",
    "    temp//=10\n",
    "if sum==a:\n",
    "    print(a,\"is an armstrong number\")\n",
    "else:\n",
    "    print(a,\" is not an aramstrona=int(input(\"Enter the radious of circle\"))\n",
    "area_circle=3.14*(a**2)\n",
    "print(\"Area of circle is\",area_circle)g number\")\n"
   ]
  },
  {
   "cell_type": "markdown",
   "id": "a002427f",
   "metadata": {},
   "source": [
    "Python Program for Program to find area of a circle"
   ]
  },
  {
   "cell_type": "code",
   "execution_count": 2,
   "id": "95660d9a",
   "metadata": {},
   "outputs": [
    {
     "name": "stdout",
     "output_type": "stream",
     "text": [
      "Enter the radious of circle1\n",
      "Area of circle is 3.14\n"
     ]
    }
   ],
   "source": [
    "a=int(input(\"Enter the radious of circle\"))\n",
    "area_circle=3.14*(a**2)\n",
    "print(\"Area of circle is\",area_circle)"
   ]
  },
  {
   "cell_type": "markdown",
   "id": "e7df5a89",
   "metadata": {},
   "source": [
    "Python program to print all Prime numbers in an Interva"
   ]
  },
  {
   "cell_type": "code",
   "execution_count": 11,
   "id": "78c8d2de",
   "metadata": {},
   "outputs": [
    {
     "name": "stdout",
     "output_type": "stream",
     "text": [
      "Enter the value of n 200\n",
      " 2   3   5   7   11   13   17   19   23   29   31   37   41   43   47   53   59   61   67   71   73   79   83   89   97   101   103   107   109   113   127   131   137   139   149   151   157   163   167   173   179   181   191   193   197   199  "
     ]
    }
   ],
   "source": [
    "n=int(input(\"Enter the value of n \"))\n",
    "for Number in range (1, n+1):\n",
    "    count = 0\n",
    "    for i in range(2, (Number//2 + 1)):\n",
    "        if(Number % i == 0):\n",
    "            count = count + 1\n",
    "            break\n",
    "\n",
    "    if (count == 0 and Number != 1):\n",
    "        print(\" %d\" %Number, end = '  ')"
   ]
  },
  {
   "cell_type": "markdown",
   "id": "8e8fe9bc",
   "metadata": {},
   "source": [
    "10.Python program to check whether a number is Prime or not"
   ]
  },
  {
   "cell_type": "code",
   "execution_count": 19,
   "id": "3024c6d3",
   "metadata": {},
   "outputs": [
    {
     "name": "stdout",
     "output_type": "stream",
     "text": [
      "Enter the value of n 9\n",
      "The number is not a prime number\n"
     ]
    }
   ],
   "source": [
    "n=int(input(\"Enter the value of n \"))\n",
    "flag=False\n",
    "\n",
    "if n>1:\n",
    "    for i in range(2,n):\n",
    "        if(n%i)==0:\n",
    "            flag=True\n",
    "            break\n",
    "if flag:\n",
    "    print(\"The number is not a prime number\")\n",
    "else:\n",
    "    print(\"The number is  a prime number\")\n",
    "    "
   ]
  }
 ],
 "metadata": {
  "kernelspec": {
   "display_name": "Python 3 (ipykernel)",
   "language": "python",
   "name": "python3"
  },
  "language_info": {
   "codemirror_mode": {
    "name": "ipython",
    "version": 3
   },
   "file_extension": ".py",
   "mimetype": "text/x-python",
   "name": "python",
   "nbconvert_exporter": "python",
   "pygments_lexer": "ipython3",
   "version": "3.9.7"
  }
 },
 "nbformat": 4,
 "nbformat_minor": 5
}
