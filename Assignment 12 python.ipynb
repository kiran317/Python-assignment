{
 "cells": [
  {
   "cell_type": "markdown",
   "id": "da4def81",
   "metadata": {},
   "source": [
    "1. Python | Convert a list of Tuples into Dictionary\n"
   ]
  },
  {
   "cell_type": "code",
   "execution_count": 3,
   "id": "05d9570a",
   "metadata": {},
   "outputs": [
    {
     "name": "stdout",
     "output_type": "stream",
     "text": [
      "{'Nakul': 93, 'Shivansh': 45, 'Samved': 65, 'Yash': 88, 'Vidit': 70, 'Pradeep': 52}\n"
     ]
    }
   ],
   "source": [
    "list_1=[(\"Nakul\",93), (\"Shivansh\",45), (\"Samved\",65),\n",
    "           (\"Yash\",88), (\"Vidit\",70), (\"Pradeep\",52)]\n",
    "dict_1=dict()\n",
    "  \n",
    "for student,score in list_1:\n",
    "    dict_1.setdefault(student, score)\n",
    "print(dict_1)"
   ]
  },
  {
   "cell_type": "markdown",
   "id": "d31f0b10",
   "metadata": {},
   "source": [
    "2. Python counter and dictionary intersection example (Make a string using deletion and rearrangement)\n"
   ]
  },
  {
   "cell_type": "code",
   "execution_count": 11,
   "id": "c88eea6a",
   "metadata": {},
   "outputs": [
    {
     "name": "stdout",
     "output_type": "stream",
     "text": [
      "not possible\n"
     ]
    }
   ],
   "source": [
    "from collections import Counter\n",
    "def makestring(str1,str2):\n",
    "    dict1=Counter(str1)\n",
    "    dict2=Counter(str2)\n",
    "    dict=dict1 & dict2\n",
    "    if dict==dict1:\n",
    "        print(\"possible\")\n",
    "    else:\n",
    "        print(\"not possible\")\n",
    "str1='aaabbbcctttfgt'\n",
    "str2='aaabbbcck'\n",
    "makestring(str1,str2)"
   ]
  },
  {
   "cell_type": "markdown",
   "id": "eee9abea",
   "metadata": {},
   "source": [
    "3. Python dictionary, set and counter to check if frequencies can become same\n"
   ]
  },
  {
   "cell_type": "code",
   "execution_count": 17,
   "id": "2b4dc63f",
   "metadata": {},
   "outputs": [
    {
     "name": "stdout",
     "output_type": "stream",
     "text": [
      "All frequencies are not same\n"
     ]
    }
   ],
   "source": [
    "from collections import Counter\n",
    "def allsame(str1):\n",
    "    dict=Counter(str1)\n",
    "    freq=list(set(dict.values()))\n",
    "    if len(freq)>1:\n",
    "        print(\"All frequencies are not same\")\n",
    "    else:\n",
    "        print(\"All frequencies are same\")\n",
    "str1='aabbccdeeeee'\n",
    "allsame(str1)"
   ]
  },
  {
   "cell_type": "markdown",
   "id": "b3c1aafd",
   "metadata": {},
   "source": [
    "4. Scraping And Finding Ordered Words In A Dictionary using Python\n"
   ]
  },
  {
   "cell_type": "code",
   "execution_count": 20,
   "id": "6e80eaa2",
   "metadata": {},
   "outputs": [],
   "source": [
    "import requests\n",
    "\n",
    "def getWords():\n",
    "\n",
    "    url = \"http://www.puzzlers.org/pub/wordlists/unixdict.txt\"\n",
    "    fetchData = requests.get(url)\n",
    "\n",
    "    wordList = fetchData.content\n",
    "\n",
    "    wordList = wordList.decode(\"utf-8\").split()\n",
    "  \n",
    "    return wordList\n",
    "\n",
    "def isOrdered():\n",
    "\n",
    "    collection = getWords()\n",
    "\n",
    "    collection = collection[16:]\n",
    "    word = ''\n",
    "  \n",
    "    for word in collection:\n",
    "        result = 'Word is ordered'\n",
    "        i = 0\n",
    "        l = len(word) - 1\n",
    "  \n",
    "        if (len(word) < 3): # skips the 1 and 2 lettered strings\n",
    "            continue\n",
    "  \n",
    "        # traverses through all characters of the word in pairs\n",
    "        while i < l:         \n",
    "            if (ord(word[i]) > ord(word[i+1])):\n",
    "                result = 'Word is not ordered'\n",
    "                break\n",
    "            else:\n",
    "                i += 1\n",
    "\n",
    "        if (result == 'Word is ordered'):\n",
    "            print(word,': ',result)\n",
    "isOrdered()"
   ]
  },
  {
   "cell_type": "markdown",
   "id": "880e5833",
   "metadata": {},
   "source": [
    "5. Possible Words using given characters in Python\n"
   ]
  },
  {
   "cell_type": "code",
   "execution_count": 32,
   "id": "cdb08781",
   "metadata": {},
   "outputs": [
    {
     "name": "stdout",
     "output_type": "stream",
     "text": [
      "me\n",
      "goal\n"
     ]
    }
   ],
   "source": [
    "from collections import Counter\n",
    "def charcount(word):\n",
    "    \n",
    "    return Counter(word)\n",
    "\n",
    "def possiblewords(input,charSet):\n",
    "    for i in input:\n",
    "        flag=1\n",
    "        char=charcount(i)\n",
    "        for key in char:\n",
    "            if key not in charSet:\n",
    "                flag=0\n",
    "            else:\n",
    "                if charSet.count(key)!=char[key]:\n",
    "                    flag=0\n",
    "        if flag==1:\n",
    "            print(i)\n",
    "\n",
    "input = ['goo', 'bat', 'me', 'eat', 'goal', 'boy', 'run']\n",
    "charSet = ['e', 'o', 'b', 'a', 'm', 'g', 'l']\n",
    "possiblewords(input, charSet)"
   ]
  },
  {
   "cell_type": "markdown",
   "id": "bc9e871b",
   "metadata": {},
   "source": [
    "6. Python – Keys associated with Values in Dictionary\n"
   ]
  },
  {
   "cell_type": "code",
   "execution_count": 49,
   "id": "5323d867",
   "metadata": {},
   "outputs": [
    {
     "name": "stdout",
     "output_type": "stream",
     "text": [
      "The keys mapped to [5, 10] are : ['gfg', 'best']\n"
     ]
    }
   ],
   "source": [
    "test_dict = {'gfg' : [4, 5], 'is' : [8], 'best' : [10, 12]}\n",
    "\n",
    "val_list = [5, 10]\n",
    "temp = {}\n",
    "for key, vals in test_dict.items():\n",
    "    for val in vals:\n",
    "        temp[val] = key\n",
    "res = [temp[ele] for ele in val_list]\n",
    "print(\"The keys mapped to \" + str(val_list) + \" are : \" + str(res))"
   ]
  },
  {
   "cell_type": "markdown",
   "id": "5a4e6022",
   "metadata": {},
   "source": [
    "7. Python program to Find the size of a Tuple\n"
   ]
  },
  {
   "cell_type": "code",
   "execution_count": 50,
   "id": "e100f4b9",
   "metadata": {},
   "outputs": [
    {
     "name": "stdout",
     "output_type": "stream",
     "text": [
      "Size of Tuple1: 72bytes\n"
     ]
    }
   ],
   "source": [
    "Tuple1 = (\"A\", 1, \"B\", 2, \"C\", 3)\n",
    "print(\"Size of Tuple1: \" + str(Tuple1.__sizeof__()) + \"bytes\")\n"
   ]
  },
  {
   "cell_type": "markdown",
   "id": "2ba84012",
   "metadata": {},
   "source": [
    "8. Python – Maximum and Minimum K elements in Tuple\n"
   ]
  },
  {
   "cell_type": "code",
   "execution_count": 53,
   "id": "7639b5ac",
   "metadata": {},
   "outputs": [
    {
     "name": "stdout",
     "output_type": "stream",
     "text": [
      "The original tuple is : (5, 20, 3, 7, 6, 8)\n",
      "The extracted values : (3, 5, 8, 20)\n"
     ]
    }
   ],
   "source": [
    "test_tup = (5, 20, 3, 7, 6, 8)\n",
    "\n",
    "print(\"The original tuple is : \" + str(test_tup))\n",
    "\n",
    "K = 2\n",
    "\n",
    "test_tup = list(test_tup)\n",
    "temp = sorted(test_tup)\n",
    "res = tuple(temp[:K] + temp[-K:])\n",
    "\n",
    "print(\"The extracted values : \" + str(res))"
   ]
  },
  {
   "cell_type": "markdown",
   "id": "76057739",
   "metadata": {},
   "source": [
    "9. Create a list of tuples from given list having number and its cube in each tuple\n"
   ]
  },
  {
   "cell_type": "code",
   "execution_count": 54,
   "id": "01ad773f",
   "metadata": {},
   "outputs": [
    {
     "name": "stdout",
     "output_type": "stream",
     "text": [
      "[(1, 1), (2, 8), (5, 125), (6, 216)]\n"
     ]
    }
   ],
   "source": [
    "list1 = [1, 2, 5, 6]\n",
    "\n",
    "res = [(val, pow(val, 3)) for val in list1]\n",
    "\n",
    "print(res)"
   ]
  },
  {
   "cell_type": "markdown",
   "id": "c8ad0600",
   "metadata": {},
   "source": [
    "10. Python – Adding Tuple to List and vice – versa\n"
   ]
  },
  {
   "cell_type": "code",
   "execution_count": 57,
   "id": "399081c7",
   "metadata": {},
   "outputs": [
    {
     "name": "stdout",
     "output_type": "stream",
     "text": [
      "The list is : \n",
      "[3, 6, 9, 45, 66]\n",
      "The tuple is \n",
      "(11, 14, 21)\n",
      "The list after addition is : \n",
      "[3, 6, 9, 45, 66, 11, 14, 21]\n"
     ]
    }
   ],
   "source": [
    "my_list = [3, 6, 9, 45, 66]\n",
    "\n",
    "print(\"The list is : \")\n",
    "print(my_list)\n",
    "\n",
    "my_tup = (11, 14, 21)\n",
    "print(\"The tuple is \")\n",
    "print(my_tup)\n",
    "my_list += my_tup\n",
    "\n",
    "print(\"The list after addition is : \" )\n",
    "print(my_list)"
   ]
  },
  {
   "cell_type": "markdown",
   "id": "06149c96",
   "metadata": {},
   "source": [
    "11. Python – Closest Pair to Kth index element in Tuple"
   ]
  },
  {
   "cell_type": "code",
   "execution_count": 58,
   "id": "78cfc9d8",
   "metadata": {},
   "outputs": [
    {
     "name": "stdout",
     "output_type": "stream",
     "text": [
      "The original list is : [(3, 4), (78, 76), (2, 3), (9, 8), (19, 23)]\n",
      "The nearest tuple to Kth index element is : (19, 23)\n"
     ]
    }
   ],
   "source": [
    "test_list = [(3, 4), (78, 76), (2, 3), (9, 8), (19, 23)]\n",
    "\n",
    "print(\"The original list is : \" + str(test_list))\n",
    "\n",
    "tup = (17, 23)\n",
    "\n",
    "K = 1\n",
    "\n",
    "res = min(range(len(test_list)), key = lambda sub: abs(test_list[sub][K - 1] - tup[K - 1]))\n",
    "\n",
    "print(\"The nearest tuple to Kth index element is : \" + str(test_list[res])) "
   ]
  }
 ],
 "metadata": {
  "kernelspec": {
   "display_name": "Python 3 (ipykernel)",
   "language": "python",
   "name": "python3"
  },
  "language_info": {
   "codemirror_mode": {
    "name": "ipython",
    "version": 3
   },
   "file_extension": ".py",
   "mimetype": "text/x-python",
   "name": "python",
   "nbconvert_exporter": "python",
   "pygments_lexer": "ipython3",
   "version": "3.9.7"
  }
 },
 "nbformat": 4,
 "nbformat_minor": 5
}
