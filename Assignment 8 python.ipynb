{
 "cells": [
  {
   "cell_type": "markdown",
   "id": "d1db76b0",
   "metadata": {},
   "source": [
    "1. Python – Least Frequent Character in String\n"
   ]
  },
  {
   "cell_type": "code",
   "execution_count": 22,
   "id": "e04b0fef",
   "metadata": {},
   "outputs": [
    {
     "name": "stdout",
     "output_type": "stream",
     "text": [
      "The original string is : aabbaahgkk\n",
      "The minimum of all characters in GeeksforGeeks is :  h\n"
     ]
    }
   ],
   "source": [
    "test_str = \"aabbaahgkk\"  \n",
    "print (\"The original string is : \" + test_str)\n",
    "all_freq = {}\n",
    "for i in test_str:\n",
    "    if i in all_freq:\n",
    "        all_freq[i] += 1\n",
    "    else:\n",
    "        all_freq[i] = 1\n",
    "res = min(all_freq, key = all_freq.get) \n",
    "print (\"The minimum of all characters in GeeksforGeeks is : \" ,str(res))"
   ]
  },
  {
   "cell_type": "markdown",
   "id": "a49d9e71",
   "metadata": {},
   "source": [
    "2. Python | Maximum frequency character in String\n"
   ]
  },
  {
   "cell_type": "code",
   "execution_count": 23,
   "id": "8015c244",
   "metadata": {},
   "outputs": [
    {
     "name": "stdout",
     "output_type": "stream",
     "text": [
      "The original string is : aabbaahgkk\n",
      "The minimum of all characters in GeeksforGeeks is :  a\n"
     ]
    }
   ],
   "source": [
    "test_str = \"aabbaahgkk\"  \n",
    "print (\"The original string is : \" + test_str)\n",
    "all_freq = {}\n",
    "for i in test_str:\n",
    "    if i in all_freq:\n",
    "        all_freq[i] += 1\n",
    "    else:\n",
    "        all_freq[i] = 1\n",
    "res = max(all_freq, key = all_freq.get) \n",
    "print (\"The minimum of all characters in GeeksforGeeks is : \" ,str(res))"
   ]
  },
  {
   "cell_type": "markdown",
   "id": "1577ffe3",
   "metadata": {},
   "source": [
    "3. Python | Program to check if a string contains any special character\n"
   ]
  },
  {
   "cell_type": "code",
   "execution_count": 6,
   "id": "a4b698bc",
   "metadata": {},
   "outputs": [
    {
     "name": "stdout",
     "output_type": "stream",
     "text": [
      "String contains special character.\n"
     ]
    }
   ],
   "source": [
    "import re\n",
    "def run(string):\n",
    "\n",
    "    regex = re.compile('[@_!#$%^&*()<>?/\\|}{~:]')\n",
    "    \n",
    "    if(regex.search(string) == None):\n",
    "        print(\"String do not contains special character\")\n",
    "         \n",
    "    else:\n",
    "        print(\"String contains special character.\")\n",
    "     \n",
    " \n",
    "\n",
    "string = \"Geeks&ForGeeks\"\n",
    "     \n",
    "run(string)"
   ]
  },
  {
   "cell_type": "markdown",
   "id": "c76505bc",
   "metadata": {},
   "source": [
    "4. Generating random strings until a given string is generated\n"
   ]
  },
  {
   "cell_type": "code",
   "execution_count": null,
   "id": "8391c449",
   "metadata": {},
   "outputs": [],
   "source": []
  },
  {
   "cell_type": "markdown",
   "id": "c797e3ef",
   "metadata": {},
   "source": [
    "5. Find words which are greater than given length k\n"
   ]
  },
  {
   "cell_type": "code",
   "execution_count": 7,
   "id": "121f421a",
   "metadata": {},
   "outputs": [
    {
     "name": "stdout",
     "output_type": "stream",
     "text": [
      "['what', 'going', 'there']\n"
     ]
    }
   ],
   "source": [
    "def string_a(k,str):\n",
    "    string=[]\n",
    "    text=str.split()\n",
    "    for i in text:\n",
    "        if len(i)>k:\n",
    "            string.append(i)\n",
    "    print(string)\n",
    "str=\"what is going on there\"\n",
    "k=3\n",
    "string_a(k,str)"
   ]
  },
  {
   "cell_type": "markdown",
   "id": "5ffd21f3",
   "metadata": {},
   "source": [
    "6. Python program for removing i-th character from a string\n"
   ]
  },
  {
   "cell_type": "code",
   "execution_count": 8,
   "id": "8bc14d54",
   "metadata": {},
   "outputs": [
    {
     "name": "stdout",
     "output_type": "stream",
     "text": [
      "GeksForGeeks\n"
     ]
    }
   ],
   "source": [
    "test_str = \"GeeksForGeeks\"\n",
    "new_str=''\n",
    "\n",
    "for i in range(len(test_str)):\n",
    "    if i!=2:\n",
    "        new_str=new_str+test_str[i]\n",
    "print(new_str)"
   ]
  },
  {
   "cell_type": "markdown",
   "id": "f3ca2ef1",
   "metadata": {},
   "source": [
    "7. Python program to split and join a string\n"
   ]
  },
  {
   "cell_type": "code",
   "execution_count": 12,
   "id": "06e395c5",
   "metadata": {},
   "outputs": [
    {
     "name": "stdout",
     "output_type": "stream",
     "text": [
      "['Who', 'is', 'she']\n",
      "Who is she\n"
     ]
    }
   ],
   "source": [
    "def split_string(string):\n",
    "    list_string = string.split(' ')\n",
    "      \n",
    "    return list_string\n",
    "  \n",
    "def join_string(list_string):\n",
    "\n",
    "    string = ' '.join(list_string)\n",
    "      \n",
    "    return string\n",
    "  \n",
    "\n",
    "string = 'Who is she'\n",
    "list_string = split_string(string)\n",
    "print(list_string)\n",
    "new_string = join_string(list_string)\n",
    "print(new_string)"
   ]
  },
  {
   "cell_type": "markdown",
   "id": "eddc65e9",
   "metadata": {},
   "source": [
    "8. Python | Check if a given string is binary string or not\n"
   ]
  },
  {
   "cell_type": "code",
   "execution_count": 14,
   "id": "d994e2a4",
   "metadata": {},
   "outputs": [
    {
     "name": "stdout",
     "output_type": "stream",
     "text": [
      "yes\n"
     ]
    }
   ],
   "source": [
    "def check(string) :\n",
    "    p=set(string)\n",
    "    s={'0','1'}\n",
    "    if p==s or p=={'0'} or p=={'1'}:\n",
    "        print('yes')\n",
    "    else:\n",
    "        print('no')\n",
    "string='01100111'\n",
    "check(string)\n",
    "    "
   ]
  },
  {
   "cell_type": "markdown",
   "id": "9720d42f",
   "metadata": {},
   "source": [
    "9. Python program to find uncommon words from two Strings\n"
   ]
  },
  {
   "cell_type": "code",
   "execution_count": 16,
   "id": "48ae6b0f",
   "metadata": {},
   "outputs": [
    {
     "name": "stdout",
     "output_type": "stream",
     "text": [
      " apple fruits\n"
     ]
    }
   ],
   "source": [
    "def uncommon(a,b):\n",
    "    list_a = a.split()\n",
    "    list_b = b.split()\n",
    "    uc = ''\n",
    "    for i in list_a:\n",
    "        if i not in list_b:\n",
    "            uc = uc+\" \"+i\n",
    "    for j in list_b:\n",
    "        if j not in list_a:\n",
    "            uc = uc+\" \"+j\n",
    "  \n",
    "    return uc\n",
    "\n",
    "a = \"apple banana mango\"\n",
    "b = \"banana fruits mango\"\n",
    "print(uncommon(a,b))\n"
   ]
  },
  {
   "cell_type": "markdown",
   "id": "b2a2865d",
   "metadata": {},
   "source": [
    "10. Python – Replace duplicate Occurrence in String"
   ]
  },
  {
   "cell_type": "code",
   "execution_count": 17,
   "id": "1a154951",
   "metadata": {},
   "outputs": [
    {
     "name": "stdout",
     "output_type": "stream",
     "text": [
      "The string is : \n",
      "Jane is the best . Jane loves to cook. Jane and Will cook together\n",
      "The string after replacing with values is : \n",
      "Jane is the best . She loves to cook. She and Will cook together\n"
     ]
    }
   ],
   "source": [
    "my_str = 'Jane is the best . Jane loves to cook. Jane and Will cook together'\n",
    "print(\"The string is : \")\n",
    "print(my_str)\n",
    "replace_dict = {'Jane' : 'She' }\n",
    "my_list = my_str.split(' ')\n",
    "my_result = ' '.join([replace_dict.get(val) if val in replace_dict.keys() and my_list.index(val) != idx else val for idx, val in enumerate(my_list)])\n",
    "print(\"The string after replacing with values is : \")\n",
    "print(my_result)"
   ]
  },
  {
   "cell_type": "code",
   "execution_count": null,
   "id": "574bdfab",
   "metadata": {},
   "outputs": [],
   "source": []
  }
 ],
 "metadata": {
  "kernelspec": {
   "display_name": "Python 3 (ipykernel)",
   "language": "python",
   "name": "python3"
  },
  "language_info": {
   "codemirror_mode": {
    "name": "ipython",
    "version": 3
   },
   "file_extension": ".py",
   "mimetype": "text/x-python",
   "name": "python",
   "nbconvert_exporter": "python",
   "pygments_lexer": "ipython3",
   "version": "3.9.7"
  }
 },
 "nbformat": 4,
 "nbformat_minor": 5
}
