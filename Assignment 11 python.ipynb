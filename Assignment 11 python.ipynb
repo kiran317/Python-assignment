{
 "cells": [
  {
   "cell_type": "markdown",
   "id": "aa59792b",
   "metadata": {},
   "source": [
    "1. Python – Sort Dictionary key and values List\n"
   ]
  },
  {
   "cell_type": "code",
   "execution_count": 2,
   "id": "3325eb1f",
   "metadata": {},
   "outputs": [
    {
     "name": "stdout",
     "output_type": "stream",
     "text": [
      "Dictionary after sort:  {'best': [4, 19], 'gfg': [3, 6, 7], 'is': [2, 3, 10]}\n"
     ]
    }
   ],
   "source": [
    "test_dict = {'gfg': [7, 6, 3], \n",
    "             'is': [2, 10, 3], \n",
    "             'best': [19, 4]}\n",
    "res=dict()\n",
    "for key in sorted(test_dict):\n",
    "    res[key]=sorted(test_dict[key])\n",
    "print(\"Dictionary after sort: \",res)\n"
   ]
  },
  {
   "cell_type": "markdown",
   "id": "0144636f",
   "metadata": {},
   "source": [
    "2. Handling missing keys in Python dictionaries\n"
   ]
  },
  {
   "cell_type": "code",
   "execution_count": 3,
   "id": "98fea819",
   "metadata": {},
   "outputs": [
    {
     "name": "stdout",
     "output_type": "stream",
     "text": [
      "AU\n",
      "Key Not Present\n"
     ]
    }
   ],
   "source": [
    "import collections as col\n",
    "country_dict = col.defaultdict(lambda: 'Key Not Present')\n",
    "country_dict['India'] = 'IN'\n",
    "country_dict['Australia'] = 'AU'\n",
    "country_dict['Brazil'] = 'BR'\n",
    "print(country_dict['Australia'])\n",
    "print(country_dict['Canada'])"
   ]
  },
  {
   "cell_type": "markdown",
   "id": "972c43a5",
   "metadata": {},
   "source": [
    "3. Python dictionary with keys having multiple inputs\n"
   ]
  },
  {
   "cell_type": "code",
   "execution_count": 4,
   "id": "3d743fbd",
   "metadata": {},
   "outputs": [
    {
     "name": "stdout",
     "output_type": "stream",
     "text": [
      "The dictionary is :\n",
      "{(15, 26, 38): 3, (5, 4, 11): -2}\n"
     ]
    }
   ],
   "source": [
    "my_dict = {}\n",
    "\n",
    "a, b, c = 15, 26, 38\n",
    "my_dict[a, b, c] = a + b - c\n",
    "\n",
    "a, b, c = 5, 4, 11\n",
    "my_dict[a, b, c] = a + b - c\n",
    "\n",
    "print(\"The dictionary is :\")\n",
    "print(my_dict)"
   ]
  },
  {
   "cell_type": "markdown",
   "id": "876d0feb",
   "metadata": {},
   "source": [
    "4. Print anagrams together in Python using List and Dictionary\n"
   ]
  },
  {
   "cell_type": "code",
   "execution_count": 7,
   "id": "568e1cae",
   "metadata": {},
   "outputs": [
    {
     "name": "stdout",
     "output_type": "stream",
     "text": [
      "cat tac act dog god \n"
     ]
    }
   ],
   "source": [
    "def allanagrams(input):\n",
    "    dict={}\n",
    "    for strval in input:\n",
    "        key=' '.join(sorted(strval))\n",
    "        if key in dict.keys():\n",
    "            dict[key].append(strval)\n",
    "        else:\n",
    "            dict[key]=[]\n",
    "            dict[key].append(strval)\n",
    "    output=''\n",
    "    for key,value in dict.items():\n",
    "        output=output+' '.join(value)+' '\n",
    "    return output\n",
    "input=['cat', 'dog', 'tac', 'god', 'act']\n",
    "print (allanagrams(input))    \n",
    "        "
   ]
  },
  {
   "cell_type": "markdown",
   "id": "497dfe8f",
   "metadata": {},
   "source": [
    "5. K’th Non-repeating Character in Python using List Comprehension and OrderedDict\n"
   ]
  },
  {
   "cell_type": "code",
   "execution_count": 12,
   "id": "9f2ed9c7",
   "metadata": {},
   "outputs": [
    {
     "name": "stdout",
     "output_type": "stream",
     "text": [
      "p\n"
     ]
    }
   ],
   "source": [
    "from collections import OrderedDict \n",
    "  \n",
    "def kthRepeating(input,k): \n",
    "\n",
    "    dict=OrderedDict.fromkeys(input,0) \n",
    "\n",
    "    for ch in input: \n",
    "        dict[ch]+=1\n",
    " \n",
    "    nonRepeatDict = [key for (key,value) in dict.items() if value==1] \n",
    "\n",
    "    if len(nonRepeatDict) < k: \n",
    "        return 'Less than k non-repeating characters in input.' \n",
    "    else: \n",
    "        return nonRepeatDict[k-1] \n",
    "\n",
    "input = \"kirankirp\"\n",
    "k = 3\n",
    "print (kthRepeating(input, k)) "
   ]
  },
  {
   "cell_type": "markdown",
   "id": "9a21c123",
   "metadata": {},
   "source": [
    "6. Check if binary representations of two numbers are anagram\n"
   ]
  },
  {
   "cell_type": "code",
   "execution_count": 21,
   "id": "6c2fd226",
   "metadata": {},
   "outputs": [
    {
     "name": "stdout",
     "output_type": "stream",
     "text": [
      "Yes\n"
     ]
    }
   ],
   "source": [
    "from collections import Counter\n",
    "  \n",
    "def checkAnagram(num1,num2):\n",
    "\n",
    "    bin1 = bin(num1)[2:]\n",
    "    bin2 = bin(num2)[2:]\n",
    "\n",
    "    zeros = abs(len(bin1)-len(bin2))\n",
    "    if (len(bin1)>len(bin2)):\n",
    "         bin2 = zeros * '0' + bin2\n",
    "    else:\n",
    "         bin1 = zeros * '0' + bin1\n",
    "\n",
    "    dict1 = Counter(bin1)\n",
    "    dict2 = Counter(bin2)\n",
    "\n",
    "    if dict1 == dict2:\n",
    "         print('Yes')\n",
    "    else:\n",
    "         print('No')\n",
    "\n",
    "num1 = 4\n",
    "num2 = 8\n",
    "checkAnagram(num1,num2)"
   ]
  },
  {
   "cell_type": "markdown",
   "id": "1d1f9e00",
   "metadata": {},
   "source": [
    "7. Python Counter to find the size of largest subset of anagram words\n"
   ]
  },
  {
   "cell_type": "code",
   "execution_count": 64,
   "id": "bdf5b392",
   "metadata": {},
   "outputs": [
    {
     "name": "stdout",
     "output_type": "stream",
     "text": [
      "the largest subset of anagram is 4\n"
     ]
    }
   ],
   "source": [
    "from collections import Counter\n",
    "def largeana(str1):\n",
    "    str1=str1.split(' ')\n",
    "    for i in range(0,len(str1)):\n",
    "        str1[i]=\"\".join(sorted(str1[i]))\n",
    "    dict=Counter(str1)\n",
    "    print(\"the largest subset of anagram is\",max(dict.values()))    \n",
    "str1='qwe ewq rty ytr ytr ytr '\n",
    "largeana(str1)   \n",
    "        \n",
    "    "
   ]
  },
  {
   "cell_type": "markdown",
   "id": "b846411d",
   "metadata": {},
   "source": [
    "8. Python | Remove all duplicates words from a given sentence\n"
   ]
  },
  {
   "cell_type": "code",
   "execution_count": 38,
   "id": "d77fda89",
   "metadata": {},
   "outputs": [],
   "source": [
    "from collections import Counter"
   ]
  },
  {
   "cell_type": "code",
   "execution_count": 43,
   "id": "db7fd31b",
   "metadata": {},
   "outputs": [
    {
     "name": "stdout",
     "output_type": "stream",
     "text": [
      "pdu\n"
     ]
    }
   ],
   "source": [
    "\n",
    "def remove_duplicate(input):\n",
    "    dict=Counter(input)\n",
    "    res=''\n",
    "    for key,value in dict.items():\n",
    "        if dict[key]==1:\n",
    "            res=res + ' '.join(key)\n",
    "                 \n",
    "    print(res)\n",
    "input='kirankiranpandu'\n",
    "remove_duplicate(input)\n",
    "            \n",
    "        \n",
    "        \n",
    "        "
   ]
  },
  {
   "cell_type": "markdown",
   "id": "294b2f26",
   "metadata": {},
   "source": [
    "9. Python Dictionary to find mirror characters in a string\n"
   ]
  },
  {
   "cell_type": "code",
   "execution_count": 67,
   "id": "ad46afe0",
   "metadata": {},
   "outputs": [
    {
     "name": "stdout",
     "output_type": "stream",
     "text": [
      "pytslm\n"
     ]
    }
   ],
   "source": [
    "from collections import OrderedDict\n",
    "def MirrorChar(string,k):\n",
    "\n",
    "    order = 'abcdefghijklmnopqrstuvwxyz'\n",
    "    reverse = 'zyxwvutsrqponmlkjihgfedcba'\n",
    "    dictChars =OrderedDict(zip(order,reverse))\n",
    "   \n",
    "    pre = string[0:k-1]\n",
    "    suffix = string[k-1:]\n",
    "    mirror = ''\n",
    " \n",
    "    for i in range( len(suffix)):\n",
    "        \n",
    "        mirror = mirror + dictChars[suffix[i]]\n",
    " \n",
    "    print (pre+mirror)\n",
    "          \n",
    "st = 'python'\n",
    "k = 4\n",
    "MirrorChar(st,k)"
   ]
  },
  {
   "cell_type": "markdown",
   "id": "bbb99c30",
   "metadata": {},
   "source": [
    "10. Counting the frequencies in a list using dictionary in Python"
   ]
  },
  {
   "cell_type": "code",
   "execution_count": 6,
   "id": "381ab9b5",
   "metadata": {},
   "outputs": [
    {
     "name": "stdout",
     "output_type": "stream",
     "text": [
      " 1 :  4\n",
      " 2 :  2\n",
      " 3 :  3\n",
      " 4 :  3\n",
      " 5 :  2\n"
     ]
    }
   ],
   "source": [
    "def countfrequency(list1):\n",
    "    dict={}\n",
    "    for item in list1:\n",
    "        if(item in dict):\n",
    "            dict[item]+=1\n",
    "        else:\n",
    "            dict[item]=1\n",
    "    for key,values in dict.items():\n",
    "        print(\"% d : % d\"%(key, values))\n",
    "list1=[1,1,2,3,4,5,4,5,4,2,3,1,1,3]\n",
    "countfrequency(list1)\n",
    "        \n",
    "            "
   ]
  }
 ],
 "metadata": {
  "kernelspec": {
   "display_name": "Python 3 (ipykernel)",
   "language": "python",
   "name": "python3"
  },
  "language_info": {
   "codemirror_mode": {
    "name": "ipython",
    "version": 3
   },
   "file_extension": ".py",
   "mimetype": "text/x-python",
   "name": "python",
   "nbconvert_exporter": "python",
   "pygments_lexer": "ipython3",
   "version": "3.9.7"
  }
 },
 "nbformat": 4,
 "nbformat_minor": 5
}
