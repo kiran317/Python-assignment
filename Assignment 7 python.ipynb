{
 "cells": [
  {
   "cell_type": "markdown",
   "id": "73c39060",
   "metadata": {},
   "source": [
    "1. Reverse words in a given String in Python\n"
   ]
  },
  {
   "cell_type": "code",
   "execution_count": 37,
   "id": "35a334e4",
   "metadata": {},
   "outputs": [
    {
     "name": "stdout",
     "output_type": "stream",
     "text": [
      "Reversed String:\n",
      "much very program this like i\n"
     ]
    }
   ],
   "source": [
    "s = \"i like this program very much\"\n",
    "words = s.split(' ')\n",
    "string =[]\n",
    "for word in words:\n",
    "    string.insert(0, word)\n",
    "  \n",
    "print(\"Reversed String:\")\n",
    "print(\" \".join(string))"
   ]
  },
  {
   "cell_type": "markdown",
   "id": "76f2a5fa",
   "metadata": {},
   "source": [
    "2. Ways to remove i’th character from string in Python\n"
   ]
  },
  {
   "cell_type": "code",
   "execution_count": 11,
   "id": "8d09a389",
   "metadata": {},
   "outputs": [
    {
     "name": "stdout",
     "output_type": "stream",
     "text": [
      "GeksForGeeks\n"
     ]
    }
   ],
   "source": [
    "test_str = \"GeeksForGeeks\"\n",
    "new_str=''\n",
    "\n",
    "for i in range(len(test_str)):\n",
    "    if i!=2:\n",
    "        new_str=new_str+test_str[i]\n",
    "print(new_str)"
   ]
  },
  {
   "cell_type": "markdown",
   "id": "71f10376",
   "metadata": {},
   "source": [
    "3. Python | Check if a Substring is Present in a Given String\n"
   ]
  },
  {
   "cell_type": "code",
   "execution_count": 15,
   "id": "9e2d86d6",
   "metadata": {},
   "outputs": [
    {
     "name": "stdout",
     "output_type": "stream",
     "text": [
      "YES\n"
     ]
    }
   ],
   "source": [
    "def check(s2, s1): \n",
    "    if (s2.count(s1)>0):     \n",
    "        print(\"YES\") \n",
    "    else: \n",
    "        print(\"NO\") \n",
    "              \n",
    "s2 = \"A friend in need is a friend indeed\"\n",
    "s1 =\"friend\"\n",
    "check(s2, s1) "
   ]
  },
  {
   "cell_type": "markdown",
   "id": "34da9a31",
   "metadata": {},
   "source": [
    "4. Python – Words Frequency in String Shorthands\n"
   ]
  },
  {
   "cell_type": "code",
   "execution_count": 19,
   "id": "5386e250",
   "metadata": {},
   "outputs": [
    {
     "name": "stdout",
     "output_type": "stream",
     "text": [
      " This tutorial for Python tutorial\n",
      "{'This': 1, 'tutorial': 2, 'for': 1, 'Python': 1}\n"
     ]
    }
   ],
   "source": [
    "string=\" This tutorial for Python tutorial\"\n",
    "print(string) \n",
    "words={key:string.count(key) for key in string.split()}\n",
    "print(words)"
   ]
  },
  {
   "cell_type": "markdown",
   "id": "b8e17dcd",
   "metadata": {},
   "source": [
    "5. Python – Convert Snake case to Pascal case\n"
   ]
  },
  {
   "cell_type": "code",
   "execution_count": 24,
   "id": "96f20dd1",
   "metadata": {},
   "outputs": [
    {
     "name": "stdout",
     "output_type": "stream",
     "text": [
      "The original string is :  geeksforgeeks_is_best\n",
      "GeeksforgeeksIsBest\n"
     ]
    }
   ],
   "source": [
    "test_str = 'geeksforgeeks_is_best'\n",
    "print(\"The original string is : \",  test_str)\n",
    "res=test_str.replace(\"_\",\" \").title().replace(\" \",\"\")\n",
    "print(res)"
   ]
  },
  {
   "cell_type": "markdown",
   "id": "35876c40",
   "metadata": {},
   "source": [
    "6. Find length of a string in python (4 ways)"
   ]
  },
  {
   "cell_type": "code",
   "execution_count": 25,
   "id": "5c5a85c4",
   "metadata": {},
   "outputs": [
    {
     "name": "stdout",
     "output_type": "stream",
     "text": [
      "5\n"
     ]
    }
   ],
   "source": [
    "str = \"geeks\"\n",
    "print(len(str))"
   ]
  },
  {
   "cell_type": "code",
   "execution_count": 26,
   "id": "c4ddc9ed",
   "metadata": {},
   "outputs": [
    {
     "name": "stdout",
     "output_type": "stream",
     "text": [
      "5\n"
     ]
    }
   ],
   "source": [
    "def findLen(str):\n",
    "    counter = 0    \n",
    "    for i in str:\n",
    "        counter += 1\n",
    "    return counter\n",
    "  \n",
    "  \n",
    "str = \"geeks\"\n",
    "print(findLen(str))"
   ]
  },
  {
   "cell_type": "code",
   "execution_count": 29,
   "id": "72aef6ce",
   "metadata": {},
   "outputs": [
    {
     "name": "stdout",
     "output_type": "stream",
     "text": [
      "5\n"
     ]
    }
   ],
   "source": [
    "def findLen(str):\n",
    "    counter = 0  \n",
    "    while str[counter:]:\n",
    "        counter+=1\n",
    "    return counter\n",
    "str = \"geeks\"\n",
    "print(findLen(str))"
   ]
  },
  {
   "cell_type": "code",
   "execution_count": 30,
   "id": "6048c96d",
   "metadata": {},
   "outputs": [
    {
     "name": "stdout",
     "output_type": "stream",
     "text": [
      "5\n"
     ]
    }
   ],
   "source": [
    "def findLen(str):\n",
    "    if not str:\n",
    "        return 0\n",
    "    else:\n",
    "        some_random_str = 'py'\n",
    "        return ((some_random_str).join(str)).count(some_random_str) + 1\n",
    "  \n",
    "str = \"geeks\"\n",
    "print(findLen(str))"
   ]
  },
  {
   "cell_type": "markdown",
   "id": "f65f97d9",
   "metadata": {},
   "source": [
    "7. Python program to print even length words in a string\n"
   ]
  },
  {
   "cell_type": "code",
   "execution_count": 44,
   "id": "b87a4251",
   "metadata": {},
   "outputs": [
    {
     "name": "stdout",
     "output_type": "stream",
     "text": [
      "My name is "
     ]
    }
   ],
   "source": [
    "a=\"My name is kiran\"\n",
    "b=''\n",
    "for i in a.split():\n",
    "    if len(i)%2==0:\n",
    "        print(i,end=\" \")\n",
    "    "
   ]
  },
  {
   "cell_type": "markdown",
   "id": "0fa4e236",
   "metadata": {},
   "source": [
    "8. Python program to accept the strings which contains all vowels\n"
   ]
  },
  {
   "cell_type": "code",
   "execution_count": 49,
   "id": "9ea04236",
   "metadata": {},
   "outputs": [
    {
     "name": "stdout",
     "output_type": "stream",
     "text": [
      "accepted\n"
     ]
    }
   ],
   "source": [
    "def check(string):\n",
    "    if len(set(string.lower()).intersection(\"aeiou\")) >= 5:\n",
    "        return ('accepted')\n",
    "    else:\n",
    "        return (\"not accepted\")\n",
    "string = \"aaiieeoouu\"\n",
    "print(check(string))"
   ]
  },
  {
   "cell_type": "markdown",
   "id": "8928a490",
   "metadata": {},
   "source": [
    "9. Python | Count the Number of matching characters in a pair of string\n"
   ]
  },
  {
   "cell_type": "code",
   "execution_count": 54,
   "id": "48ac8e61",
   "metadata": {},
   "outputs": [
    {
     "name": "stdout",
     "output_type": "stream",
     "text": [
      "4\n"
     ]
    }
   ],
   "source": [
    "def count(str1,str2):\n",
    "    str1=set(str1)\n",
    "    str1=set(str2)\n",
    "    matched_charcter=str1.intersection(str2)\n",
    "    print(len(matched_charcter))\n",
    "str1='aacdbvc'\n",
    "str2='abcd'\n",
    "count(str1,str2)\n",
    "          \n"
   ]
  },
  {
   "cell_type": "markdown",
   "id": "a07fd1d0",
   "metadata": {},
   "source": [
    "10. Remove all duplicates from a given string in Python"
   ]
  },
  {
   "cell_type": "code",
   "execution_count": 63,
   "id": "68f25c72",
   "metadata": {},
   "outputs": [
    {
     "data": {
      "text/plain": [
       "'chiglka'"
      ]
     },
     "execution_count": 63,
     "metadata": {},
     "output_type": "execute_result"
    }
   ],
   "source": [
    "a='aagghklliach'\n",
    "b=set(a)\n",
    "str_val=\"\".join(b)\n",
    "str_val"
   ]
  },
  {
   "cell_type": "code",
   "execution_count": null,
   "id": "813ffc45",
   "metadata": {},
   "outputs": [],
   "source": []
  }
 ],
 "metadata": {
  "kernelspec": {
   "display_name": "Python 3 (ipykernel)",
   "language": "python",
   "name": "python3"
  },
  "language_info": {
   "codemirror_mode": {
    "name": "ipython",
    "version": 3
   },
   "file_extension": ".py",
   "mimetype": "text/x-python",
   "name": "python",
   "nbconvert_exporter": "python",
   "pygments_lexer": "ipython3",
   "version": "3.9.7"
  }
 },
 "nbformat": 4,
 "nbformat_minor": 5
}
