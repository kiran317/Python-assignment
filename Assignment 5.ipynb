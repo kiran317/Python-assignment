{
 "cells": [
  {
   "cell_type": "markdown",
   "id": "90c22e5d",
   "metadata": {},
   "source": [
    "1. Python program to print all negative numbers in a range\n"
   ]
  },
  {
   "cell_type": "code",
   "execution_count": 1,
   "id": "9c336db5",
   "metadata": {},
   "outputs": [
    {
     "name": "stdout",
     "output_type": "stream",
     "text": [
      "-5 -4 -3 -2 -1 "
     ]
    }
   ],
   "source": [
    "for i in range(-5,6):\n",
    "    if i<0:\n",
    "        print(i,end=\" \")"
   ]
  },
  {
   "cell_type": "markdown",
   "id": "2e109fba",
   "metadata": {},
   "source": [
    "2. Remove multiple elements from a list in Python\n"
   ]
  },
  {
   "cell_type": "code",
   "execution_count": 3,
   "id": "6c047887",
   "metadata": {},
   "outputs": [
    {
     "name": "stdout",
     "output_type": "stream",
     "text": [
      "[1, 6, 8, 0, 5, 6]\n"
     ]
    }
   ],
   "source": [
    "list=[1,2,3,6,8,0,5,6]\n",
    "del list[1:3]\n",
    "print(list)"
   ]
  },
  {
   "cell_type": "markdown",
   "id": "b31efa33",
   "metadata": {},
   "source": [
    "3. write a Python program to Remove empty List from List\n"
   ]
  },
  {
   "cell_type": "code",
   "execution_count": 28,
   "id": "ee8157c8",
   "metadata": {},
   "outputs": [
    {
     "name": "stdout",
     "output_type": "stream",
     "text": [
      "[1, 4, 7, 8, 9, 77, 9]\n"
     ]
    }
   ],
   "source": [
    "test_list=[1,4,7,8,[],9,77,[],9]\n",
    "b=[]\n",
    "for i in test_list:\n",
    "    if i!=[]:\n",
    "        b.append(i)\n",
    "print(b)\n",
    "        \n",
    "         \n",
    "        "
   ]
  },
  {
   "cell_type": "markdown",
   "id": "b5e404e7",
   "metadata": {},
   "source": [
    "4. write a Python program to Cloning or Copying a list\n"
   ]
  },
  {
   "cell_type": "code",
   "execution_count": 29,
   "id": "ba90ec3b",
   "metadata": {},
   "outputs": [
    {
     "name": "stdout",
     "output_type": "stream",
     "text": [
      "Original List: [4, 8, 2, 10, 15, 18]\n",
      "After Cloning: [4, 8, 2, 10, 15, 18]\n"
     ]
    }
   ],
   "source": [
    "def Cloning(li1):\n",
    "    li_copy = []\n",
    "    li_copy.extend(li1)\n",
    "    return li_copy\n",
    "li1 = [4, 8, 2, 10, 15, 18]\n",
    "li2 = Cloning(li1)\n",
    "print(\"Original List:\", li1)\n",
    "print(\"After Cloning:\", li2)"
   ]
  },
  {
   "cell_type": "markdown",
   "id": "f9f0a5c2",
   "metadata": {},
   "source": [
    "5. write a Python program to Count occurrences of an element in a list\n"
   ]
  },
  {
   "cell_type": "code",
   "execution_count": 31,
   "id": "2de41565",
   "metadata": {},
   "outputs": [
    {
     "name": "stdout",
     "output_type": "stream",
     "text": [
      "The occurance of 4 is  3\n"
     ]
    }
   ],
   "source": [
    "a=[4,5,4,6,4,8,9,0]\n",
    "print(\"The occurance of 4 is \",a.count(4))"
   ]
  },
  {
   "cell_type": "markdown",
   "id": "863d7560",
   "metadata": {},
   "source": [
    "6. write a Python program to Remove empty tuples from a list"
   ]
  },
  {
   "cell_type": "code",
   "execution_count": 32,
   "id": "53bd04f5",
   "metadata": {},
   "outputs": [
    {
     "name": "stdout",
     "output_type": "stream",
     "text": [
      "[1, 4, 7, 8, 9, 77, 9]\n"
     ]
    }
   ],
   "source": [
    "test_list=[1,4,7,8,(),9,77,(),9]\n",
    "b=[]\n",
    "for i in test_list:\n",
    "    if i!=():\n",
    "        b.append(i)\n",
    "print(b)"
   ]
  },
  {
   "cell_type": "markdown",
   "id": "eb56199f",
   "metadata": {},
   "source": [
    "7. write a Python program to Program to print duplicates from a list of integers\n"
   ]
  },
  {
   "cell_type": "code",
   "execution_count": 33,
   "id": "5be045ae",
   "metadata": {},
   "outputs": [
    {
     "name": "stdout",
     "output_type": "stream",
     "text": [
      "Duplicate integeres:  [10, 30, -10, -20]\n"
     ]
    }
   ],
   "source": [
    "def duplicate(li):\n",
    "    n=len(li)\n",
    "    dup=[]\n",
    "    for i in range(n):\n",
    "        k = i + 1\n",
    "        for j in range(k,n):\n",
    "            if li[i] == li[j] and li[i] not in dup:\n",
    "                dup.append(li[i])\n",
    "    return dup\n",
    "\n",
    "li=[ 10, 20, 30, -10, -20, 10, 80, -10, -20, 30]\n",
    "print(\"Duplicate integeres: \",duplicate(li))"
   ]
  },
  {
   "cell_type": "markdown",
   "id": "84541f24",
   "metadata": {},
   "source": [
    "8. write a Python program to find Cumulative sum of a list\n"
   ]
  },
  {
   "cell_type": "code",
   "execution_count": 1,
   "id": "9fed9a49",
   "metadata": {},
   "outputs": [
    {
     "name": "stdout",
     "output_type": "stream",
     "text": [
      "[10, 30, 60, 100, 150]\n"
     ]
    }
   ],
   "source": [
    "list=[10,20,30,40,50]\n",
    "new_list=[]\n",
    "j=0\n",
    "for i in range(0,len(list)):\n",
    "    j+=list[i]\n",
    "    new_list.append(j)\n",
    "     \n",
    "print(new_list)"
   ]
  },
  {
   "cell_type": "markdown",
   "id": "7322fafb",
   "metadata": {},
   "source": [
    "9. write a Python program to Sum of number digits in List\n"
   ]
  },
  {
   "cell_type": "code",
   "execution_count": 16,
   "id": "82f42be9",
   "metadata": {},
   "outputs": [
    {
     "name": "stdout",
     "output_type": "stream",
     "text": [
      "[3, 5, 13, 17, 16]\n"
     ]
    }
   ],
   "source": [
    "a=[12,32,67,89,97]\n",
    "res=[]\n",
    "\n",
    "for i in a :\n",
    "    sum=0\n",
    "     \n",
    "    for j in str(i):\n",
    "        \n",
    "        sum+=int(j)\n",
    "    res.append(sum)\n",
    "print(res)"
   ]
  },
  {
   "cell_type": "markdown",
   "id": "1bd8af58",
   "metadata": {},
   "source": [
    "10. write a Python program to Break a list into chunks of size N\n"
   ]
  },
  {
   "cell_type": "code",
   "execution_count": 21,
   "id": "8aea6a8d",
   "metadata": {},
   "outputs": [
    {
     "name": "stdout",
     "output_type": "stream",
     "text": [
      "Enter the value to split4\n",
      "[[1, 2, 3, 4], [5, 6, 7, 8], [9]]\n"
     ]
    }
   ],
   "source": [
    "a=[1,2,3,4,5,6,7,8,9]\n",
    "n=int(input(\"Enter the value to split\"))\n",
    "b=[]\n",
    "for i in range(0,len(a),n):\n",
    "    x=a[i:i+n]\n",
    "    b.append(x)\n",
    "print(b)\n",
    "\n",
    "    "
   ]
  },
  {
   "cell_type": "markdown",
   "id": "f5d04f85",
   "metadata": {},
   "source": [
    "11. write a Python program to Sort the values of first list using second list"
   ]
  },
  {
   "cell_type": "code",
   "execution_count": 22,
   "id": "b9fa722e",
   "metadata": {},
   "outputs": [
    {
     "name": "stdout",
     "output_type": "stream",
     "text": [
      "['a', 'd', 'h', 'b', 'c', 'e', 'i', 'f', 'g']\n",
      "['g', 'k', 'r', 'e', 'e', 'g', 's', 'f', 'o']\n"
     ]
    }
   ],
   "source": [
    "def sort_list(list1, list2):\n",
    " \n",
    "    zipped_pairs = zip(list2, list1)\n",
    " \n",
    "    z = [x for _, x in sorted(zipped_pairs)]\n",
    "     \n",
    "    return z\n",
    "     \n",
    "x = [\"a\", \"b\", \"c\", \"d\", \"e\", \"f\", \"g\", \"h\", \"i\"]\n",
    "y = [ 0,   1,   1,    0,   1,   2,   2,   0,   1]\n",
    " \n",
    "print(sort_list(x, y))\n",
    " \n",
    "x = [\"g\", \"e\", \"e\", \"k\", \"s\", \"f\", \"o\", \"r\", \"g\", \"e\", \"e\", \"k\", \"s\"]\n",
    "y = [ 0,   1,   1,    0,   1,   2,   2,   0,   1]\n",
    " \n",
    "print(sort_list(x, y))"
   ]
  },
  {
   "cell_type": "code",
   "execution_count": 29,
   "id": "7c998583",
   "metadata": {},
   "outputs": [
    {
     "name": "stdout",
     "output_type": "stream",
     "text": [
      "['a', 'd', 'h', 'b', 'c', 'e', 'i', 'f', 'g']\n"
     ]
    }
   ],
   "source": [
    "x = [\"a\", \"b\", \"c\", \"d\", \"e\", \"f\", \"g\", \"h\", \"i\"]\n",
    "y = [ 0,   1,   1,    0,   1,   2,   2,   0,   1]\n",
    "z=zip(y,x)\n",
    "b=[]\n",
    "for _,i in sorted(z):\n",
    "    b.append(i)\n",
    "print(b)\n",
    "   "
   ]
  }
 ],
 "metadata": {
  "kernelspec": {
   "display_name": "Python 3 (ipykernel)",
   "language": "python",
   "name": "python3"
  },
  "language_info": {
   "codemirror_mode": {
    "name": "ipython",
    "version": 3
   },
   "file_extension": ".py",
   "mimetype": "text/x-python",
   "name": "python",
   "nbconvert_exporter": "python",
   "pygments_lexer": "ipython3",
   "version": "3.9.7"
  }
 },
 "nbformat": 4,
 "nbformat_minor": 5
}
