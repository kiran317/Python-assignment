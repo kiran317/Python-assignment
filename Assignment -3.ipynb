{
 "cells": [
  {
   "cell_type": "markdown",
   "id": "4a2d1543",
   "metadata": {},
   "source": [
    "1. Python Program for Find reminder of array multiplication divided by n\n",
    "2. Python Program to check if given array is Monotonic\n",
    "3. Python program to interchange first and last elements in a list\n",
    "4. Python program to swap two elements in a list\n",
    "5. write a program to find length of list\n",
    "6. write a program to check if element exists in list\n",
    "7. write a program to clear a list in Python\n",
    "8. write a program to Reversing a List\n",
    "9. write a program to find sum of elements in list\n",
    "10. write a program to Multiply all numbers in the list"
   ]
  },
  {
   "cell_type": "code",
   "execution_count": null,
   "id": "464c90b2",
   "metadata": {},
   "outputs": [],
   "source": []
  },
  {
   "cell_type": "code",
   "execution_count": null,
   "id": "08587e32",
   "metadata": {},
   "outputs": [],
   "source": [
    "1. Python Program for Find reminder of array multiplication divided by n"
   ]
  },
  {
   "cell_type": "code",
   "execution_count": 5,
   "id": "9202b168",
   "metadata": {},
   "outputs": [
    {
     "name": "stdout",
     "output_type": "stream",
     "text": [
      "Reminder of of array multiplication devided by n is : 4\n"
     ]
    }
   ],
   "source": [
    "a=[1,2,3,4,6]\n",
    "def mul(n):\n",
    "    m=1\n",
    "    for i in a:\n",
    "        m=m*i\n",
    "    return m\n",
    "arr_mul=mul(a)    \n",
    "c=arr_mul%len(a)\n",
    "print(\"Reminder of of array multiplication devided by n is :\",c)"
   ]
  },
  {
   "cell_type": "code",
   "execution_count": null,
   "id": "e32d8b88",
   "metadata": {},
   "outputs": [],
   "source": [
    "2. Python Program to check if given array is Monotonic"
   ]
  },
  {
   "cell_type": "code",
   "execution_count": 7,
   "id": "243da86c",
   "metadata": {},
   "outputs": [
    {
     "name": "stdout",
     "output_type": "stream",
     "text": [
      "False\n"
     ]
    }
   ],
   "source": [
    "def isMonotonic(A):\n",
    "  \n",
    "    return (all(A[i] <= A[i + 1] for i in range(len(A) - 1)) or\n",
    "            all(A[i] >= A[i + 1] for i in range(len(A) - 1)))\n",
    "  \n",
    "A = [6, 5, 4, 8]\n",
    "  \n",
    "print(isMonotonic(A))\n",
    "  "
   ]
  },
  {
   "cell_type": "code",
   "execution_count": null,
   "id": "06818121",
   "metadata": {},
   "outputs": [],
   "source": [
    "3. Python program to interchange first and last elements in a list"
   ]
  },
  {
   "cell_type": "code",
   "execution_count": 9,
   "id": "5b810f38",
   "metadata": {},
   "outputs": [
    {
     "name": "stdout",
     "output_type": "stream",
     "text": [
      "[5, 2, 3, 4, 1]\n"
     ]
    }
   ],
   "source": [
    "a=[1,2,3,4,5]\n",
    "start=a[0]\n",
    "end=a[len(a)-1]\n",
    "a[len(a)-1]=start\n",
    "a[0]=end\n",
    "print(a)"
   ]
  },
  {
   "cell_type": "code",
   "execution_count": null,
   "id": "137a50b2",
   "metadata": {},
   "outputs": [],
   "source": [
    "4. Python program to swap two elements in a list"
   ]
  },
  {
   "cell_type": "code",
   "execution_count": 13,
   "id": "aa31fbb8",
   "metadata": {},
   "outputs": [
    {
     "name": "stdout",
     "output_type": "stream",
     "text": [
      "[23, 90, 19, 65]\n"
     ]
    }
   ],
   "source": [
    "def swapPositions(list, pos1, pos2):\n",
    "    first_ele = list.pop(pos1)  \n",
    "    second_ele = list.pop(pos2-1)\n",
    "    \n",
    "    list.insert(pos1, second_ele) \n",
    "    list.insert(pos2, first_ele) \n",
    "                       \n",
    "    return list\n",
    " \n",
    "List = [23, 65, 19, 90]\n",
    "pos1, pos2  = 1, 3\n",
    " \n",
    "print(swapPositions(List, pos1, pos2))\n"
   ]
  },
  {
   "cell_type": "code",
   "execution_count": null,
   "id": "546f5dd7",
   "metadata": {},
   "outputs": [],
   "source": [
    "5. write a program to find length of list"
   ]
  },
  {
   "cell_type": "code",
   "execution_count": 14,
   "id": "edc41573",
   "metadata": {},
   "outputs": [
    {
     "name": "stdout",
     "output_type": "stream",
     "text": [
      "Length of list is 5\n"
     ]
    }
   ],
   "source": [
    "a=[1,2,3,4,5]\n",
    "Length=len(a)\n",
    "print('Length of list is',Length)"
   ]
  },
  {
   "cell_type": "code",
   "execution_count": null,
   "id": "bf505c89",
   "metadata": {},
   "outputs": [],
   "source": [
    "6. write a program to check if element exists in list"
   ]
  },
  {
   "cell_type": "code",
   "execution_count": 17,
   "id": "032ce4cd",
   "metadata": {},
   "outputs": [
    {
     "data": {
      "text/plain": [
       "True"
      ]
     },
     "execution_count": 17,
     "metadata": {},
     "output_type": "execute_result"
    }
   ],
   "source": [
    "a=[2,4,6,8,9]\n",
    "4 in a"
   ]
  },
  {
   "cell_type": "code",
   "execution_count": null,
   "id": "dc9fb912",
   "metadata": {},
   "outputs": [],
   "source": [
    "7. write a program to clear a list in Python"
   ]
  },
  {
   "cell_type": "code",
   "execution_count": 19,
   "id": "3b00ab78",
   "metadata": {},
   "outputs": [
    {
     "name": "stdout",
     "output_type": "stream",
     "text": [
      "[]\n"
     ]
    }
   ],
   "source": [
    "a=[1,3,5,6,7]\n",
    "a.clear()\n",
    "print(a)"
   ]
  },
  {
   "cell_type": "code",
   "execution_count": null,
   "id": "ee8c9a16",
   "metadata": {},
   "outputs": [],
   "source": [
    "8. write a program to Reversing a List"
   ]
  },
  {
   "cell_type": "code",
   "execution_count": 32,
   "id": "da9ae7b5",
   "metadata": {},
   "outputs": [
    {
     "name": "stdout",
     "output_type": "stream",
     "text": [
      "[15, 14, 13, 12, 11, 10]\n"
     ]
    }
   ],
   "source": [
    "def Reverse(lst):\n",
    "    lst.reverse()\n",
    "    return lst\n",
    "     \n",
    "lst = [10, 11, 12, 13, 14, 15]\n",
    "print(Reverse(lst))\n"
   ]
  },
  {
   "cell_type": "code",
   "execution_count": null,
   "id": "a2f968ed",
   "metadata": {},
   "outputs": [],
   "source": [
    "9. write a program to find sum of elements in list"
   ]
  },
  {
   "cell_type": "code",
   "execution_count": 33,
   "id": "d3056225",
   "metadata": {},
   "outputs": [
    {
     "data": {
      "text/plain": [
       "15"
      ]
     },
     "execution_count": 33,
     "metadata": {},
     "output_type": "execute_result"
    }
   ],
   "source": [
    "a=[1,2,3,4,5]\n",
    "sum(a)"
   ]
  },
  {
   "cell_type": "code",
   "execution_count": null,
   "id": "4a79c202",
   "metadata": {},
   "outputs": [],
   "source": [
    "10. write a program to Multiply all numbers in the list"
   ]
  },
  {
   "cell_type": "code",
   "execution_count": 10,
   "id": "d1b795e4",
   "metadata": {},
   "outputs": [
    {
     "name": "stdout",
     "output_type": "stream",
     "text": [
      "120\n"
     ]
    }
   ],
   "source": [
    "a=[1,2,3,4,5]\n",
    "mul=1\n",
    "for i in a:\n",
    "    mul=mul*i\n",
    "        \n",
    "print(mul)\n",
    "    "
   ]
  }
 ],
 "metadata": {
  "kernelspec": {
   "display_name": "Python 3 (ipykernel)",
   "language": "python",
   "name": "python3"
  },
  "language_info": {
   "codemirror_mode": {
    "name": "ipython",
    "version": 3
   },
   "file_extension": ".py",
   "mimetype": "text/x-python",
   "name": "python",
   "nbconvert_exporter": "python",
   "pygments_lexer": "ipython3",
   "version": "3.9.7"
  }
 },
 "nbformat": 4,
 "nbformat_minor": 5
}
