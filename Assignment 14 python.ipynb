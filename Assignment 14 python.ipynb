{
 "cells": [
  {
   "cell_type": "markdown",
   "id": "fc3bd1e4",
   "metadata": {},
   "source": [
    "1. Python Program for Recursive Insertion Sort\n"
   ]
  },
  {
   "cell_type": "code",
   "execution_count": 1,
   "id": "15c0e418",
   "metadata": {},
   "outputs": [
    {
     "name": "stdout",
     "output_type": "stream",
     "text": [
      "The Original array is:  [9, 1, 7, 3, 5]\n",
      "The Sorted array is : [1, 3, 5, 7, 9]\n"
     ]
    }
   ],
   "source": [
    "def insertion_sort(arr, Len):\n",
    "\n",
    "    if Len <= 1:\n",
    "        return\n",
    "    insertion_sort(arr, Len - 1)\n",
    "    end = arr[Len - 1]\n",
    "    \n",
    "    i = Len - 2\n",
    "    while(i>=0 and arr[i] > end):\n",
    "\n",
    "        arr[i+1] = arr[i]\n",
    "        i = i - 1\n",
    "\n",
    "    arr[i + 1] = end\n",
    "\n",
    "array = [9, 1, 7, 3, 5]\n",
    "print(\"The Original array is: \", array)\n",
    "\n",
    "insertion_sort(array, len(array))\n",
    "print(\"The Sorted array is :\", array)"
   ]
  },
  {
   "cell_type": "markdown",
   "id": "57703a86",
   "metadata": {},
   "source": [
    "2. Python Program for QuickSort\n"
   ]
  },
  {
   "cell_type": "code",
   "execution_count": 2,
   "id": "9cf12f37",
   "metadata": {},
   "outputs": [
    {
     "name": "stdout",
     "output_type": "stream",
     "text": [
      "Sorted array is:\n",
      "1\n",
      "5\n",
      "7\n",
      "8\n",
      "9\n",
      "10\n"
     ]
    }
   ],
   "source": [
    "def partition(arr, low, high):\n",
    "    i = (low-1)         \n",
    "    pivot = arr[high]     \n",
    " \n",
    "    for j in range(low, high):\n",
    "\n",
    "        if arr[j] <= pivot:\n",
    "\n",
    "            i = i+1\n",
    "            arr[i], arr[j] = arr[j], arr[i]\n",
    " \n",
    "    arr[i+1], arr[high] = arr[high], arr[i+1]\n",
    "    return (i+1)\n",
    " \n",
    "def quickSort(arr, low, high):\n",
    "    if len(arr) == 1:\n",
    "        return arr\n",
    "    if low < high:\n",
    "\n",
    "        pi = partition(arr, low, high)\n",
    "\n",
    "        quickSort(arr, low, pi-1)\n",
    "        quickSort(arr, pi+1, high)\n",
    "\n",
    "arr = [10, 7, 8, 9, 1, 5]\n",
    "n = len(arr)\n",
    "quickSort(arr, 0, n-1)\n",
    "print(\"Sorted array is:\")\n",
    "for i in range(n):\n",
    "    print(\"%d\" % arr[i])"
   ]
  },
  {
   "cell_type": "markdown",
   "id": "85b4d59c",
   "metadata": {},
   "source": [
    "3. Python Program for Iterative Quick Sort\n"
   ]
  },
  {
   "cell_type": "code",
   "execution_count": 3,
   "id": "d7534c10",
   "metadata": {},
   "outputs": [
    {
     "name": "stdout",
     "output_type": "stream",
     "text": [
      "Sorted array is:\n",
      "1\n",
      "2\n",
      "2\n",
      "3\n",
      "3\n",
      "3\n",
      "4\n",
      "5\n"
     ]
    }
   ],
   "source": [
    "def partition(arr,l,h):\n",
    "    i = ( l - 1 )\n",
    "    x = arr[h]\n",
    "  \n",
    "    for j in range(l , h):\n",
    "        if   arr[j] <= x:\n",
    "\n",
    "            i = i+1\n",
    "            arr[i],arr[j] = arr[j],arr[i]\n",
    "  \n",
    "    arr[i+1],arr[h] = arr[h],arr[i+1]\n",
    "    return (i+1)\n",
    "\n",
    "def quickSortIterative(arr,l,h):\n",
    "  \n",
    "    # Create an auxiliary stack\n",
    "    size = h - l + 1\n",
    "    stack = [0] * (size)\n",
    "\n",
    "    top = -1\n",
    "\n",
    "    top = top + 1\n",
    "    stack[top] = l\n",
    "    top = top + 1\n",
    "    stack[top] = h\n",
    "\n",
    "    while top >= 0:\n",
    "\n",
    "        h = stack[top]\n",
    "        top = top - 1\n",
    "        l = stack[top]\n",
    "        top = top - 1\n",
    "\n",
    "        p = partition( arr, l, h )\n",
    "  \n",
    "        if p-1 > l:\n",
    "            top = top + 1\n",
    "            stack[top] = l\n",
    "            top = top + 1\n",
    "            stack[top] = p - 1\n",
    "  \n",
    "        if p+1 < h:\n",
    "            top = top + 1\n",
    "            stack[top] = p + 1\n",
    "            top = top + 1\n",
    "            stack[top] = h\n",
    "\n",
    "arr = [4, 3, 5, 2, 1, 3, 2, 3]\n",
    "n = len(arr)\n",
    "quickSortIterative(arr, 0, n-1)\n",
    "print (\"Sorted array is:\")\n",
    "for i in range(n):\n",
    "    print (\"%d\" %arr[i]),"
   ]
  },
  {
   "cell_type": "markdown",
   "id": "033789da",
   "metadata": {},
   "source": [
    "4. Python Program for Selection Sort\n"
   ]
  },
  {
   "cell_type": "code",
   "execution_count": 4,
   "id": "19513e49",
   "metadata": {},
   "outputs": [
    {
     "name": "stdout",
     "output_type": "stream",
     "text": [
      "Sorted array\n",
      "11\n",
      "12\n",
      "22\n",
      "25\n",
      "64\n"
     ]
    }
   ],
   "source": [
    "import sys\n",
    "A = [64, 25, 12, 22, 11]\n",
    "\n",
    "for i in range(len(A)):\n",
    "\n",
    "    min_idx = i\n",
    "    for j in range(i+1, len(A)):\n",
    "        if A[min_idx] > A[j]:\n",
    "            min_idx = j\n",
    "\n",
    "    A[i], A[min_idx] = A[min_idx], A[i]\n",
    "\n",
    "print (\"Sorted array\")\n",
    "for i in range(len(A)):\n",
    "    print(\"%d\" %A[i]), "
   ]
  },
  {
   "cell_type": "markdown",
   "id": "05d2e2cf",
   "metadata": {},
   "source": [
    "5. Python Program for Bubble Sort\n"
   ]
  },
  {
   "cell_type": "code",
   "execution_count": 5,
   "id": "51e27a3a",
   "metadata": {},
   "outputs": [
    {
     "name": "stdout",
     "output_type": "stream",
     "text": [
      "Sorted array is:\n",
      " 11  12  22  25  34  64  90 "
     ]
    }
   ],
   "source": [
    "def bubbleSort(arr):\n",
    "    n = len(arr)\n",
    "\n",
    "    for i in range(n-1):\n",
    "\n",
    "        for j in range(0, n-i-1):\n",
    "\n",
    "            if arr[j] > arr[j + 1] :\n",
    "                arr[j], arr[j + 1] = arr[j + 1], arr[j]\n",
    " \n",
    "arr = [64, 34, 25, 12, 22, 11, 90]\n",
    " \n",
    "bubbleSort(arr)\n",
    " \n",
    "print (\"Sorted array is:\")\n",
    "for i in range(len(arr)):\n",
    "    print (\"% d\" % arr[i],end=\" \")"
   ]
  },
  {
   "cell_type": "markdown",
   "id": "269dc6d9",
   "metadata": {},
   "source": [
    "6. Python Program for Merge Sort\n"
   ]
  },
  {
   "cell_type": "code",
   "execution_count": 15,
   "id": "b11b35d3",
   "metadata": {},
   "outputs": [
    {
     "name": "stdout",
     "output_type": "stream",
     "text": [
      "Given array is\n",
      "12 11 13 5 6 7 \n",
      "\n",
      "Sorted array is\n",
      "5 6 7 11 12 13 "
     ]
    }
   ],
   "source": [
    "def merge(arr, l, m, r):\n",
    "    n1 = m - l + 1\n",
    "    n2 = r - m\n",
    " \n",
    "    L = [0] * (n1)\n",
    "    R = [0] * (n2)\n",
    " \n",
    "    for i in range(0, n1):\n",
    "        L[i] = arr[l + i]\n",
    " \n",
    "    for j in range(0, n2):\n",
    "        R[j] = arr[m + 1 + j]\n",
    " \n",
    "    \n",
    "    i = 0     \n",
    "    j = 0     \n",
    "    k = l    \n",
    " \n",
    "    while i < n1 and j < n2:\n",
    "        if L[i] <= R[j]:\n",
    "            arr[k] = L[i]\n",
    "            i += 1\n",
    "        else:\n",
    "            arr[k] = R[j]\n",
    "            j += 1\n",
    "        k += 1\n",
    " \n",
    "    while i < n1:\n",
    "        arr[k] = L[i]\n",
    "        i += 1\n",
    "        k += 1\n",
    "\n",
    "    while j < n2:\n",
    "        arr[k] = R[j]\n",
    "        j += 1\n",
    "        k += 1\n",
    " \n",
    "\n",
    " \n",
    "def mergeSort(arr, l, r):\n",
    "    if l < r:\n",
    "\n",
    "        m = l+(r-l)//2\n",
    " \n",
    "        mergeSort(arr, l, m)\n",
    "        mergeSort(arr, m+1, r)\n",
    "        merge(arr, l, m, r)\n",
    "\n",
    "arr = [12, 11, 13, 5, 6, 7]\n",
    "n = len(arr)\n",
    "print(\"Given array is\")\n",
    "for i in range(n):\n",
    "    print(\"%d\" % arr[i],end=\" \")\n",
    " \n",
    "mergeSort(arr, 0, n-1)\n",
    "print(\"\\n\\nSorted array is\")\n",
    "for i in range(n):\n",
    "    print(\"%d\" % arr[i],end=\" \")"
   ]
  },
  {
   "cell_type": "markdown",
   "id": "7dc24ffe",
   "metadata": {},
   "source": [
    "7. Python Program for Iterative Merge Sort\n"
   ]
  },
  {
   "cell_type": "code",
   "execution_count": 16,
   "id": "14da5f3d",
   "metadata": {},
   "outputs": [
    {
     "name": "stdout",
     "output_type": "stream",
     "text": [
      "Given array is\n",
      "[12, 11, 13, 5, 6, 7]\n",
      "\n",
      "\n",
      "Sorted array is\n",
      "[5, 6, 7, 11, 12, 13]\n"
     ]
    }
   ],
   "source": [
    "def merge(left, right):\n",
    "    if not len(left) or not len(right):\n",
    "        return left or right\n",
    " \n",
    "    result = []\n",
    "    i, j = 0, 0\n",
    "    while (len(result) < len(left) + len(right)):\n",
    "        if left[i] < right[j]:\n",
    "            result.append(left[i])\n",
    "            i+= 1\n",
    "        else:\n",
    "            result.append(right[j])\n",
    "            j+= 1\n",
    "        if i == len(left) or j == len(right):\n",
    "            result.extend(left[i:] or right[j:])\n",
    "            break\n",
    " \n",
    "    return result\n",
    " \n",
    "def mergesort(list):\n",
    "    if len(list) < 2:\n",
    "        return list\n",
    " \n",
    "    middle = int(len(list)/2)\n",
    "    left = mergesort(list[:middle])\n",
    "    right = mergesort(list[middle:])\n",
    " \n",
    "    return merge(left, right)\n",
    "     \n",
    "seq = [12, 11, 13, 5, 6, 7]\n",
    "print(\"Given array is\")\n",
    "print(seq);\n",
    "print(\"\\n\")\n",
    "print(\"Sorted array is\")\n",
    "print(mergesort(seq))"
   ]
  },
  {
   "cell_type": "markdown",
   "id": "4ed23f35",
   "metadata": {},
   "source": [
    "8. Python Program for Heap Sort\n"
   ]
  },
  {
   "cell_type": "code",
   "execution_count": 17,
   "id": "5a15e64c",
   "metadata": {},
   "outputs": [
    {
     "name": "stdout",
     "output_type": "stream",
     "text": [
      "Sorted array is\n",
      "5\n",
      "6\n",
      "7\n",
      "11\n",
      "12\n",
      "13\n"
     ]
    }
   ],
   "source": [
    "def heapify(arr, n, i):\n",
    "    largest = i \n",
    "    l = 2 * i + 1     \n",
    "    r = 2 * i + 2     \n",
    "\n",
    "    if l < n and arr[i] < arr[l]:\n",
    "        largest = l\n",
    "\n",
    "    if r < n and arr[largest] < arr[r]:\n",
    "        largest = r\n",
    "\n",
    "    if largest != i:\n",
    "        arr[i],arr[largest] = arr[largest],arr[i]  # swap\n",
    "\n",
    "        heapify(arr, n, largest)\n",
    "\n",
    "def heapSort(arr):\n",
    "    n = len(arr)\n",
    "\n",
    "    for i in range(n // 2 - 1, -1, -1):\n",
    "        heapify(arr, n, i)\n",
    "\n",
    "    for i in range(n-1, 0, -1):\n",
    "        arr[i], arr[0] = arr[0], arr[i]   # swap\n",
    "        heapify(arr, i, 0)\n",
    "\n",
    "arr = [ 12, 11, 13, 5, 6, 7]\n",
    "heapSort(arr)\n",
    "n = len(arr)\n",
    "print (\"Sorted array is\")\n",
    "for i in range(n):\n",
    "    print (\"%d\" %arr[i]),\n"
   ]
  },
  {
   "cell_type": "markdown",
   "id": "6f7ac027",
   "metadata": {},
   "source": [
    "9. Python Program for Counting Sort\n"
   ]
  },
  {
   "cell_type": "code",
   "execution_count": 18,
   "id": "b7c534ee",
   "metadata": {},
   "outputs": [
    {
     "name": "stdout",
     "output_type": "stream",
     "text": [
      "Sorted character array is eeeefggkkorss\n"
     ]
    }
   ],
   "source": [
    "def countSort(arr):\n",
    "\n",
    "    output = [0 for i in range(256)]\n",
    "\n",
    "    count = [0 for i in range(256)]\n",
    "\n",
    "    ans = [\"\" for _ in arr]\n",
    "\n",
    "    for i in arr:\n",
    "        count[ord(i)] += 1\n",
    "\n",
    "    for i in range(256):\n",
    "        count[i] += count[i-1]\n",
    "\n",
    "    for i in range(len(arr)):\n",
    "        output[count[ord(arr[i])]-1] = arr[i]\n",
    "        count[ord(arr[i])] -= 1\n",
    "\n",
    "    for i in range(len(arr)):\n",
    "        ans[i] = output[i]\n",
    "    return ans\n",
    "\n",
    "arr = \"geeksforgeeks\"\n",
    "ans = countSort(arr)\n",
    "print (\"Sorted character array is %s\"  %(\"\".join(ans)))"
   ]
  },
  {
   "cell_type": "markdown",
   "id": "2c3be001",
   "metadata": {},
   "source": [
    "10. Python Program for ShellSort"
   ]
  },
  {
   "cell_type": "code",
   "execution_count": null,
   "id": "48a92474",
   "metadata": {},
   "outputs": [],
   "source": [
    "def shellSort(arr):\n",
    "\n",
    "    n = len(arr)\n",
    "    gap = n/2\n",
    "\n",
    "    while gap > 0:\n",
    "  \n",
    "        for i in range(gap,n):\n",
    "\n",
    "            temp = arr[i]\n",
    "\n",
    "            j = i\n",
    "            while  j >= gap and arr[j-gap] >temp:\n",
    "                arr[j] = arr[j-gap]\n",
    "                j -= gap\n",
    "\n",
    "            arr[j] = temp\n",
    "        gap /= 2\n",
    "\n",
    "arr = [ 12, 34, 54, 2, 3]\n",
    "  \n",
    "n = len(arr)\n",
    "print (\"Array before sorting:\")\n",
    "for i in range(n):\n",
    "    print(arr[i]),\n",
    "  \n",
    "shellSort(arr)\n",
    "  \n",
    "print (\"\\nArray after sorting:\")\n",
    "for i in range(n):\n",
    "    print(arr[i]),"
   ]
  }
 ],
 "metadata": {
  "kernelspec": {
   "display_name": "Python 3 (ipykernel)",
   "language": "python",
   "name": "python3"
  },
  "language_info": {
   "codemirror_mode": {
    "name": "ipython",
    "version": 3
   },
   "file_extension": ".py",
   "mimetype": "text/x-python",
   "name": "python",
   "nbconvert_exporter": "python",
   "pygments_lexer": "ipython3",
   "version": "3.9.7"
  }
 },
 "nbformat": 4,
 "nbformat_minor": 5
}
