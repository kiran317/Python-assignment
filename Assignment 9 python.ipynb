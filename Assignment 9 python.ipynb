{
 "cells": [
  {
   "cell_type": "markdown",
   "id": "547d98b1",
   "metadata": {},
   "source": [
    "1. Python – Replace multiple words with K\n"
   ]
  },
  {
   "cell_type": "code",
   "execution_count": 2,
   "id": "3306dd91",
   "metadata": {},
   "outputs": [
    {
     "name": "stdout",
     "output_type": "stream",
     "text": [
      "The original string is :  Studytonight has best tutorials in python\n",
      "Studytonight has k k in k\n"
     ]
    }
   ],
   "source": [
    "test_string = 'Studytonight has best tutorials in python'\n",
    "print(\"The original string is : \" , str(test_string))\n",
    "replaced_string=[]  \n",
    "word_list = [\"best\", 'tutorials', 'python']\n",
    "replace_word = 'k'\n",
    "for i in test_string.split():\n",
    "    if i in word_list:\n",
    "        test_string.replace(i,replace_word)\n",
    "        replaced_string.append(replace_word)\n",
    "    else:\n",
    "        replaced_string.append(i)\n",
    "print(' '.join(replaced_string))"
   ]
  },
  {
   "cell_type": "markdown",
   "id": "4568d57f",
   "metadata": {},
   "source": [
    "2. Python | Permutation of a given string using inbuilt function\n"
   ]
  },
  {
   "cell_type": "code",
   "execution_count": 4,
   "id": "e8950f2f",
   "metadata": {},
   "outputs": [
    {
     "name": "stdout",
     "output_type": "stream",
     "text": [
      "ABC ACB BAC BCA CAB CBA "
     ]
    }
   ],
   "source": [
    "from itertools import permutations\n",
    "  \n",
    "def allPermutations(str):\n",
    "\n",
    "     permList = permutations(str)\n",
    "  \n",
    "     for perm in list(permList):\n",
    "         print (''.join(perm),end=\" \")\n",
    "str = 'ABC'\n",
    "allPermutations(str)"
   ]
  },
  {
   "cell_type": "markdown",
   "id": "5189ccd2",
   "metadata": {},
   "source": [
    "3. Python | Check for URL in a String\n"
   ]
  },
  {
   "cell_type": "code",
   "execution_count": 5,
   "id": "8ebf1dcb",
   "metadata": {},
   "outputs": [
    {
     "name": "stdout",
     "output_type": "stream",
     "text": [
      "Urls:  ['https://auth.geeksforgeeks.org/user/Chinmoy%20Lenka/articles', 'https://www.geeksforgeeks.org/']\n"
     ]
    }
   ],
   "source": [
    "import re\n",
    "  \n",
    "def Find(string):\n",
    "  \n",
    "    regex = r\"(?i)\\b((?:https?://|www\\d{0,3}[.]|[a-z0-9.\\-]+[.][a-z]{2,4}/)(?:[^\\s()<>]+|\\(([^\\s()<>]+|(\\([^\\s()<>]+\\)))*\\))+(?:\\(([^\\s()<>]+|(\\([^\\s()<>]+\\)))*\\)|[^\\s`!()\\[\\]{};:'\\\".,<>?«»“”‘’]))\"\n",
    "    url = re.findall(regex,string)      \n",
    "    return [x[0] for x in url]\n",
    "      \n",
    "string = 'My Profile: https://auth.geeksforgeeks.org/user/Chinmoy%20Lenka/articles in the portal of https://www.geeksforgeeks.org/'\n",
    "print(\"Urls: \", Find(string))"
   ]
  },
  {
   "cell_type": "markdown",
   "id": "91b471c8",
   "metadata": {},
   "source": [
    "4. Execute a String of Code in Python\n"
   ]
  },
  {
   "cell_type": "code",
   "execution_count": 13,
   "id": "28127e2c",
   "metadata": {},
   "outputs": [
    {
     "name": "stdout",
     "output_type": "stream",
     "text": [
      "120\n"
     ]
    }
   ],
   "source": [
    "def exec_code():\n",
    "    LOC = \"\"\"\n",
    "def factorial(num):\n",
    "    fact=1\n",
    "    for i in range(1,num+1):\n",
    "        fact = fact*i\n",
    "    return fact\n",
    "print(factorial(5))\n",
    "\"\"\"\n",
    "    exec(LOC)\n",
    "     \n",
    "\n",
    "exec_code()\n"
   ]
  },
  {
   "cell_type": "markdown",
   "id": "37aa5a25",
   "metadata": {},
   "source": [
    "5. String slicing in Python to rotate a string\n"
   ]
  },
  {
   "cell_type": "code",
   "execution_count": 16,
   "id": "3281c21a",
   "metadata": {},
   "outputs": [
    {
     "name": "stdout",
     "output_type": "stream",
     "text": [
      "Left Rotation :  cdefghab\n",
      "Right Rotation :  ghabcdef\n"
     ]
    }
   ],
   "source": [
    "def rotate(input,d): \n",
    "    Lfirst = input[0 : d] \n",
    "    Lsecond = input[d :] \n",
    "    Rfirst = input[0 : len(input)-d] \n",
    "    Rsecond = input[len(input)-d : ] \n",
    "  \n",
    "    print (\"Left Rotation : \", (Lsecond + Lfirst) )\n",
    "    print (\"Right Rotation : \", (Rsecond + Rfirst)) \n",
    "input='abcdefgh'\n",
    "d=2\n",
    "rotate(input,d)"
   ]
  },
  {
   "cell_type": "markdown",
   "id": "ea3080dc",
   "metadata": {},
   "source": [
    "6. String slicing in Python to check if a string can become empty by recursive deletion\n"
   ]
  },
  {
   "cell_type": "code",
   "execution_count": null,
   "id": "0f8d3515",
   "metadata": {},
   "outputs": [],
   "source": []
  },
  {
   "cell_type": "markdown",
   "id": "6b2f9401",
   "metadata": {},
   "source": [
    "7. Python Counter| Find all duplicate characters in string\n"
   ]
  },
  {
   "cell_type": "code",
   "execution_count": 18,
   "id": "d2201ba7",
   "metadata": {},
   "outputs": [
    {
     "name": "stdout",
     "output_type": "stream",
     "text": [
      "Duplicate characters in a given string: \n",
      "r\n",
      "e\n",
      "t\n",
      "s\n",
      "i\n"
     ]
    }
   ],
   "source": [
    "string = \"Great responsibility\";  \n",
    "   \n",
    "print(\"Duplicate characters in a given string: \");  \n",
    "for i in range(0, len(string)):  \n",
    "    count = 1;  \n",
    "    for j in range(i+1, len(string)):  \n",
    "        if(string[i] == string[j] and string[i] != ' '):  \n",
    "            count = count + 1;  \n",
    "            \n",
    "            string = string[:j] + '0' + string[j+1:];  \n",
    "    \n",
    "    if(count > 1 and string[i] != '0'):  \n",
    "        print(string[i]);  "
   ]
  },
  {
   "cell_type": "markdown",
   "id": "82845b52",
   "metadata": {},
   "source": [
    "8. Python – Replace all occurrences of a substring in a string\n"
   ]
  },
  {
   "cell_type": "code",
   "execution_count": 21,
   "id": "69850f49",
   "metadata": {},
   "outputs": [
    {
     "name": "stdout",
     "output_type": "stream",
     "text": [
      "The original string is : geeksforgeeks\n",
      "The string after swap :  accdsforaccds\n"
     ]
    }
   ],
   "source": [
    "test_str = \"geeksforgeeks\"\n",
    "  \n",
    "print(\"The original string is : \" + test_str)\n",
    "\n",
    "temp = str.maketrans(\"geek\", \"abcd\")\n",
    "test_str = test_str.translate(temp)\n",
    "\n",
    "print(\"The string after swap : \" , test_str) "
   ]
  },
  {
   "cell_type": "markdown",
   "id": "022c1b31",
   "metadata": {},
   "source": [
    "9. Python – Extract Unique values dictionary values\n"
   ]
  },
  {
   "cell_type": "code",
   "execution_count": 27,
   "id": "e531287e",
   "metadata": {},
   "outputs": [
    {
     "name": "stdout",
     "output_type": "stream",
     "text": [
      "[1, 2, 5, 6, 7, 8, 10, 11, 12]\n"
     ]
    }
   ],
   "source": [
    "test_dict = {'gfg' : [5, 6, 7, 8],\n",
    "             'is' : [10, 11, 7, 5],\n",
    "             'best' : [6, 12, 10, 8],\n",
    "             'for' : [1, 2, 5]}\n",
    "v=[]\n",
    "for i in test_dict.values():\n",
    "    for val in i:\n",
    "        v.append(val)\n",
    "print(sorted(set(v)))"
   ]
  },
  {
   "cell_type": "markdown",
   "id": "698aae60",
   "metadata": {},
   "source": [
    "10. Python program to find the sum of all items in a dictionary"
   ]
  },
  {
   "cell_type": "code",
   "execution_count": 28,
   "id": "63a2532d",
   "metadata": {},
   "outputs": [
    {
     "name": "stdout",
     "output_type": "stream",
     "text": [
      "Sum : 600\n"
     ]
    }
   ],
   "source": [
    "def returnSum(dict):\n",
    " \n",
    "    sum = 0\n",
    "    for i in dict.values():\n",
    "        sum = sum + i\n",
    " \n",
    "    return sum\n",
    "\n",
    "dict = {'a': 100, 'b': 200, 'c': 300}\n",
    "print(\"Sum :\", returnSum(dict))"
   ]
  },
  {
   "cell_type": "code",
   "execution_count": null,
   "id": "de31aeae",
   "metadata": {},
   "outputs": [],
   "source": []
  }
 ],
 "metadata": {
  "kernelspec": {
   "display_name": "Python 3 (ipykernel)",
   "language": "python",
   "name": "python3"
  },
  "language_info": {
   "codemirror_mode": {
    "name": "ipython",
    "version": 3
   },
   "file_extension": ".py",
   "mimetype": "text/x-python",
   "name": "python",
   "nbconvert_exporter": "python",
   "pygments_lexer": "ipython3",
   "version": "3.9.7"
  }
 },
 "nbformat": 4,
 "nbformat_minor": 5
}
