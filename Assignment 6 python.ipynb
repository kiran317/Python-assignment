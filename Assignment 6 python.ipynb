{
 "cells": [
  {
   "cell_type": "markdown",
   "id": "98ae90b1",
   "metadata": {},
   "source": [
    "1. Python program to add two Matrices\n"
   ]
  },
  {
   "cell_type": "code",
   "execution_count": 9,
   "id": "55d9fff4",
   "metadata": {},
   "outputs": [
    {
     "name": "stdout",
     "output_type": "stream",
     "text": [
      "[17, 15, 4]\n",
      "[10, 12, 9]\n",
      "[11, 13, 18]\n"
     ]
    }
   ],
   "source": [
    "X = [[12,7,3],\n",
    "    [4 ,5,6],\n",
    "    [7 ,8,9]]\n",
    "\n",
    "Y = [[5,8,1],\n",
    "    [6,7,3],\n",
    "    [4,5,9]]\n",
    "\n",
    "result = [[0,0,0],\n",
    "         [0,0,0],\n",
    "         [0,0,0]]\n",
    "\n",
    "for i in range(len(X)):\n",
    " \n",
    "   for j in range(len(X[0])):\n",
    "       result[i][j] = X[i][j] + Y[i][j]\n",
    "\n",
    "for r in result:\n",
    "   print(r)\n"
   ]
  },
  {
   "cell_type": "markdown",
   "id": "44d7e3bd",
   "metadata": {},
   "source": [
    "2. Python program to multiply two matrices\n"
   ]
  },
  {
   "cell_type": "code",
   "execution_count": 13,
   "id": "e11f5454",
   "metadata": {},
   "outputs": [
    {
     "name": "stdout",
     "output_type": "stream",
     "text": [
      "[114 160  60]\n",
      "[74 97 73]\n",
      "[119 157 112]\n"
     ]
    }
   ],
   "source": [
    "import numpy as np\n",
    "A = [[12, 7, 3],\n",
    "    [4, 5, 6],\n",
    "    [7, 8, 9]]\n",
    " \n",
    "B = [[5,8,1],\n",
    "    [6,7,3],\n",
    "    [4,5,9]]\n",
    "\n",
    " \n",
    "result= [[0,0,0],\n",
    "         [0,0,0],\n",
    "         [0,0,0]]\n",
    " \n",
    "result = np.dot(A,B)\n",
    " \n",
    "for r in result:\n",
    "    print(r)"
   ]
  },
  {
   "cell_type": "markdown",
   "id": "80c16368",
   "metadata": {},
   "source": [
    "3. Python program for Matrix Product\n"
   ]
  },
  {
   "cell_type": "code",
   "execution_count": 16,
   "id": "2186afd9",
   "metadata": {},
   "outputs": [
    {
     "name": "stdout",
     "output_type": "stream",
     "text": [
      "[114, 160, 60, 27]\n",
      "[74, 97, 73, 14]\n",
      "[119, 157, 112, 23]\n"
     ]
    }
   ],
   "source": [
    "A = [[12, 7, 3],\n",
    "    [4, 5, 6],\n",
    "    [7, 8, 9]]\n",
    " \n",
    "B = [[5, 8, 1, 2],\n",
    "    [6, 7, 3, 0],\n",
    "    [4, 5, 9, 1]]\n",
    "     \n",
    "result = [[0, 0, 0, 0],\n",
    "        [0, 0, 0, 0],\n",
    "        [0, 0, 0, 0]]\n",
    "for i in range(len(A)):\n",
    "    for j in range(len(B[0])):\n",
    "        for k in range (len(B)):\n",
    "            result[i][j]+=A[i][k]*B[k][j]\n",
    "for r in result:\n",
    "    print(r)"
   ]
  },
  {
   "cell_type": "markdown",
   "id": "c827a66f",
   "metadata": {},
   "source": [
    "4. Adding and Subtracting Matrices in Python\n"
   ]
  },
  {
   "cell_type": "code",
   "execution_count": 21,
   "id": "d47b7a93",
   "metadata": {},
   "outputs": [
    {
     "name": "stdout",
     "output_type": "stream",
     "text": [
      "Addition of 2 Matrix is : [[ 5  7]\n",
      " [ 9 11]]\n",
      "Subtraction of 2 Matrix is : [[-3 -3]\n",
      " [-3 -3]]\n"
     ]
    }
   ],
   "source": [
    "A = np.array([[1, 2], [3, 4]])\n",
    "B = np.array([[4, 5], [6, 7]])\n",
    "addition=np.add(A,B)\n",
    "print(\"Addition of 2 Matrix is :\",addition)\n",
    "subtrac=np.subtract(A,B)\n",
    "print(\"Subtraction of 2 Matrix is :\",subtrac)"
   ]
  },
  {
   "cell_type": "markdown",
   "id": "93c7ba2d",
   "metadata": {},
   "source": [
    "5. Transpose a matrix in Single line in Python\n"
   ]
  },
  {
   "cell_type": "code",
   "execution_count": 23,
   "id": "3046c179",
   "metadata": {},
   "outputs": [
    {
     "name": "stdout",
     "output_type": "stream",
     "text": [
      "[[1, 2, 3], [4, 5, 6]]\n",
      "\n",
      "\n",
      "[[1 4]\n",
      " [2 5]\n",
      " [3 6]]\n"
     ]
    }
   ],
   "source": [
    "import numpy as np\n",
    "matrix=[[1,2,3],[4,5,6]]\n",
    "print(matrix)\n",
    "print(\"\\n\")\n",
    "print(np.transpose(matrix))"
   ]
  },
  {
   "cell_type": "markdown",
   "id": "359a0233",
   "metadata": {},
   "source": [
    "6. Python | Matrix creation of n*n\n"
   ]
  },
  {
   "cell_type": "code",
   "execution_count": 24,
   "id": "a30830a4",
   "metadata": {},
   "outputs": [
    {
     "name": "stdout",
     "output_type": "stream",
     "text": [
      "The created matrix of 4 * 4: \n",
      "[1, 2, 3, 4]\n",
      "[5, 6, 7, 8]\n",
      "[9, 10, 11, 12]\n",
      "[13, 14, 15, 16]\n"
     ]
    }
   ],
   "source": [
    "n = 4\n",
    "matrix = [list(range(1 + n * i, 1 + n * (i + 1))) for i in range(n)]\n",
    "print(\"The created matrix of {} * {}: \".format(n,n))\n",
    "for m in matrix:\n",
    "    print(m)"
   ]
  },
  {
   "cell_type": "markdown",
   "id": "a76c12d0",
   "metadata": {},
   "source": [
    "7. Python | Get Kth Column of Matrix\n"
   ]
  },
  {
   "cell_type": "code",
   "execution_count": 28,
   "id": "20ed7a99",
   "metadata": {},
   "outputs": [
    {
     "name": "stdout",
     "output_type": "stream",
     "text": [
      "The Kth column of matrix is : [6, 10, 5]\n"
     ]
    }
   ],
   "source": [
    "a = [[4, 5, 6], [8, 1, 10], [7, 12, 5]]\n",
    "K = 2\n",
    "  \n",
    "res = [i[K] for i in a]\n",
    "  \n",
    "print(\"The Kth column of matrix is : \" + str(res))"
   ]
  },
  {
   "cell_type": "markdown",
   "id": "6909ef53",
   "metadata": {},
   "source": [
    "8. Python – Vertical Concatenation in Matrix\n"
   ]
  },
  {
   "cell_type": "code",
   "execution_count": 40,
   "id": "9c09500d",
   "metadata": {},
   "outputs": [
    {
     "name": "stdout",
     "output_type": "stream",
     "text": [
      "The original list : [['Gfg', 'good'], ['is', 'for'], ['Best']]\n",
      "List after column Concatenation : ['GfgisBest', 'goodfor']\n"
     ]
    }
   ],
   "source": [
    "test_list = [[\"Gfg\", \"good\"], [\"is\", \"for\"], [\"Best\"]]\n",
    "print(\"The original list : \" + str(test_list))\n",
    "res = []\n",
    "N = 0\n",
    "while N != len(test_list):\n",
    "    temp = ''\n",
    "    for idx in test_list:\n",
    "          \n",
    "\n",
    "        try: temp = temp + idx[N]\n",
    "        except IndexError: pass\n",
    "    res.append(temp)\n",
    "    N = N + 1\n",
    "  \n",
    "res = [ele for ele in res if ele]\n",
    "  \n",
    "print(\"List after column Concatenation : \" + str(res))\n",
    "        "
   ]
  },
  {
   "cell_type": "markdown",
   "id": "de324859",
   "metadata": {},
   "source": [
    "9. Python program to check if a string is palindrome or not\n"
   ]
  },
  {
   "cell_type": "code",
   "execution_count": null,
   "id": "5abe50b8",
   "metadata": {},
   "outputs": [],
   "source": [
    "def isPalindrome(s):\n",
    "    return s == s[::-1]\n",
    "s = \"malayalam\"\n",
    "ans = isPalindrome(s)\n",
    " \n",
    "if ans:\n",
    "    print(\"Yes\")\n",
    "else:\n",
    "    print(\"No\")"
   ]
  },
  {
   "cell_type": "markdown",
   "id": "26f4a64b",
   "metadata": {},
   "source": [
    "10. Python program to check whether the string is Symmetrical or Palindrome"
   ]
  },
  {
   "cell_type": "code",
   "execution_count": 64,
   "id": "b50c63dc",
   "metadata": {},
   "outputs": [
    {
     "name": "stdout",
     "output_type": "stream",
     "text": [
      "input a stringamaama\n",
      "The string is a palindrome\n",
      "The string is symmetrical\n"
     ]
    }
   ],
   "source": [
    "def isPalindrome(s):\n",
    "    return s == s[::-1]\n",
    "s =input(\"input a string\")\n",
    "ans = isPalindrome(s)\n",
    " \n",
    "if ans:\n",
    "    print(\"The string is a palindrome\")\n",
    "else:\n",
    "    print(\"The string is not a palindrome\")\n",
    "def issymmetric(s):\n",
    "    \n",
    "    n=len(s)\n",
    "    flag=0\n",
    "    if n%2:\n",
    "        mid=n//2+1\n",
    "    else:\n",
    "        mid=n//2\n",
    "    start1=0\n",
    "    end1=mid\n",
    "    while(start1<mid and end1<n):\n",
    "        if(s[start1]==s[end1]):\n",
    "            start1=start1+1\n",
    "            end1=end1+1\n",
    "        else:\n",
    "            flag=1\n",
    "            break\n",
    "    if flag==0:\n",
    "        print(\"The string is symmetrical\")\n",
    "    else:\n",
    "        print(\"The string is not symmetrical\")\n",
    "\n",
    "isPalindrome(s)\n",
    "issymmetric(s)\n",
    "    \n"
   ]
  },
  {
   "cell_type": "code",
   "execution_count": null,
   "id": "c4252aef",
   "metadata": {},
   "outputs": [],
   "source": []
  }
 ],
 "metadata": {
  "kernelspec": {
   "display_name": "Python 3 (ipykernel)",
   "language": "python",
   "name": "python3"
  },
  "language_info": {
   "codemirror_mode": {
    "name": "ipython",
    "version": 3
   },
   "file_extension": ".py",
   "mimetype": "text/x-python",
   "name": "python",
   "nbconvert_exporter": "python",
   "pygments_lexer": "ipython3",
   "version": "3.9.7"
  }
 },
 "nbformat": 4,
 "nbformat_minor": 5
}
