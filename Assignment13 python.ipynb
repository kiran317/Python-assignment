{
 "cells": [
  {
   "cell_type": "markdown",
   "id": "91a22c1d",
   "metadata": {},
   "source": [
    "1. Python – Join Tuples if similar initial element\n"
   ]
  },
  {
   "cell_type": "code",
   "execution_count": 20,
   "id": "d0787076",
   "metadata": {},
   "outputs": [
    {
     "name": "stdout",
     "output_type": "stream",
     "text": [
      "Do not have similar initial number\n"
     ]
    }
   ],
   "source": [
    "a=(3,3,4)\n",
    "b=(1,4,6,7,8)\n",
    "if a[0]==b[0]:\n",
    "    print(a+b)\n",
    "else:\n",
    "    print('Do not have similar initial number')\n"
   ]
  },
  {
   "cell_type": "code",
   "execution_count": 21,
   "id": "d3fb9d88",
   "metadata": {},
   "outputs": [
    {
     "name": "stdout",
     "output_type": "stream",
     "text": [
      "The original list is :  [(5, 6), (5, 7), (6, 8), (6, 10), (7, 13)]\n",
      "The extracted elements : [(5, 6, 7), (6, 8, 10), (7, 13)]\n"
     ]
    }
   ],
   "source": [
    "test_list = [(5, 6), (5, 7), (6, 8), (6, 10), (7, 13)]\n",
    "\n",
    "print(\"The original list is : \" ,test_list)\n",
    "\n",
    "res = []\n",
    "for sub in test_list:                                           \n",
    "    if res and res[-1][0] == sub[0]:              \n",
    "        res[-1].extend(sub[1:])                        \n",
    "    else:\n",
    "        res.append([ele for ele in sub])     \n",
    "res = list(map(tuple, res))\n",
    "\n",
    "print(\"The extracted elements : \" + str(res)) "
   ]
  },
  {
   "cell_type": "markdown",
   "id": "a61b201e",
   "metadata": {},
   "source": [
    "2. Python – Extract digits from Tuple list\n"
   ]
  },
  {
   "cell_type": "code",
   "execution_count": 22,
   "id": "81be6a35",
   "metadata": {},
   "outputs": [
    {
     "name": "stdout",
     "output_type": "stream",
     "text": [
      "Orignal list :  [(25, 13), (13, 19), (11, 10), (99, 12)]\n",
      "set of digits:  {'2', '9', '3', '1', '5', '0'}\n"
     ]
    }
   ],
   "source": [
    "from itertools import chain\n",
    "List = [(25, 13), (13, 19), (11, 10), (99, 12)]\n",
    "print(\"Orignal list : \", List)\n",
    "temp = map(lambda a: str(a), chain.from_iterable(List))\n",
    "result = set()\n",
    "for i in temp:\n",
    "   for digit in i:\n",
    "      result.add(digit)\n",
    "print(\"set of digits: \",result)"
   ]
  },
  {
   "cell_type": "markdown",
   "id": "8d80bcb6",
   "metadata": {},
   "source": [
    "3. Python – All pair combinations of 2 tuples\n"
   ]
  },
  {
   "cell_type": "code",
   "execution_count": 25,
   "id": "1520e2ef",
   "metadata": {},
   "outputs": [
    {
     "name": "stdout",
     "output_type": "stream",
     "text": [
      "The original tuple 1 : (4, 5)\n",
      "The original tuple 2 : (7, 8)\n",
      "The filtered tuple : [(4, 7), (4, 8), (5, 7), (5, 8), (7, 4), (7, 5), (8, 4), (8, 5)]\n"
     ]
    }
   ],
   "source": [
    "test_tuple1 = (4, 5)\n",
    "test_tuple2 = (7, 8)\n",
    "\n",
    "print(\"The original tuple 1 : \" + str(test_tuple1))\n",
    "print(\"The original tuple 2 : \" + str(test_tuple2))\n",
    "\n",
    "res =  [(a, b) for a in test_tuple1 for b in test_tuple2]\n",
    "res = res +  [(a, b) for a in test_tuple2 for b in test_tuple1]\n",
    "\n",
    "print(\"The filtered tuple : \" + str(res))"
   ]
  },
  {
   "cell_type": "markdown",
   "id": "04802d3f",
   "metadata": {},
   "source": [
    "4. Python – Remove Tuples of Length K\n"
   ]
  },
  {
   "cell_type": "code",
   "execution_count": 27,
   "id": "4c2b9b63",
   "metadata": {},
   "outputs": [
    {
     "name": "stdout",
     "output_type": "stream",
     "text": [
      "[(4,), (8, 6, 7), (3, 4, 6, 7)]\n"
     ]
    }
   ],
   "source": [
    "test_list = [(4, 5), (4, ), (8, 6, 7), (1,5 ), (3, 4, 6, 7)]\n",
    "k=2\n",
    "new_list=[]\n",
    "for i in test_list:\n",
    "    if len(i)!=k:\n",
    "        new_list.append(i)\n",
    "print(new_list)\n",
    "        \n",
    "        \n",
    "        \n"
   ]
  },
  {
   "cell_type": "markdown",
   "id": "04d2ee73",
   "metadata": {},
   "source": [
    "5. Sort a list of tuples by second Item\n"
   ]
  },
  {
   "cell_type": "code",
   "execution_count": 48,
   "id": "5b249264",
   "metadata": {},
   "outputs": [
    {
     "name": "stdout",
     "output_type": "stream",
     "text": [
      "[('akash', 5), ('rishav', 10), ('gaurav', 15), ('ram', 20)]\n"
     ]
    }
   ],
   "source": [
    "def Sort_Tuple(tup): \n",
    "\n",
    "    tup.sort(key = lambda x: x[1]) \n",
    "    return tup \n",
    " \n",
    "tup = [('rishav', 10), ('akash', 5), ('ram', 20), ('gaurav', 15)] \n",
    "\n",
    "print(Sort_Tuple(tup)) \n",
    "    "
   ]
  },
  {
   "cell_type": "markdown",
   "id": "5e3806f8",
   "metadata": {},
   "source": [
    "6. Python program to Order Tuples using external List\n"
   ]
  },
  {
   "cell_type": "code",
   "execution_count": 49,
   "id": "8a03537a",
   "metadata": {},
   "outputs": [
    {
     "name": "stdout",
     "output_type": "stream",
     "text": [
      "The list of tuple is : \n",
      "[('Mark', 34), ('Will', 91), ('Rob', 23)]\n",
      "The ordered list is :\n",
      "['Will', 'Mark', 'Rob']\n",
      "The ordered tuple list is : \n",
      "[('Will', 91), ('Mark', 34), ('Rob', 23)]\n"
     ]
    }
   ],
   "source": [
    "my_list = [('Mark', 34), ('Will', 91), ('Rob', 23)]\n",
    "\n",
    "print(\"The list of tuple is : \")\n",
    "print(my_list)\n",
    "\n",
    "ordered_list = ['Will', 'Mark', 'Rob']\n",
    "print(\"The ordered list is :\")\n",
    "print(ordered_list)\n",
    "temp = dict(my_list)\n",
    "my_result = [(key, temp[key]) for key in ordered_list]\n",
    "print(\"The ordered tuple list is : \")\n",
    "print(my_result)"
   ]
  },
  {
   "cell_type": "markdown",
   "id": "853d5f75",
   "metadata": {},
   "source": [
    "7. Python – Flatten tuple of List to tuple\n"
   ]
  },
  {
   "cell_type": "code",
   "execution_count": 53,
   "id": "4e28eb8b",
   "metadata": {},
   "outputs": [
    {
     "name": "stdout",
     "output_type": "stream",
     "text": [
      "The original tuple : ([5, 6], [6, 7, 8, 9], [3])\n",
      "The flattened tuple : (5, 6, 6, 7, 8, 9, 3)\n"
     ]
    }
   ],
   "source": [
    "test_tuple = ([5, 6], [6, 7, 8, 9], [3])\n",
    "\n",
    "print(\"The original tuple : \" + str(test_tuple))\n",
    "\n",
    "res = tuple(sum(test_tuple, []))\n",
    "\n",
    "print(\"The flattened tuple : \" + str(res))"
   ]
  },
  {
   "cell_type": "markdown",
   "id": "5de7381d",
   "metadata": {},
   "source": [
    "8. Python – Convert Nested Tuple to Custom Key Dictionary\n"
   ]
  },
  {
   "cell_type": "code",
   "execution_count": 55,
   "id": "c572bea3",
   "metadata": {},
   "outputs": [
    {
     "name": "stdout",
     "output_type": "stream",
     "text": [
      "[{'key': 4, 'value': 'Gfg', 'id': 10}, {'key': 3, 'value': 'is', 'id': 8}, {'key': 6, 'value': 'Best', 'id': 10}]\n"
     ]
    }
   ],
   "source": [
    "test_tuple = ((4, 'Gfg', 10), (3, 'is', 8), (6, 'Best', 10))\n",
    "res=[{'key':i[0],'value':i[1],'id':i[2]} for i in test_tuple]\n",
    "print(res)"
   ]
  },
  {
   "cell_type": "markdown",
   "id": "b53c7d1e",
   "metadata": {},
   "source": [
    "9. Python Program for Binary Search (Recursive and Iterative)\n"
   ]
  },
  {
   "cell_type": "code",
   "execution_count": 63,
   "id": "150cace4",
   "metadata": {},
   "outputs": [
    {
     "name": "stdout",
     "output_type": "stream",
     "text": [
      "Element is present at index 3\n"
     ]
    }
   ],
   "source": [
    "def binary_search(arr, low, high, x):\n",
    "\n",
    "    if high >= low:\n",
    " \n",
    "        mid = (high + low) // 2\n",
    "\n",
    "        if arr[mid] == x:\n",
    "            return mid\n",
    "\n",
    "        elif arr[mid] > x:\n",
    "            return binary_search(arr, low, mid - 1, x)\n",
    " \n",
    "        else:\n",
    "            return binary_search(arr, mid + 1, high, x)\n",
    " \n",
    "    else:\n",
    "        return -1\n",
    "\n",
    "arr = [ 2, 3, 8, 10, 40 ]\n",
    "x = 10\n",
    "\n",
    "result = binary_search(arr, 0, len(arr)-1, x)\n",
    " \n",
    "if result != -1:\n",
    "    print(\"Element is present at index\", str(result))\n",
    "else:\n",
    "    print(\"Element is not present in array\")"
   ]
  },
  {
   "cell_type": "markdown",
   "id": "3e1af730",
   "metadata": {},
   "source": [
    "10. Python Program for Linear Search\n"
   ]
  },
  {
   "cell_type": "code",
   "execution_count": 2,
   "id": "738a4b8c",
   "metadata": {},
   "outputs": [
    {
     "data": {
      "text/plain": [
       "3"
      ]
     },
     "execution_count": 2,
     "metadata": {},
     "output_type": "execute_result"
    }
   ],
   "source": [
    "def search(arr, x):\n",
    "  \n",
    "    for i in range(len(arr)):\n",
    "  \n",
    "        if arr[i] == x:\n",
    "            return i\n",
    "  \n",
    "    return -1\n",
    "arr=[1,2,4,5,7,8,9]\n",
    "x=5\n",
    "search(arr,x)"
   ]
  },
  {
   "cell_type": "markdown",
   "id": "86de25a6",
   "metadata": {},
   "source": [
    "11. Python Program for Insertion Sort"
   ]
  },
  {
   "cell_type": "code",
   "execution_count": 12,
   "id": "2a406970",
   "metadata": {},
   "outputs": [
    {
     "name": "stdout",
     "output_type": "stream",
     "text": [
      "Sorted array is:\n",
      "5\n",
      "6\n",
      "11\n",
      "12\n",
      "13\n"
     ]
    }
   ],
   "source": [
    "def insertionSort(arr):\n",
    "\n",
    "    for i in range(1, len(arr)):\n",
    "  \n",
    "        key = arr[i]\n",
    "\n",
    "        j = i-1\n",
    "        while j >=0 and key < arr[j] :\n",
    "                arr[j+1] = arr[j]\n",
    "                j -= 1\n",
    "        arr[j+1] = key\n",
    " \n",
    "arr = [12, 11, 13, 5, 6]\n",
    "insertionSort(arr)\n",
    "print (\"Sorted array is:\")\n",
    "for i in range(len(arr)):\n",
    "    print (\"%d\" %arr[i])"
   ]
  }
 ],
 "metadata": {
  "kernelspec": {
   "display_name": "Python 3 (ipykernel)",
   "language": "python",
   "name": "python3"
  },
  "language_info": {
   "codemirror_mode": {
    "name": "ipython",
    "version": 3
   },
   "file_extension": ".py",
   "mimetype": "text/x-python",
   "name": "python",
   "nbconvert_exporter": "python",
   "pygments_lexer": "ipython3",
   "version": "3.9.7"
  }
 },
 "nbformat": 4,
 "nbformat_minor": 5
}
