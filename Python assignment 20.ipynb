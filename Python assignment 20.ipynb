{
 "cells": [
  {
   "cell_type": "markdown",
   "id": "e8e471d7",
   "metadata": {},
   "source": [
    "1. Python Program to obtain the line number in which given word is present\n"
   ]
  },
  {
   "cell_type": "code",
   "execution_count": null,
   "id": "fff52cac",
   "metadata": {},
   "outputs": [],
   "source": [
    "def findline(word):\n",
    "    for i in range(len(arr)):\n",
    "        if word in arr[i]:\n",
    "            print(i+1, end=\", \")\n",
    " \n",
    " \n",
    "findline(\"Hello\")"
   ]
  },
  {
   "cell_type": "markdown",
   "id": "b675c414",
   "metadata": {},
   "source": [
    "2. Count number of lines in a text file in Python\n"
   ]
  },
  {
   "cell_type": "code",
   "execution_count": null,
   "id": "0dc7151f",
   "metadata": {},
   "outputs": [],
   "source": [
    "file = open(\"gfg.txt\",\"r\")\n",
    "Counter = 0\n",
    "\n",
    "Content = file.read()\n",
    "CoList = Content.split(\"\\n\")\n",
    "  \n",
    "for i in CoList:\n",
    "    if i:\n",
    "        Counter += 1\n",
    "          \n",
    "print(\"This is the number of lines in the file\")\n",
    "print(Counter)"
   ]
  },
  {
   "cell_type": "markdown",
   "id": "f65b0ac9",
   "metadata": {},
   "source": [
    "3. Python Program to remove lines starting with any prefix\n"
   ]
  },
  {
   "cell_type": "code",
   "execution_count": null,
   "id": "7f275685",
   "metadata": {},
   "outputs": [],
   "source": [
    "import re\n",
    "\n",
    "file1 = open('GeeksforGeeks.txt',\n",
    "           'r')\n",
    "\n",
    "file2 = open('GeeksforGeeksUpdated.txt','w')\n",
    "\n",
    "for line in file1.readlines():\n",
    "\n",
    "    x = re.findall(\"^Geeks\", line)\n",
    "      \n",
    "    if not x:\n",
    "\n",
    "        print(line)\n",
    "\n",
    "        file2.write(line)\n",
    "\n",
    "file1.close()\n",
    "file2.close()"
   ]
  },
  {
   "cell_type": "markdown",
   "id": "f0eb1920",
   "metadata": {},
   "source": [
    "4. Python Program to Eliminate repeated lines from a file\n"
   ]
  },
  {
   "cell_type": "code",
   "execution_count": null,
   "id": "e36ba22a",
   "metadata": {},
   "outputs": [],
   "source": [
    "outputFile = open('C:/Users/user/Desktop/Lorem_output.txt', \"w\")\n",
    "\n",
    "inputFile = open('C:/Users/user/Desktop/Lorem_input.txt', \"r\")\n",
    "\n",
    "lines_seen_so_far = set()\n",
    "\n",
    "for line in inputFile:\n",
    "\n",
    "    if line not in lines_seen_so_far:\n",
    "\n",
    "        outputFile.write(line)\n",
    "\n",
    "        lines_seen_so_far.add(line)        \n",
    "\n",
    "inputFile.close()\n",
    "outputFile.close()"
   ]
  },
  {
   "cell_type": "markdown",
   "id": "ea0019a2",
   "metadata": {},
   "source": [
    "5. Python Program to read List of Dictionaries from File\n"
   ]
  },
  {
   "cell_type": "code",
   "execution_count": null,
   "id": "b13ab1eb",
   "metadata": {},
   "outputs": [],
   "source": [
    "def parse(d):\n",
    "    dictionary = dict()\n",
    "\n",
    "    pairs = d.strip('{}').split(', ')\n",
    "    for i in pairs:\n",
    "        pair = i.split(': ')\n",
    "\n",
    "        dictionary[pair[0].strip('\\'\\'\\\"\\\"')] = pair[1].strip('\\'\\'\\\"\\\"')\n",
    "    return dictionary\n",
    "try:\n",
    "    geeky_file = open('geeky_file.txt', 'rt')\n",
    "    lines = geeky_file.read().split('\\n')\n",
    "    for l in lines:\n",
    "        if l != '':\n",
    "            dictionary = parse(l)\n",
    "            print(dictionary)\n",
    "    geeky_file.close()\n",
    "except:\n",
    "    print(\"Something unexpected occurred!\")"
   ]
  },
  {
   "cell_type": "markdown",
   "id": "b9549680",
   "metadata": {},
   "source": [
    "6. Python – Append content of one text file to another\n"
   ]
  },
  {
   "cell_type": "code",
   "execution_count": null,
   "id": "9418894f",
   "metadata": {},
   "outputs": [],
   "source": [
    "\n",
    "firstfile = input(\"Enter the name of first file \")\n",
    "secondfile = input(\"Enter the name of second file \")\n",
    "\n",
    "f1 = open(firstfile, 'r')\n",
    "f2 = open(secondfile, 'r')\n",
    "\n",
    "print('content of first file before appending -', f1.read())\n",
    "print('content of second file before appending -', f2.read())\n",
    "\n",
    "f1.close()\n",
    "f2.close()\n",
    "\n",
    "f1 = open(firstfile, 'a+')\n",
    "f2 = open(secondfile, 'r')\n",
    "\n",
    "f1.write(f2.read())\n",
    "\n",
    "f1.seek(0)\n",
    "f2.seek(0)\n",
    "\n",
    "print('content of first file after appending -', f1.read())\n",
    "print('content of second file after appending -', f2.read())\n",
    "\n",
    "f1.close()\n",
    "f2.close()"
   ]
  },
  {
   "cell_type": "markdown",
   "id": "c078feda",
   "metadata": {},
   "source": [
    "7. Python program to copy odd lines of one file to other\n"
   ]
  },
  {
   "cell_type": "code",
   "execution_count": null,
   "id": "b7e6dee9",
   "metadata": {},
   "outputs": [],
   "source": [
    "fn = open('bcd.txt', 'r')\n",
    "\n",
    "fn1 = open('nfile.txt', 'w')\n",
    "\n",
    "cont = fn.readlines()\n",
    "type(cont)\n",
    "for i in range(0, len(cont)):\n",
    "    if(i % 2 ! = 0):\n",
    "        fn1.write(cont[i])\n",
    "    else:\n",
    "        pass\n",
    "\n",
    "fn1.close()\n",
    "\n",
    "fn1 = open('nfile.txt', 'r')\n",
    "\n",
    "cont1 = fn1.read()\n",
    "\n",
    "print(cont1)\n",
    "\n",
    "fn.close()\n",
    "fn1.close()"
   ]
  },
  {
   "cell_type": "markdown",
   "id": "a53bb271",
   "metadata": {},
   "source": [
    "8. Python Program to merge two files into a third file\n"
   ]
  },
  {
   "cell_type": "code",
   "execution_count": null,
   "id": "f9894060",
   "metadata": {},
   "outputs": [],
   "source": [
    "data = data2 = \"\"\n",
    "\n",
    "with open('file1.txt') as fp:\n",
    "    data = fp.read()\n",
    "\n",
    "with open('file2.txt') as fp:\n",
    "    data2 = fp.read()\n",
    "\n",
    "data += \"\\n\"\n",
    "data += data2\n",
    "  \n",
    "with open ('file3.txt', 'w') as fp:\n",
    "    fp.write(data)"
   ]
  },
  {
   "cell_type": "markdown",
   "id": "f90df5c3",
   "metadata": {},
   "source": [
    "9. Python program to Reverse a single line of a text file\n"
   ]
  },
  {
   "cell_type": "code",
   "execution_count": null,
   "id": "fcea4f69",
   "metadata": {},
   "outputs": [],
   "source": [
    "f = open('GFG.txt', 'r')\n",
    "\n",
    "lines = f.readlines()\n",
    "\n",
    "f.close()\n",
    "\n",
    "choice = 1\n",
    "\n",
    "line = lines[choice].split()\n",
    "\n",
    "Reversed = \" \".join(line[::-1])\n",
    "\n",
    "lines.pop(choice)\n",
    "lines.insert(choice, Reversed)\n",
    "\n",
    "u = open('GFG.txt', 'w')\n",
    "\n",
    "u.writelines(lines)\n",
    "u.close()"
   ]
  },
  {
   "cell_type": "markdown",
   "id": "a695dc57",
   "metadata": {},
   "source": [
    "10. Python program to reverse the content of a file and store it in another file\n"
   ]
  },
  {
   "cell_type": "code",
   "execution_count": null,
   "id": "0a433123",
   "metadata": {},
   "outputs": [],
   "source": [
    "f1 = open(\"output1.txt\", \"w\")\n",
    "\n",
    "with open(\"file.txt\", \"r\") as myfile:\n",
    "    data = myfile.read()\n",
    "\n",
    "data_1 = data[::-1]\n",
    "\n",
    "f1.write(data_1)\n",
    "  \n",
    "f1.close()"
   ]
  },
  {
   "cell_type": "markdown",
   "id": "71edc615",
   "metadata": {},
   "source": [
    "11. Python Program to Reverse the Content of a File using Stack"
   ]
  },
  {
   "cell_type": "code",
   "execution_count": null,
   "id": "97ee134a",
   "metadata": {},
   "outputs": [],
   "source": [
    "class Stack:\n",
    "      \n",
    "    def __init__(self):\n",
    "\n",
    "        self._arr = []\n",
    "\n",
    "    def push(self, val):\n",
    "        self._arr.append(val)\n",
    "   \n",
    "    def is_empty(self):\n",
    "\n",
    "        return len(self._arr) == 0\n",
    "\n",
    "    def pop(self):\n",
    "          \n",
    "        if self.is_empty():\n",
    "            print(\"Stack is empty\")\n",
    "            return\n",
    "          \n",
    "        return self._arr.pop()\n",
    "\n",
    "def reverse_file(filename):\n",
    "       \n",
    "    S = Stack()\n",
    "    original = open(filename)\n",
    "      \n",
    "    for line in original:\n",
    "        S.push(line.rstrip(\"\\n\"))\n",
    "      \n",
    "    original.close()\n",
    "       \n",
    "       \n",
    "    output = open(filename, 'w')\n",
    "      \n",
    "    while not S.is_empty():\n",
    "        output.write(S.pop()+\"\\n\")\n",
    "      \n",
    "    output.close()\n",
    "\n",
    "filename = \"GFG.txt\"\n",
    "\n",
    "reverse_file(filename)\n",
    "\n",
    "with open(filename) as file:\n",
    "        for f in file.readlines():\n",
    "            print(f, end =\"\")"
   ]
  }
 ],
 "metadata": {
  "kernelspec": {
   "display_name": "Python 3 (ipykernel)",
   "language": "python",
   "name": "python3"
  },
  "language_info": {
   "codemirror_mode": {
    "name": "ipython",
    "version": 3
   },
   "file_extension": ".py",
   "mimetype": "text/x-python",
   "name": "python",
   "nbconvert_exporter": "python",
   "pygments_lexer": "ipython3",
   "version": "3.9.7"
  }
 },
 "nbformat": 4,
 "nbformat_minor": 5
}
