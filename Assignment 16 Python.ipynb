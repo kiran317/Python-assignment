{
 "cells": [
  {
   "cell_type": "markdown",
   "id": "08395c23",
   "metadata": {},
   "source": [
    "1. Python Program for Cycle Sort\n"
   ]
  },
  {
   "cell_type": "code",
   "execution_count": 4,
   "id": "304c339c",
   "metadata": {},
   "outputs": [
    {
     "name": "stdout",
     "output_type": "stream",
     "text": [
      "After sort : \n",
      "1  2  3  4  8  9  10  10  "
     ]
    }
   ],
   "source": [
    "def cycleSort(array):\n",
    "  writes = 0\n",
    " \n",
    "  for cycleStart in range(0, len(array) - 1):\n",
    "    item = array[cycleStart]\n",
    "\n",
    "    pos = cycleStart\n",
    "    for i in range(cycleStart + 1, len(array)):\n",
    "      if array[i] < item:\n",
    "        pos += 1\n",
    "\n",
    "    if pos == cycleStart:\n",
    "      continue\n",
    "\n",
    "    while item == array[pos]:\n",
    "      pos += 1\n",
    "    array[pos], item = item, array[pos]\n",
    "    writes += 1\n",
    "\n",
    "    while pos != cycleStart:\n",
    "\n",
    "      pos = cycleStart\n",
    "      for i in range(cycleStart + 1, len(array)):\n",
    "        if array[i] < item:\n",
    "          pos += 1\n",
    "\n",
    "      while item == array[pos]:\n",
    "        pos += 1\n",
    "      array[pos], item = item, array[pos]\n",
    "      writes += 1\n",
    "    \n",
    "  return writes\n",
    "\n",
    "arr = [1, 8, 3, 9, 10, 10, 2, 4 ]\n",
    "n = len(arr) \n",
    "cycleSort(arr)\n",
    "  \n",
    "print(\"After sort : \")\n",
    "for i in range(0, n) : \n",
    "    print(arr[i], end = '  ')"
   ]
  },
  {
   "cell_type": "markdown",
   "id": "f61e0ebe",
   "metadata": {},
   "source": [
    "2. Python Program for Stooge Sort\n"
   ]
  },
  {
   "cell_type": "code",
   "execution_count": 8,
   "id": "ad5eace9",
   "metadata": {},
   "outputs": [
    {
     "name": "stdout",
     "output_type": "stream",
     "text": [
      "1  / 2  / 3  / 4  / 5  / "
     ]
    }
   ],
   "source": [
    "def stoogesort(arr, l, h):\n",
    "    if l >= h:\n",
    "        return\n",
    "\n",
    "    if arr[l]>arr[h]:\n",
    "        t = arr[l]\n",
    "        arr[l] = arr[h]\n",
    "        arr[h] = t\n",
    "\n",
    "    if h-l+1 > 2:\n",
    "        t = (int)((h-l+1)/3)\n",
    "\n",
    "        stoogesort(arr, l, (h-t))\n",
    "\n",
    "        stoogesort(arr, l+t, (h))\n",
    "\n",
    "        stoogesort(arr, l, (h-t))\n",
    " \n",
    "arr = [2, 4, 5, 3, 1]\n",
    "n = len(arr)\n",
    "  \n",
    "stoogesort(arr, 0, n-1)\n",
    "   \n",
    "for i in range(0, n):\n",
    "    print(arr[i], end = '  / ')"
   ]
  },
  {
   "cell_type": "markdown",
   "id": "e999cedb",
   "metadata": {},
   "source": [
    "3. Python Program to print the pattern ‘G’\n"
   ]
  },
  {
   "cell_type": "code",
   "execution_count": 10,
   "id": "d8dba905",
   "metadata": {},
   "outputs": [
    {
     "name": "stdout",
     "output_type": "stream",
     "text": [
      "  ****  \n",
      " *      \n",
      " *      \n",
      " *      \n",
      " *    * \n",
      " *    * \n",
      " *    * \n",
      "  ****  \n",
      "\n"
     ]
    }
   ],
   "source": [
    "def Pattern(line):\n",
    "    pat=\"\"\n",
    "    for i in range(0,line):   \n",
    "        for j in range(0,line):    \n",
    "            if ((j == 1 and i != 0 and i != line-1) or ((i == 0 or\n",
    "                i == line-1) and j > 1 and j < line-2) or (i == ((line-1)/2)\n",
    "                and j > line-5 and j < line-1) or (j == line-2 and\n",
    "                i != 0 and i != line-1 and i >=((line-1)/2))): \n",
    "                pat=pat+\"*\"  \n",
    "            else:     \n",
    "                pat=pat+\" \"  \n",
    "        pat=pat+\"\\n\"  \n",
    "    return pat\n",
    "\n",
    "line = 8\n",
    "print(Pattern(line))"
   ]
  },
  {
   "cell_type": "markdown",
   "id": "51ff04ed",
   "metadata": {},
   "source": [
    "4. Python Program to print an Inverted Star Pattern\n"
   ]
  },
  {
   "cell_type": "code",
   "execution_count": 11,
   "id": "af70d79e",
   "metadata": {},
   "outputs": [
    {
     "name": "stdout",
     "output_type": "stream",
     "text": [
      "***********\n",
      " **********\n",
      "  *********\n",
      "   ********\n",
      "    *******\n",
      "     ******\n",
      "      *****\n",
      "       ****\n",
      "        ***\n",
      "         **\n",
      "          *\n"
     ]
    }
   ],
   "source": [
    "n=11\n",
    "\n",
    "for i in range (n, 0, -1):\n",
    "    print((n-i) * ' ' + i * '*')"
   ]
  },
  {
   "cell_type": "markdown",
   "id": "e9ddc11a",
   "metadata": {},
   "source": [
    "5. Python Program to print double sided stair-case pattern\n"
   ]
  },
  {
   "cell_type": "code",
   "execution_count": 12,
   "id": "c8f0a8fb",
   "metadata": {},
   "outputs": [
    {
     "name": "stdout",
     "output_type": "stream",
     "text": [
      "                 *   * \n",
      "                 *   * \n",
      "             *   *   *   * \n",
      "             *   *   *   * \n",
      "         *   *   *   *   *   * \n",
      "         *   *   *   *   *   * \n",
      "     *   *   *   *   *   *   *   * \n",
      "     *   *   *   *   *   *   *   * \n",
      " *   *   *   *   *   *   *   *   *   * \n",
      " *   *   *   *   *   *   *   *   *   * \n"
     ]
    }
   ],
   "source": [
    "def pattern(n):\n",
    "\n",
    "    for i in range(1,n+1):\n",
    "\n",
    "        k =i + 1 if(i % 2 != 0) else i\n",
    "  \n",
    "        for g in range(k,n):\n",
    "            if g>=k:\n",
    "                print(end=\"  \")\n",
    "\n",
    "        for j in range(0,k):\n",
    "            if j == k - 1:\n",
    "                print(\" * \")\n",
    "            else:\n",
    "                print(\" * \", end = \" \")\n",
    "\n",
    "n = 10\n",
    "pattern(n)"
   ]
  },
  {
   "cell_type": "markdown",
   "id": "4061a259",
   "metadata": {},
   "source": [
    "6. Python Program to print with your own font\n"
   ]
  },
  {
   "cell_type": "code",
   "execution_count": 13,
   "id": "ece86e5b",
   "metadata": {},
   "outputs": [
    {
     "name": "stdout",
     "output_type": "stream",
     "text": [
      "..#...#...\n",
      "..#..#....\n",
      "..##...... \n",
      "..#..#....\n",
      "..#...#...\n",
      "\n",
      "\n",
      "..######..\n",
      "....##....\n",
      "....##.... \n",
      "....##....\n",
      "..######..\n",
      "\n",
      "\n",
      "..######..\n",
      "..#....#..\n",
      "..#.##... \n",
      "..#...#...\n",
      "..#....#..\n",
      "\n",
      "\n",
      "..######..\n",
      "..#....#..\n",
      "..######.. \n",
      "..#....#..\n",
      "..#....#..\n",
      "\n",
      "\n",
      "..#....#..\n",
      "..##...#..\n",
      "..#.#..#.. \n",
      "..#..#.#..\n",
      "..#...##..\n",
      "\n",
      "\n"
     ]
    }
   ],
   "source": [
    "name = \"KIRAN\"\n",
    "\n",
    " \n",
    "length = len(name)\n",
    "l = \"\"\n",
    " \n",
    "for x in range(0, length):\n",
    "    c = name[x]\n",
    "    c = c.upper()\n",
    "     \n",
    "    if (c == \"A\"):\n",
    "        print(\"..######..\\n..#....#..\\n..######..\", end = \" \")\n",
    "        print(\"\\n..#....#..\\n..#....#..\\n\\n\")\n",
    "         \n",
    "    elif (c == \"B\"):\n",
    "        print(\"..######..\\n..#....#..\\n..#####...\", end = \" \")\n",
    "        print(\"\\n..#....#..\\n..######..\\n\\n\")\n",
    "         \n",
    "    elif (c == \"C\"):\n",
    "        print(\"..######..\\n..#.......\\n..#.......\", end = \" \")\n",
    "        print(\"\\n..#.......\\n..######..\\n\\n\")\n",
    "         \n",
    "    elif (c == \"D\"):\n",
    "        print(\"..#####...\\n..#....#..\\n..#....#..\", end = \" \")\n",
    "        print(\"\\n..#....#..\\n..#####...\\n\\n\")\n",
    "         \n",
    "    elif (c == \"E\"):\n",
    "        print(\"..######..\\n..#.......\\n..#####...\", end = \" \")\n",
    "        print(\"\\n..#.......\\n..######..\\n\\n\")\n",
    "         \n",
    "    elif (c == \"F\"):\n",
    "        print(\"..######..\\n..#.......\\n..#####...\", end = \" \")\n",
    "        print(\"\\n..#.......\\n..#.......\\n\\n\")\n",
    "         \n",
    "    elif (c == \"G\"):\n",
    "        print(\"..######..\\n..#.......\\n..#.####..\", end = \" \")\n",
    "        print(\"\\n..#....#..\\n..#####...\\n\\n\")\n",
    "         \n",
    "    elif (c == \"H\"):\n",
    "        print(\"..#....#..\\n..#....#..\\n..######..\", end = \" \")\n",
    "        print(\"\\n..#....#..\\n..#....#..\\n\\n\")\n",
    "         \n",
    "    elif (c == \"I\"):\n",
    "        print(\"..######..\\n....##....\\n....##....\", end = \" \")\n",
    "        print(\"\\n....##....\\n..######..\\n\\n\")\n",
    "         \n",
    "    elif (c == \"J\"):\n",
    "        print(\"..######..\\n....##....\\n....##....\", end = \" \")\n",
    "        print(\"\\n..#.##....\\n..####....\\n\\n\")\n",
    "         \n",
    "    elif (c == \"K\"):\n",
    "        print(\"..#...#...\\n..#..#....\\n..##......\", end = \" \")\n",
    "        print(\"\\n..#..#....\\n..#...#...\\n\\n\")\n",
    "         \n",
    "    elif (c == \"L\"):\n",
    "        print(\"..#.......\\n..#.......\\n..#.......\", end = \" \")\n",
    "        print(\"\\n..#.......\\n..######..\\n\\n\")\n",
    "         \n",
    "    elif (c == \"M\"):\n",
    "        print(\"..#....#..\\n..##..##..\\n..#.##.#..\", end = \" \")\n",
    "        print(\"\\n..#....#..\\n..#....#..\\n\\n\")\n",
    "         \n",
    "    elif (c == \"N\"):\n",
    "        print(\"..#....#..\\n..##...#..\\n..#.#..#..\", end = \" \")\n",
    "        print(\"\\n..#..#.#..\\n..#...##..\\n\\n\")\n",
    "         \n",
    "    elif (c == \"O\"):\n",
    "        print(\"..######..\\n..#....#..\\n..#....#..\", end = \" \")\n",
    "        print(\"\\n..#....#..\\n..######..\\n\\n\")\n",
    "         \n",
    "    elif (c == \"P\"):\n",
    "        print(\"..######..\\n..#....#..\\n..######..\", end = \" \")\n",
    "        print(\"\\n..#.......\\n..#.......\\n\\n\")\n",
    "         \n",
    "    elif (c == \"Q\"):\n",
    "        print(\"..######..\\n..#....#..\\n..#.#..#..\", end = \" \")\n",
    "        print(\"\\n..#..#.#..\\n..######..\\n\\n\")\n",
    "         \n",
    "    elif (c == \"R\"):\n",
    "        print(\"..######..\\n..#....#..\\n..#.##...\", end = \" \")\n",
    "        print(\"\\n..#...#...\\n..#....#..\\n\\n\")\n",
    "         \n",
    "    elif (c == \"S\"):\n",
    "        print(\"..######..\\n..#.......\\n..######..\", end = \" \")\n",
    "        print(\"\\n.......#..\\n..######..\\n\\n\")\n",
    "         \n",
    "    elif (c == \"T\"):\n",
    "        print(\"..######..\\n....##....\\n....##....\", end = \" \")\n",
    "        print(\"\\n....##....\\n....##....\\n\\n\")\n",
    "         \n",
    "    elif (c == \"U\"):\n",
    "        print(\"..#....#..\\n..#....#..\\n..#....#..\", end = \" \")\n",
    "        print(\"\\n..#....#..\\n..######..\\n\\n\")\n",
    "         \n",
    "    elif (c == \"V\"):\n",
    "        print(\"..#....#..\\n..#....#..\\n..#....#..\", end = \" \")\n",
    "        print(\"\\n...#..#...\\n....##....\\n\\n\")\n",
    "         \n",
    "    elif (c == \"W\"):\n",
    "        print(\"..#....#..\\n..#....#..\\n..#.##.#..\", end = \" \")\n",
    "        print(\"\\n..##..##..\\n..#....#..\\n\\n\")\n",
    "         \n",
    "    elif (c == \"X\"):\n",
    "        print(\"..#....#..\\n...#..#...\\n....##....\", end = \" \")\n",
    "        print(\"\\n...#..#...\\n..#....#..\\n\\n\")\n",
    "         \n",
    "    elif (c == \"Y\"):\n",
    "        print(\"..#....#..\\n...#..#...\\n....##....\", end = \" \")\n",
    "        print(\"\\n....##....\\n....##....\\n\\n\")\n",
    "         \n",
    "    elif (c == \"Z\"):\n",
    "        print(\"..######..\\n......#...\\n.....#....\", end = \" \")\n",
    "        print(\"\\n....#.....\\n..######..\\n\\n\")\n",
    "         \n",
    "    elif (c == \" \"):\n",
    "        print(\"..........\\n..........\\n..........\", end = \" \")\n",
    "        print(\"\\n..........\\n\\n\")\n",
    "         \n",
    "    elif (c == \".\"):\n",
    "        print(\"----..----\\n\\n\")"
   ]
  },
  {
   "cell_type": "markdown",
   "id": "d7536293",
   "metadata": {},
   "source": [
    "7. Get Current Date and Time using Python\n"
   ]
  },
  {
   "cell_type": "code",
   "execution_count": 14,
   "id": "a3c73538",
   "metadata": {},
   "outputs": [
    {
     "name": "stdout",
     "output_type": "stream",
     "text": [
      "Today's date: 2022-05-11\n"
     ]
    }
   ],
   "source": [
    "from datetime import date\n",
    "\n",
    "today = date.today()\n",
    "print(\"Today's date:\", today)"
   ]
  },
  {
   "cell_type": "markdown",
   "id": "fa584b82",
   "metadata": {},
   "source": [
    "8. Python | Find yesterday’s, today’s and tomorrow’s date\n"
   ]
  },
  {
   "cell_type": "code",
   "execution_count": 17,
   "id": "9f16a23a",
   "metadata": {},
   "outputs": [
    {
     "name": "stdout",
     "output_type": "stream",
     "text": [
      "Yesterday =  10-05-2022\n",
      "Today =  11-05-2022\n",
      "Tomorrow =  12-05-2022\n"
     ]
    }
   ],
   "source": [
    "from datetime import datetime, timedelta\n",
    "\n",
    "presentday = datetime.now() \n",
    "\n",
    "yesterday = presentday - timedelta(1)\n",
    "\n",
    "tomorrow = presentday + timedelta(1)\n",
    "\n",
    "print(\"Yesterday = \", yesterday.strftime('%d-%m-%Y'))\n",
    "print(\"Today = \", presentday.strftime('%d-%m-%Y'))\n",
    "print(\"Tomorrow = \", tomorrow.strftime('%d-%m-%Y'))"
   ]
  },
  {
   "cell_type": "markdown",
   "id": "34ced9c1",
   "metadata": {},
   "source": [
    "9. Python program to convert time from 12 hour to 24 hour format"
   ]
  },
  {
   "cell_type": "code",
   "execution_count": 18,
   "id": "b2561be4",
   "metadata": {},
   "outputs": [
    {
     "name": "stdout",
     "output_type": "stream",
     "text": [
      "20:05:45\n"
     ]
    }
   ],
   "source": [
    "def convert24(str1):\n",
    "\n",
    "    if str1[-2:] == \"AM\" and str1[:2] == \"12\":\n",
    "        return \"00\" + str1[2:-2]\n",
    "\n",
    "    elif str1[-2:] == \"AM\":\n",
    "        return str1[:-2]\n",
    "  \n",
    "    elif str1[-2:] == \"PM\" and str1[:2] == \"12\":\n",
    "        return str1[:-2]\n",
    "          \n",
    "    else:\n",
    "\n",
    "        return str(int(str1[:2]) + 12) + str1[2:8]\n",
    "    \n",
    "print(convert24(\"08:05:45 PM\"))"
   ]
  }
 ],
 "metadata": {
  "kernelspec": {
   "display_name": "Python 3 (ipykernel)",
   "language": "python",
   "name": "python3"
  },
  "language_info": {
   "codemirror_mode": {
    "name": "ipython",
    "version": 3
   },
   "file_extension": ".py",
   "mimetype": "text/x-python",
   "name": "python",
   "nbconvert_exporter": "python",
   "pygments_lexer": "ipython3",
   "version": "3.9.7"
  }
 },
 "nbformat": 4,
 "nbformat_minor": 5
}
