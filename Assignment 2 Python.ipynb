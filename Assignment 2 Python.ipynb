{
 "cells": [
  {
   "cell_type": "markdown",
   "id": "53fdb149",
   "metadata": {},
   "source": [
    "1. Python Program for n-th Fibonacci number\n",
    "2. Python Program for How to check if a given number is Fibonacci number?\n",
    "3. Python Program for n\\’th multiple of a number in Fibonacci Series\n",
    "4. Program to print ASCII Value of a character\n",
    "5. Python Program for Sum of squares of first n natural numbers\n",
    "6. Python Program for cube sum of first n natural numbers\n",
    "7. Python Program to find sum of array\n",
    "8. Python Program to find largest element in an array\n",
    "9. Python Program for array rotation\n",
    "10. Python Program for Reversal algorithm for array rotation\n",
    "11. Python Program to Split the array and add the first part to the end"
   ]
  },
  {
   "cell_type": "markdown",
   "id": "a7beb1e0",
   "metadata": {},
   "source": [
    "1. Python Program for n-th Fibonacci number"
   ]
  },
  {
   "cell_type": "code",
   "execution_count": 8,
   "id": "cf8de945",
   "metadata": {},
   "outputs": [
    {
     "name": "stdout",
     "output_type": "stream",
     "text": [
      "13\n"
     ]
    }
   ],
   "source": [
    "def fibonacci(n):\n",
    "    a = 0\n",
    "    b = 1\n",
    "    if n < 0:\n",
    "        print(\"Incorrect input\")\n",
    "    elif n == 0:\n",
    "        return a\n",
    "    elif n == 1:\n",
    "        return b\n",
    "    else:\n",
    "        for i in range(2, n):\n",
    "            c = a + b\n",
    "            a = b\n",
    "            b = c\n",
    "        return b\n",
    "        \n",
    "print(fibonacci(8))"
   ]
  },
  {
   "cell_type": "markdown",
   "id": "487f892b",
   "metadata": {},
   "source": [
    "2.Python Program for How to check if a given number is Fibonacci number?"
   ]
  },
  {
   "cell_type": "code",
   "execution_count": 19,
   "id": "268195c5",
   "metadata": {},
   "outputs": [
    {
     "name": "stdout",
     "output_type": "stream",
     "text": [
      "Enter the number to check wheather it is a fibonacci number or not :8\n",
      "The number is a fibbonacci number\n"
     ]
    }
   ],
   "source": [
    "N=int(input(\"Enter the number to check wheather it is a fibonacci number or not :\"))\n",
    "f3=0\n",
    "f1=1\n",
    "f2=1\n",
    "if (N==0 or N==1):\n",
    "    print(\"The number is a fibonacci number\")\n",
    "else:\n",
    "    while f3<N:\n",
    "        f3=f1+f2\n",
    "        f2=f1\n",
    "        f1=f3\n",
    "    if f3==N:\n",
    "        print(\"The number is a fibbonacci number\")\n",
    "    else:\n",
    "        print(\"The number is not a fibbonaci number\")"
   ]
  },
  {
   "cell_type": "markdown",
   "id": "1e419cff",
   "metadata": {},
   "source": [
    "3.Python Program for n\\’th multiple of a number in Fibonacci Series"
   ]
  },
  {
   "cell_type": "code",
   "execution_count": 20,
   "id": "968658b9",
   "metadata": {},
   "outputs": [
    {
     "name": "stdout",
     "output_type": "stream",
     "text": [
      "Position of n'th multiple of k inFibonacci Series is:  30\n"
     ]
    }
   ],
   "source": [
    "\n",
    "def find(k, n):\n",
    "   f1 = 0\n",
    "   f2 = 1\n",
    "   i =2;\n",
    "   while i!=0:\n",
    "      f3 = f1 + f2;\n",
    "      f1 = f2;\n",
    "      f2 = f3;\n",
    "      if f2%k == 0:\n",
    "         return n*i\n",
    "      i+=1\n",
    "   return\n",
    "n = 5;\n",
    "k = 4;\n",
    "print(\"Position of n\\'th multiple of k in\"\"Fibonacci Series is: \", find(k,n));"
   ]
  },
  {
   "cell_type": "markdown",
   "id": "a097a266",
   "metadata": {},
   "source": [
    "4.Program to print ASCII Value of a character"
   ]
  },
  {
   "cell_type": "code",
   "execution_count": 21,
   "id": "14e08b09",
   "metadata": {},
   "outputs": [
    {
     "name": "stdout",
     "output_type": "stream",
     "text": [
      "The ASCII value of 'g' is 103\n"
     ]
    }
   ],
   "source": [
    "c = 'g'\n",
    "print(\"The ASCII value of '\" + c + \"' is\", ord(c))"
   ]
  },
  {
   "cell_type": "markdown",
   "id": "1c17ef2e",
   "metadata": {},
   "source": [
    "5.Python Program for Sum of squares of first n natural numbers"
   ]
  },
  {
   "cell_type": "code",
   "execution_count": 26,
   "id": "56ac8ff4",
   "metadata": {},
   "outputs": [
    {
     "name": "stdout",
     "output_type": "stream",
     "text": [
      "14\n"
     ]
    }
   ],
   "source": [
    "def squaresum(n):\n",
    "    sm=0\n",
    "    for i in range(1,n+1):\n",
    "        sm=sm+(i*i)\n",
    "    return sm\n",
    "print(squaresum(3))\n"
   ]
  },
  {
   "cell_type": "markdown",
   "id": "e92647c1",
   "metadata": {},
   "source": [
    "6.Python Program for cube sum of first n natural numbers"
   ]
  },
  {
   "cell_type": "code",
   "execution_count": 32,
   "id": "774bff0b",
   "metadata": {},
   "outputs": [
    {
     "name": "stdout",
     "output_type": "stream",
     "text": [
      "36\n"
     ]
    }
   ],
   "source": [
    "def cubesum(n):\n",
    "    cm=0\n",
    "    for i in range(1,n+1):\n",
    "        cm+=(i*i*i)\n",
    "    return cm\n",
    "print(cubesum(3))"
   ]
  },
  {
   "cell_type": "markdown",
   "id": "2ca8e209",
   "metadata": {},
   "source": [
    "7.Python Program to find sum of array"
   ]
  },
  {
   "cell_type": "code",
   "execution_count": 33,
   "id": "1209a83d",
   "metadata": {},
   "outputs": [
    {
     "name": "stdout",
     "output_type": "stream",
     "text": [
      "15\n"
     ]
    }
   ],
   "source": [
    "a=[1,2,3,4,5]\n",
    "c=sum(a)\n",
    "print(c)"
   ]
  },
  {
   "cell_type": "markdown",
   "id": "7909b8e2",
   "metadata": {},
   "source": [
    "Python Program to find largest element in an array"
   ]
  },
  {
   "cell_type": "code",
   "execution_count": 36,
   "id": "1b34bd28",
   "metadata": {},
   "outputs": [
    {
     "name": "stdout",
     "output_type": "stream",
     "text": [
      "maximun no of the array is :  8\n"
     ]
    }
   ],
   "source": [
    "a=[2,4,5,6,8]\n",
    "d=max(a)\n",
    "print(\" Largest number of the array is : \",d)"
   ]
  },
  {
   "cell_type": "markdown",
   "id": "ce349c1c",
   "metadata": {},
   "source": [
    "Python Program for array rotation"
   ]
  },
  {
   "cell_type": "code",
   "execution_count": 40,
   "id": "bb2d5eb2",
   "metadata": {},
   "outputs": [
    {
     "name": "stdout",
     "output_type": "stream",
     "text": [
      "Array after left rotation is:  [3, 4, 5, 6, 7, 1, 2]\n"
     ]
    }
   ],
   "source": [
    "\n",
    "def rotateArray(arr, n, d):\n",
    "    temp = []\n",
    "    i = 0\n",
    "    while (i < d):\n",
    "        temp.append(arr[i])\n",
    "        i = i + 1\n",
    "    i = 0\n",
    "    while (d < n):\n",
    "        arr[i] = arr[d]\n",
    "        i = i + 1\n",
    "        d = d + 1\n",
    "    arr[:] = arr[: i] + temp\n",
    "    return arr\n",
    "arr = [1, 2, 3, 4, 5, 6, 7]\n",
    "print(\"Array after left rotation is: \", end=' ')\n",
    "print(rotateArray(arr, len(arr), 2))\n",
    " "
   ]
  },
  {
   "cell_type": "markdown",
   "id": "aea75dc2",
   "metadata": {},
   "source": [
    "9.Python Program for Reversal algorithm for array rotation"
   ]
  },
  {
   "cell_type": "code",
   "execution_count": 41,
   "id": "66159226",
   "metadata": {},
   "outputs": [
    {
     "name": "stdout",
     "output_type": "stream",
     "text": [
      "10 20 13 24 53 6 17 \n",
      "Shifted array: \n",
      "13 24 53 6 17 10 20 "
     ]
    }
   ],
   "source": [
    "def reverseArray(arr, start, end):\n",
    "    while (start < end):\n",
    "        temp=arr[start]\n",
    "        arr[start]=arr[end]\n",
    "        arr[end]=temp\n",
    "        start=start+1\n",
    "        end=end-1\n",
    "  \n",
    "def Rotate(a, d):\n",
    "    if d == 0:\n",
    "        return\n",
    "    n = len(a)\n",
    "    d = d % n\n",
    "    reverseArray(a, 0, d-1)\n",
    "    reverseArray(a, d, n-1)\n",
    "    reverseArray(a, 0, n-1)\n",
    "  \n",
    "def printArray(arr):\n",
    "    for i in range(0, len(arr)):\n",
    "        print(arr[i],end=\" \")\n",
    "  \n",
    "a= [10, 20, 13, 24, 53, 6, 17]\n",
    "n = len(a)\n",
    "d = 2\n",
    "printArray(a)  \n",
    "Rotate(a, d)\n",
    "print(\"\\nShifted array: \")  \n",
    "printArray(a)"
   ]
  },
  {
   "cell_type": "markdown",
   "id": "707c8fcb",
   "metadata": {},
   "source": [
    "11.Python Program to Split the array and add the first part to the end"
   ]
  },
  {
   "cell_type": "code",
   "execution_count": 42,
   "id": "fd9510fa",
   "metadata": {},
   "outputs": [
    {
     "name": "stdout",
     "output_type": "stream",
     "text": [
      "[3, 4, 5, 6, 1, 2]\n"
     ]
    }
   ],
   "source": [
    "def splitary(arr,n,p):\n",
    "    temp=arr[:p]\n",
    "    return (arr[p::]+temp)\n",
    "arr=[1,2,3,4,5,6]\n",
    "n=len(arr)\n",
    "p=2\n",
    "print(splitary(arr,n,p))"
   ]
  },
  {
   "cell_type": "code",
   "execution_count": null,
   "id": "fe0ecdd3",
   "metadata": {},
   "outputs": [],
   "source": []
  }
 ],
 "metadata": {
  "kernelspec": {
   "display_name": "Python 3 (ipykernel)",
   "language": "python",
   "name": "python3"
  },
  "language_info": {
   "codemirror_mode": {
    "name": "ipython",
    "version": 3
   },
   "file_extension": ".py",
   "mimetype": "text/x-python",
   "name": "python",
   "nbconvert_exporter": "python",
   "pygments_lexer": "ipython3",
   "version": "3.9.7"
  }
 },
 "nbformat": 4,
 "nbformat_minor": 5
}
