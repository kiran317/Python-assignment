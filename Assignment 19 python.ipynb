{
 "cells": [
  {
   "cell_type": "markdown",
   "id": "79d2f13c",
   "metadata": {},
   "source": [
    "1. Python Program to Check if email address valid or not\n"
   ]
  },
  {
   "cell_type": "code",
   "execution_count": 1,
   "id": "f919cde3",
   "metadata": {},
   "outputs": [
    {
     "name": "stdout",
     "output_type": "stream",
     "text": [
      "Valid Email\n",
      "Valid Email\n",
      "Invalid Email\n"
     ]
    }
   ],
   "source": [
    "import re\n",
    "\n",
    "regex = r'\\b[A-Za-z0-9._%+-]+@[A-Za-z0-9.-]+\\.[A-Z|a-z]{2,}\\b'\n",
    "\n",
    "def check(email):\n",
    "\n",
    "    if(re.fullmatch(regex, email)):\n",
    "        print(\"Valid Email\")\n",
    " \n",
    "    else:\n",
    "        print(\"Invalid Email\")\n",
    "\n",
    "if __name__ == '__main__':\n",
    " \n",
    "    email = \"ankitrai326@gmail.com\"\n",
    "\n",
    "    check(email)\n",
    " \n",
    "    email = \"my.ownsite@our-earth.org\"\n",
    "    check(email)\n",
    " \n",
    "    email = \"ankitrai326.com\"\n",
    "    check(email)"
   ]
  },
  {
   "cell_type": "markdown",
   "id": "207b8f02",
   "metadata": {},
   "source": [
    "2. Python program to find files having a particular extension using RegEx\n"
   ]
  },
  {
   "cell_type": "code",
   "execution_count": 3,
   "id": "7d7e7d7a",
   "metadata": {},
   "outputs": [
    {
     "name": "stdout",
     "output_type": "stream",
     "text": [
      "The file ending with .xml is: house.xml\n"
     ]
    }
   ],
   "source": [
    "import re\n",
    "\n",
    "filenames = [\"gfg.html\", \"house.xml\", \n",
    "            \"computer.txt\", \"geeksforgeeks.jpg\"]\n",
    "  \n",
    "for file in filenames:\n",
    "    match = re.search(\"\\.xml$\", file)\n",
    "\n",
    "    if match:\n",
    "        print(\"The file ending with .xml is:\",file)"
   ]
  },
  {
   "cell_type": "markdown",
   "id": "1682e872",
   "metadata": {},
   "source": [
    "3. Python program to extract IP address from file\n"
   ]
  },
  {
   "cell_type": "code",
   "execution_count": null,
   "id": "253bec65",
   "metadata": {},
   "outputs": [],
   "source": []
  },
  {
   "cell_type": "markdown",
   "id": "4da6a365",
   "metadata": {},
   "source": [
    "4. Python program to check the validity of a Password\n"
   ]
  },
  {
   "cell_type": "code",
   "execution_count": 5,
   "id": "7e823cd7",
   "metadata": {},
   "outputs": [
    {
     "name": "stdout",
     "output_type": "stream",
     "text": [
      "Valid Password\n"
     ]
    }
   ],
   "source": [
    "import re\n",
    "password = \"R@m@_f0rtu9e$\"\n",
    "flag = 0\n",
    "while True:  \n",
    "    if (len(password)<8):\n",
    "        flag = -1\n",
    "        break\n",
    "    elif not re.search(\"[a-z]\", password):\n",
    "        flag = -1\n",
    "        break\n",
    "    elif not re.search(\"[A-Z]\", password):\n",
    "        flag = -1\n",
    "        break\n",
    "    elif not re.search(\"[0-9]\", password):\n",
    "        flag = -1\n",
    "        break\n",
    "    elif not re.search(\"[_@$]\", password):\n",
    "        flag = -1\n",
    "        break\n",
    "    elif re.search(\"\\s\", password):\n",
    "        flag = -1\n",
    "        break\n",
    "    else:\n",
    "        flag = 0\n",
    "        print(\"Valid Password\")\n",
    "        break\n",
    "  \n",
    "if flag ==-1:\n",
    "    print(\"Not a Valid Password\")"
   ]
  },
  {
   "cell_type": "markdown",
   "id": "0d66c043",
   "metadata": {},
   "source": [
    "5. Categorize Password as Strong or Weak using Regex in Python\n"
   ]
  },
  {
   "cell_type": "code",
   "execution_count": 6,
   "id": "3ad5e7b3",
   "metadata": {},
   "outputs": [
    {
     "name": "stdout",
     "output_type": "stream",
     "text": [
      "Strong Password!\n",
      "Weak password: Same string pattern repetition\n",
      "Weak Password: Same character repeats three or more times in a row\n",
      "Weak password: Same string pattern repetition\n",
      "Strong Password!\n",
      "Password cannot be a newline or space!\n"
     ]
    }
   ],
   "source": [
    "import re\n",
    "\n",
    "def password(v):\n",
    " \n",
    "    if v == \"\\n\" or v == \" \":\n",
    "        return \"Password cannot be a newline or space!\"\n",
    "\n",
    "    if 9 <= len(v) <= 20:\n",
    "\n",
    "        if re.search(r'(.)\\1\\1', v):\n",
    "            return \"Weak Password: Same character repeats three or more times in a row\"\n",
    "\n",
    "        if re.search(r'(..)(.*?)\\1', v):\n",
    "            return \"Weak password: Same string pattern repetition\"\n",
    "   \n",
    "        else:\n",
    "            return \"Strong Password!\"\n",
    "   \n",
    "    else:\n",
    "        return \"Password length must be 9-20 characters!\"\n",
    "\n",
    "def main():\n",
    "\n",
    "    print(password(\"Qggf!@ghf3\"))\n",
    "    print(password(\"Gggksforgeeks\"))\n",
    "    print(password(\"aaabnil1gu\"))\n",
    "    print(password(\"Aasd!feasn\"))\n",
    "    print(password(\"772*hd897\"))\n",
    "    print(password(\" \"))\n",
    "\n",
    "if __name__ == '__main__':\n",
    "    main()"
   ]
  },
  {
   "cell_type": "markdown",
   "id": "a3aa4aac",
   "metadata": {},
   "source": [
    "6. Python program to read file word by word\n"
   ]
  },
  {
   "cell_type": "code",
   "execution_count": 7,
   "id": "99a80873",
   "metadata": {},
   "outputs": [
    {
     "ename": "SyntaxError",
     "evalue": "unexpected EOF while parsing (Temp/ipykernel_3980/1149504371.py, line 10)",
     "output_type": "error",
     "traceback": [
      "\u001b[1;36m  File \u001b[1;32m\"C:\\Users\\91720\\AppData\\Local\\Temp/ipykernel_3980/1149504371.py\"\u001b[1;36m, line \u001b[1;32m10\u001b[0m\n\u001b[1;33m    print(word\u001b[0m\n\u001b[1;37m              ^\u001b[0m\n\u001b[1;31mSyntaxError\u001b[0m\u001b[1;31m:\u001b[0m unexpected EOF while parsing\n"
     ]
    }
   ],
   "source": [
    "with open('GFG.txt','r') as file:\n",
    "    \n",
    "    for line in file:\n",
    "     \n",
    "        for word in line.split():\n",
    "          \n",
    "            print(word"
   ]
  },
  {
   "cell_type": "markdown",
   "id": "15f80369",
   "metadata": {},
   "source": [
    "7. Python program to read character by character from a file\n"
   ]
  },
  {
   "cell_type": "code",
   "execution_count": null,
   "id": "63229bce",
   "metadata": {},
   "outputs": [],
   "source": [
    "file = open('file.txt', 'r')\n",
    " \n",
    "while 1:\n",
    "\n",
    "    char = file.read(1)         \n",
    "    if not char:\n",
    "        break\n",
    "         \n",
    "    print(char)\n",
    " \n",
    "file.close()"
   ]
  },
  {
   "cell_type": "markdown",
   "id": "5b66660a",
   "metadata": {},
   "source": [
    "8. Python – Get number of characters, words, spaces and lines in a file\n"
   ]
  },
  {
   "cell_type": "code",
   "execution_count": null,
   "id": "6f1ab592",
   "metadata": {},
   "outputs": [],
   "source": [
    "def counter(fname):\n",
    "\n",
    "    num_words = 0\n",
    "\n",
    "    num_lines = 0\n",
    "\n",
    "    num_charc = 0\n",
    "\n",
    "    num_spaces = 0\n",
    "\n",
    "    with open(fname, 'r') as f:\n",
    "\n",
    "        for line in f:\n",
    " \n",
    "            num_lines += 1\n",
    "\n",
    "            word = 'Y'\n",
    "             for letter in line:\n",
    "\n",
    "                if (letter != ' ' and word == 'Y'):\n",
    "\n",
    "                    num_words += 1\n",
    "\n",
    "                    word = 'N'\n",
    "\n",
    "                elif (letter == ' '):\n",
    "\n",
    "                    num_spaces += 1\n",
    "\n",
    "                    word = 'Y'\n",
    "\n",
    "                for i in letter:\n",
    "\n",
    "                    if(i !=\" \" and i !=\"\\n\"):\n",
    "\n",
    "                        num_charc += 1\n",
    " \n",
    "    print(\"Number of words in text file: \", num_words)\n",
    "\n",
    "    print(\"Number of lines in text file: \", num_lines)\n",
    "\n",
    "    print('Number of characters in text file: ', num_charc)\n",
    "\n",
    "    print('Number of spaces in text file: ', num_spaces)\n",
    "\n",
    "if __name__ == '__main__': \n",
    "    fname = 'File1.txt'\n",
    "    try: \n",
    "        counter(fname) \n",
    "    except: \n",
    "        print('File not found')"
   ]
  },
  {
   "cell_type": "markdown",
   "id": "c91975e2",
   "metadata": {},
   "source": [
    "9. Python program to Count the Number of occurrences of a key-value pair in a text file\n"
   ]
  },
  {
   "cell_type": "code",
   "execution_count": null,
   "id": "fc4234c3",
   "metadata": {},
   "outputs": [],
   "source": [
    "f = open(\"file.txt\", \"r\")\n",
    "d = dict()\n",
    "  \n",
    "for res in f:\n",
    "\n",
    "    res = res.strip()\n",
    "\n",
    "    res = res.lower()\n",
    "\n",
    "    lines = res.split()\n",
    "  \n",
    "    for line in lines:\n",
    "  \n",
    "        if line in d:\n",
    "\n",
    "            d[line] = d[line]+1\n",
    "        else:\n",
    "\n",
    "            d[line] = 1\n",
    "  \n",
    "f.close()\n",
    "\n",
    "for key in list(d.keys()):\n",
    "    print(\"The count of {} is {}\".format(key,d[key]))"
   ]
  },
  {
   "cell_type": "markdown",
   "id": "a63ba16f",
   "metadata": {},
   "source": [
    "10. Python | Finding ‘n’ Character Words in a Text File"
   ]
  },
  {
   "cell_type": "code",
   "execution_count": null,
   "id": "a5387ee9",
   "metadata": {},
   "outputs": [],
   "source": [
    "count = 1\n",
    "chrw = \"\"\n",
    "  \n",
    "# text file\n",
    "file = open('textfile.txt', 'r')\n",
    "while 1:\n",
    "    sp = file.read(1)\n",
    "  \n",
    "    if count<= 3:\n",
    "        chrw = chrw + sp\n",
    "  \n",
    "    if count>3:\n",
    "        if sp ==\" \":\n",
    "            count = 0\n",
    "            if len(chrw)>0:\n",
    "                print(chrw)\n",
    "                chrw =\"\"\n",
    "        elif sp !=\" \":\n",
    "            chrw =\"\"\n",
    "    count = count + 1\n",
    "  \n",
    "    if not sp:\n",
    "        break\n",
    "  \n",
    "file.close() "
   ]
  }
 ],
 "metadata": {
  "kernelspec": {
   "display_name": "Python 3 (ipykernel)",
   "language": "python",
   "name": "python3"
  },
  "language_info": {
   "codemirror_mode": {
    "name": "ipython",
    "version": 3
   },
   "file_extension": ".py",
   "mimetype": "text/x-python",
   "name": "python",
   "nbconvert_exporter": "python",
   "pygments_lexer": "ipython3",
   "version": "3.9.7"
  }
 },
 "nbformat": 4,
 "nbformat_minor": 5
}
