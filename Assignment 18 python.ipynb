{
 "cells": [
  {
   "cell_type": "markdown",
   "id": "324ac6ba",
   "metadata": {},
   "source": [
    "1. Python – Check whether a string starts and ends with the same character or not\n"
   ]
  },
  {
   "cell_type": "code",
   "execution_count": 1,
   "id": "77f7f991",
   "metadata": {},
   "outputs": [
    {
     "name": "stdout",
     "output_type": "stream",
     "text": [
      "Valid\n",
      "Valid\n",
      "Invalid\n"
     ]
    }
   ],
   "source": [
    "import re\n",
    " \n",
    "regex = r'^[a-z]$|^([a-z]).*\\1$'\n",
    "\n",
    "def check(string):\n",
    "\n",
    "    if(re.search(regex, string)): \n",
    "        print(\"Valid\") \n",
    "    else: \n",
    "        print(\"Invalid\") \n",
    " \n",
    "if __name__ == '__main__' :\n",
    " \n",
    "    sample1 = \"abba\"\n",
    "    sample2 = \"a\"\n",
    "    sample3 = \"abcd\"\n",
    " \n",
    "    check(sample1)\n",
    "    check(sample2)\n",
    "    check(sample3)"
   ]
  },
  {
   "cell_type": "markdown",
   "id": "b61f4b22",
   "metadata": {},
   "source": [
    "2. Python regex to find sequences of one upper case letter followed by lower case letters\n"
   ]
  },
  {
   "cell_type": "code",
   "execution_count": 13,
   "id": "c13f9e53",
   "metadata": {},
   "outputs": [
    {
     "name": "stdout",
     "output_type": "stream",
     "text": [
      "No\n",
      "Yes\n",
      "Yes\n"
     ]
    }
   ],
   "source": [
    "import re\n",
    "\n",
    "def match(text):\n",
    "\n",
    "        pattern = '[A-Z]+[a-z]+$'\n",
    "\n",
    "        if re.search(pattern, text):\n",
    "                return('Yes')\n",
    "        else:\n",
    "                return('No')\n",
    "\n",
    "print(match(\"who\"))\n",
    "print(match(\"KiranaSerenePerson\"))\n",
    "print(match(\"WhoIsHe\"))"
   ]
  },
  {
   "cell_type": "markdown",
   "id": "1147d0a0",
   "metadata": {},
   "source": [
    "3. Python Program to Remove duplicate words from Sentence\n"
   ]
  },
  {
   "cell_type": "code",
   "execution_count": 14,
   "id": "1f4564be",
   "metadata": {},
   "outputs": [
    {
     "name": "stdout",
     "output_type": "stream",
     "text": [
      "Python is great and Java also\n"
     ]
    }
   ],
   "source": [
    "from collections import Counter\n",
    " \n",
    "def remov_duplicates(input):\n",
    "\n",
    "    input = input.split(\" \")\n",
    "\n",
    "    UniqW = Counter(input)\n",
    "\n",
    "    s = \" \".join(UniqW.keys())\n",
    "    print (s)\n",
    "\n",
    "if __name__ == \"__main__\":\n",
    "    input = 'Python is great and Java is also great'\n",
    "    remov_duplicates(input)"
   ]
  },
  {
   "cell_type": "markdown",
   "id": "c8ab23ba",
   "metadata": {},
   "source": [
    "4. Python | Remove all characters except letters and numbers\n"
   ]
  },
  {
   "cell_type": "code",
   "execution_count": 17,
   "id": "e2b6d220",
   "metadata": {},
   "outputs": [
    {
     "name": "stdout",
     "output_type": "stream",
     "text": [
      "initial string :  123abcjw:, .@! eiw\n",
      "final string 123abcjweiw\n"
     ]
    }
   ],
   "source": [
    "import re\n",
    "\n",
    "ini_string = \"123abcjw:, .@! eiw\"\n",
    "\n",
    "print (\"initial string : \", ini_string)\n",
    "\n",
    "  \n",
    "result = re.sub('[\\W_]+', '', ini_string)\n",
    "\n",
    "print (\"final string\", result)"
   ]
  },
  {
   "cell_type": "markdown",
   "id": "6567f645",
   "metadata": {},
   "source": [
    "5. Python Regex | Program to accept string ending with alphanumeric character\n"
   ]
  },
  {
   "cell_type": "code",
   "execution_count": 19,
   "id": "f0d644ca",
   "metadata": {},
   "outputs": [
    {
     "name": "stdout",
     "output_type": "stream",
     "text": [
      "Discard\n",
      "Accept\n",
      "Discard\n",
      "Accept\n"
     ]
    }
   ],
   "source": [
    "import re\n",
    "\n",
    "regex = '[a-zA-z0-9]$'\n",
    "\n",
    "def check(string):\n",
    "\n",
    "    if(re.search(regex, string)):\n",
    "        print(\"Accept\")\n",
    "         \n",
    "    else:\n",
    "        print(\"Discard\")\n",
    "\n",
    "if __name__ == '__main__' :\n",
    "\n",
    "    string = \"ankirai@\"\n",
    "\n",
    "    check(string)\n",
    " \n",
    "    string = \"ankitrai326\"\n",
    "    check(string)\n",
    " \n",
    "    string = \"ankit.\"\n",
    "    check(string)\n",
    " \n",
    "    string = \"heiscool\"\n",
    "    check(string)"
   ]
  },
  {
   "cell_type": "markdown",
   "id": "1ff44b4c",
   "metadata": {},
   "source": [
    "6. Python Regex – Program to accept string starting with vowel\n"
   ]
  },
  {
   "cell_type": "code",
   "execution_count": 20,
   "id": "33c6e029",
   "metadata": {},
   "outputs": [
    {
     "name": "stdout",
     "output_type": "stream",
     "text": [
      "Valid\n",
      "Invalid\n",
      "Invalid\n"
     ]
    }
   ],
   "source": [
    "import re\n",
    "regex = '^[aeiouAEIOU][A-Za-z0-9_]*'\n",
    "\n",
    "def check(string):\n",
    "\n",
    "    if(re.search(regex, string)):\n",
    "        print(\"Valid\")\n",
    "         \n",
    "    else:\n",
    "        print(\"Invalid\")\n",
    "\n",
    "if __name__ == '__main__' :\n",
    "     \n",
    "    # Enter the string\n",
    "    string = \"ankit\"\n",
    "     \n",
    "    # calling run function\n",
    "    check(string)\n",
    " \n",
    "    string = \"geeks\"\n",
    "    check(string)\n",
    " \n",
    "    string = \"sandeep\"\n",
    "    check(string)"
   ]
  },
  {
   "cell_type": "markdown",
   "id": "7534ac6a",
   "metadata": {},
   "source": [
    "7. Python Program to check if a string starts with a substring using regex\n"
   ]
  },
  {
   "cell_type": "code",
   "execution_count": 21,
   "id": "8b30e488",
   "metadata": {},
   "outputs": [
    {
     "name": "stdout",
     "output_type": "stream",
     "text": [
      "string starts with the given substring\n",
      "string doesn't start with the given substring\n"
     ]
    }
   ],
   "source": [
    "import re\n",
    "\n",
    "def find(string, sample) :\n",
    "\n",
    "  if (sample in string):\n",
    "  \n",
    "      y = \"^\" + sample\n",
    "\n",
    "      x = re.search(y, string)\n",
    "  \n",
    "      if x :\n",
    "          print(\"string starts with the given substring\")\n",
    "  \n",
    "      else :\n",
    "          print(\"string doesn't start with the given substring\")\n",
    "  \n",
    "  else :\n",
    "      print(\"entered string isn't a substring\")\n",
    "\n",
    "string = \"geeks for geeks makes learning fun\"  \n",
    "sample = \"geeks\"\n",
    "\n",
    "find(string, sample)\n",
    "  \n",
    "sample = \"makes\"\n",
    "\n",
    "find(string, sample)"
   ]
  },
  {
   "cell_type": "markdown",
   "id": "6698ea5f",
   "metadata": {},
   "source": [
    "8. Python Program to Check if an URL is valid or not using Regular Expression\n"
   ]
  },
  {
   "cell_type": "code",
   "execution_count": 26,
   "id": "c55635a6",
   "metadata": {},
   "outputs": [
    {
     "name": "stdout",
     "output_type": "stream",
     "text": [
      "Yes\n"
     ]
    }
   ],
   "source": [
    "import re\n",
    "\n",
    "def isValidURL(str):\n",
    "\n",
    "    regex = (\"((http|https)://)(www.)?\" +\n",
    "             \"[a-zA-Z0-9@:%._\\\\+~#?&//=]\" +\n",
    "             \"{2,256}\\\\.[a-z]\" +\n",
    "             \"{2,6}\\\\b([-a-zA-Z0-9@:%\" +\n",
    "             \"._\\\\+~#?&//=]*)\")\n",
    "\n",
    "    p = re.compile(regex)\n",
    "\n",
    "    if (str == None):\n",
    "        return False\n",
    "\n",
    "    if(re.search(p, str)):\n",
    "        return True\n",
    "    else:\n",
    "        return False\n",
    "\n",
    "url = \"https://www.englishworld.org\"\n",
    " \n",
    "if(isValidURL(url) == True):\n",
    "    print(\"Yes\")\n",
    "else:\n",
    "    print(\"No\")\n",
    " \n"
   ]
  },
  {
   "cell_type": "markdown",
   "id": "cdda125c",
   "metadata": {},
   "source": [
    "9. Parsing and Processing URL using Python – Regex\n"
   ]
  },
  {
   "cell_type": "code",
   "execution_count": 28,
   "id": "2e83df44",
   "metadata": {},
   "outputs": [
    {
     "name": "stdout",
     "output_type": "stream",
     "text": [
      "['https']\n",
      "['jobworld.org']\n"
     ]
    }
   ],
   "source": [
    "import re  \n",
    "\n",
    "s = 'https://www.jobworld.org/'\n",
    " \n",
    "obj1 = re.findall('(\\w+)://',s)\n",
    "print(obj1)\n",
    "\n",
    "obj2 = re.findall('://www.([\\w\\-\\.]+)', s)\n",
    "print(obj2)"
   ]
  },
  {
   "cell_type": "markdown",
   "id": "a74af6d2",
   "metadata": {},
   "source": [
    "10. Python Program to validate an IP address using ReGex"
   ]
  },
  {
   "cell_type": "code",
   "execution_count": 29,
   "id": "31c7b795",
   "metadata": {},
   "outputs": [
    {
     "name": "stdout",
     "output_type": "stream",
     "text": [
      "Valid Ip address\n",
      "Valid Ip address\n",
      "Invalid Ip address\n"
     ]
    }
   ],
   "source": [
    "import re\n",
    "\n",
    "regex = \"^((25[0-5]|2[0-4][0-9]|1[0-9][0-9]|[1-9]?[0-9])\\.){3}(25[0-5]|2[0-4][0-9]|1[0-9][0-9]|[1-9]?[0-9])$\"\n",
    "\n",
    "def check(Ip):\n",
    "\n",
    "    if(re.search(regex, Ip)):\n",
    "        print(\"Valid Ip address\")\n",
    "         \n",
    "    else:\n",
    "        print(\"Invalid Ip address\")\n",
    "\n",
    "if __name__ == '__main__' :\n",
    "\n",
    "    Ip = \"192.168.0.1\"\n",
    "\n",
    "    check(Ip)\n",
    " \n",
    "    Ip = \"110.234.52.124\"\n",
    "    check(Ip)\n",
    " \n",
    "    Ip = \"366.1.2.2\"\n",
    "    check(Ip)"
   ]
  }
 ],
 "metadata": {
  "kernelspec": {
   "display_name": "Python 3 (ipykernel)",
   "language": "python",
   "name": "python3"
  },
  "language_info": {
   "codemirror_mode": {
    "name": "ipython",
    "version": 3
   },
   "file_extension": ".py",
   "mimetype": "text/x-python",
   "name": "python",
   "nbconvert_exporter": "python",
   "pygments_lexer": "ipython3",
   "version": "3.9.7"
  }
 },
 "nbformat": 4,
 "nbformat_minor": 5
}
