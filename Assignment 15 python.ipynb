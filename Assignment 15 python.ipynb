{
 "cells": [
  {
   "cell_type": "markdown",
   "id": "323cc066",
   "metadata": {},
   "source": [
    "1. Python Program for Topological Sorting\n"
   ]
  },
  {
   "cell_type": "code",
   "execution_count": 1,
   "id": "19daf80e",
   "metadata": {},
   "outputs": [
    {
     "name": "stdout",
     "output_type": "stream",
     "text": [
      "Following is a Topological Sort of the given graph\n",
      "[5, 4, 2, 3, 1, 0]\n"
     ]
    }
   ],
   "source": [
    "from collections import defaultdict\n",
    "\n",
    "class Graph:\n",
    "    def __init__(self,vertices):\n",
    "        self.graph = defaultdict(list)\n",
    "        self.V = vertices\n",
    "\n",
    "    def addEdge(self,u,v):\n",
    "        self.graph[u].append(v)\n",
    "\n",
    "    def topologicalSortUtil(self,v,visited,stack):\n",
    "\n",
    "        visited[v] = True\n",
    "\n",
    "        for i in self.graph[v]:\n",
    "            if visited[i] == False:\n",
    "                self.topologicalSortUtil(i,visited,stack)\n",
    "\n",
    "        stack.insert(0,v)\n",
    "\n",
    "    def topologicalSort(self):\n",
    "        # Mark all the vertices as not visited\n",
    "        visited = [False]*self.V\n",
    "        stack =[]\n",
    "\n",
    "        for i in range(self.V):\n",
    "            if visited[i] == False:\n",
    "                self.topologicalSortUtil(i,visited,stack)\n",
    "\n",
    "        print (stack)\n",
    " \n",
    "g= Graph(6)\n",
    "g.addEdge(5, 2);\n",
    "g.addEdge(5, 0);\n",
    "g.addEdge(4, 0);\n",
    "g.addEdge(4, 1);\n",
    "g.addEdge(2, 3);\n",
    "g.addEdge(3, 1);\n",
    " \n",
    "print (\"Following is a Topological Sort of the given graph\")\n",
    "g.topologicalSort()"
   ]
  },
  {
   "cell_type": "markdown",
   "id": "dc2b5a5a",
   "metadata": {},
   "source": [
    "2. Python Program for Radix Sort\n"
   ]
  },
  {
   "cell_type": "code",
   "execution_count": 2,
   "id": "5d82cdea",
   "metadata": {},
   "outputs": [
    {
     "name": "stdout",
     "output_type": "stream",
     "text": [
      "2 24 45 66 75 90 170 802 "
     ]
    }
   ],
   "source": [
    "def countingSort(arr, exp1):\n",
    "   \n",
    "    n = len(arr)\n",
    "\n",
    "    output = [0] * (n)\n",
    "\n",
    "    count = [0] * (10)\n",
    "\n",
    "    for i in range(0, n):\n",
    "        index = (arr[i]/exp1)\n",
    "        count[int((index)%10)] += 1\n",
    "\n",
    "    for i in range(1,10):\n",
    "        count[i] += count[i-1]\n",
    "\n",
    "    i = n-1\n",
    "    while i>=0:\n",
    "        index = (arr[i]/exp1)\n",
    "        output[ count[ int((index)%10) ] - 1] = arr[i]\n",
    "        count[int((index)%10)] -= 1\n",
    "        i -= 1\n",
    "    i = 0\n",
    "    for i in range(0,len(arr)):\n",
    "        arr[i] = output[i]\n",
    "\n",
    "def radixSort(arr):\n",
    " \n",
    "\n",
    "    max1 = max(arr)\n",
    "\n",
    "    exp = 1\n",
    "    while max1/exp > 0:\n",
    "        countingSort(arr,exp)\n",
    "        exp *= 10\n",
    "\n",
    "arr = [ 170, 45, 75, 90, 802, 24, 2, 66]\n",
    "radixSort(arr)\n",
    " \n",
    "for i in range(len(arr)):\n",
    "    print(arr[i],end=\" \")"
   ]
  },
  {
   "cell_type": "markdown",
   "id": "9d6799ed",
   "metadata": {},
   "source": [
    "3. Python Program for Binary Insertion Sort\n"
   ]
  },
  {
   "cell_type": "code",
   "execution_count": 9,
   "id": "5b980253",
   "metadata": {},
   "outputs": [
    {
     "name": "stdout",
     "output_type": "stream",
     "text": [
      "Sorted array:\n",
      "[3, 12, 17, 23, 31, 37, 46, 54, 72, 88, 100]\n"
     ]
    }
   ],
   "source": [
    "def binary_search(arr, val, start, end):\n",
    "\n",
    "    if start == end:\n",
    "        if arr[start] > val:\n",
    "            return start\n",
    "        else:\n",
    "            return start+1\n",
    " \n",
    "    if start > end:\n",
    "        return start\n",
    "  \n",
    "    mid = (start+end)//2\n",
    "    if arr[mid] < val:\n",
    "        return binary_search(arr, val, mid+1, end)\n",
    "    elif arr[mid] > val:\n",
    "        return binary_search(arr, val, start, mid-1)\n",
    "    else:\n",
    "        return mid\n",
    "  \n",
    "def insertion_sort(arr):\n",
    "    for i in range(1, len(arr)):\n",
    "        val = arr[i]\n",
    "        j = binary_search(arr, val, 0, i-1)\n",
    "        arr = arr[:j] + [val] + arr[j:i] + arr[i+1:]\n",
    "    return arr\n",
    "  \n",
    "print(\"Sorted array:\")\n",
    "print(insertion_sort([37, 23, 3, 17, 12, 72, 31,46, 100, 88, 54]))"
   ]
  },
  {
   "cell_type": "markdown",
   "id": "b679d080",
   "metadata": {},
   "source": [
    "4. Python Program for Bitonic Sort\n"
   ]
  },
  {
   "cell_type": "code",
   "execution_count": 10,
   "id": "ddfb7d32",
   "metadata": {},
   "outputs": [
    {
     "name": "stdout",
     "output_type": "stream",
     "text": [
      "\n",
      "\n",
      "Sorted array is\n",
      "1 5 2 6 3 7 4 8 "
     ]
    }
   ],
   "source": [
    "def compAndSwap(a, i, j, dire):\n",
    "    if (dire==1 and a[i] > a[j]) or (dire==0 and a[i] > a[j]):\n",
    "        a[i],a[j] = a[j],a[i]\n",
    "\n",
    "def bitonicMerge(a, low, cnt, dire):\n",
    "    if cnt > 1:\n",
    "        k = cnt//2\n",
    "        for i in range(low , low+k):\n",
    "            compAndSwap(a, i, i+k, dire)\n",
    "        bitonicMerge(a, low, k, dire)\n",
    "        bitonicMerge(a, low+k, k, dire)\n",
    "\n",
    "def bitonicSort(a, low, cnt,dire):\n",
    "    if cnt > 1:\n",
    "          k = cnt//2\n",
    "          bitonicSort(a, low, k, 1)\n",
    "          bitonicSort(a, low+k, k, 0)\n",
    "          bitonicMerge(a, low, cnt, dire)\n",
    " \n",
    "\n",
    "def sort(a,N, up):\n",
    "    bitonicSort(a,0, N, up)\n",
    " \n",
    "a = [3, 7, 4, 8, 6, 2, 1, 5]\n",
    "n = len(a)\n",
    "up = 1\n",
    " \n",
    "sort(a, n, up)\n",
    "print (\"\\n\\nSorted array is\")\n",
    "for i in range(n):\n",
    "    print(\"%d\" %a[i],end=\" \")"
   ]
  },
  {
   "cell_type": "markdown",
   "id": "f1f3beb0",
   "metadata": {},
   "source": [
    "5. Python Program for Comb Sort\n"
   ]
  },
  {
   "cell_type": "code",
   "execution_count": 12,
   "id": "29306a08",
   "metadata": {},
   "outputs": [
    {
     "name": "stdout",
     "output_type": "stream",
     "text": [
      "Sorted array:\n",
      "-44\n",
      "-6\n",
      "0\n",
      "1\n",
      "3\n",
      "4\n",
      "8\n",
      "23\n",
      "28\n"
     ]
    }
   ],
   "source": [
    "def getNextGap(gap):\n",
    "\n",
    "    gap = (gap * 10)//13\n",
    "    if gap < 1:\n",
    "        return 1\n",
    "    return gap\n",
    "\n",
    "def combSort(arr):\n",
    "    n = len(arr)\n",
    "\n",
    "    gap = n\n",
    "\n",
    "    swapped = True\n",
    "\n",
    "    while gap !=1 or swapped == 1:\n",
    "\n",
    "        gap = getNextGap(gap)\n",
    "\n",
    "        swapped = False\n",
    "\n",
    "        for i in range(0, n-gap):\n",
    "            if arr[i] > arr[i + gap]:\n",
    "                arr[i], arr[i + gap]=arr[i + gap], arr[i]\n",
    "                swapped = True\n",
    "\n",
    "arr = [ 8, 4, 1, 3, -44, 23, -6, 28, 0]\n",
    "combSort(arr)\n",
    " \n",
    "print (\"Sorted array:\")\n",
    "for i in range(len(arr)):\n",
    "    print (arr[i]),"
   ]
  },
  {
   "cell_type": "markdown",
   "id": "4a98f43d",
   "metadata": {},
   "source": [
    "6. Python Program for Pigeonhole Sort\n"
   ]
  },
  {
   "cell_type": "code",
   "execution_count": 13,
   "id": "4d08e004",
   "metadata": {},
   "outputs": [
    {
     "name": "stdout",
     "output_type": "stream",
     "text": [
      "Sorted order is :  2 3 4 6 7 8 8 "
     ]
    }
   ],
   "source": [
    "def pigeonhole_sort(a):\n",
    "\n",
    "    my_min = min(a)\n",
    "    my_max = max(a)\n",
    "    size = my_max - my_min + 1\n",
    "\n",
    "    holes = [0] * size\n",
    "\n",
    "    for x in a:\n",
    "        assert type(x) is int, \"integers only please\"\n",
    "        holes[x - my_min] += 1\n",
    "\n",
    "    i = 0\n",
    "    for count in range(size):\n",
    "        while holes[count] > 0:\n",
    "            holes[count] -= 1\n",
    "            a[i] = count + my_min\n",
    "            i += 1\n",
    "              \n",
    "  \n",
    "a = [8, 3, 2, 7, 4, 6, 8]\n",
    "print(\"Sorted order is : \", end =\" \")\n",
    "  \n",
    "pigeonhole_sort(a)\n",
    "          \n",
    "for i in range(0, len(a)):\n",
    "    print(a[i], end =\" \")"
   ]
  },
  {
   "cell_type": "markdown",
   "id": "3eebecd7",
   "metadata": {},
   "source": [
    "7. Python Program for Cocktail Sort\n"
   ]
  },
  {
   "cell_type": "code",
   "execution_count": 14,
   "id": "d46f50bd",
   "metadata": {},
   "outputs": [
    {
     "name": "stdout",
     "output_type": "stream",
     "text": [
      "Sorted array is:\n",
      "0\n",
      "1\n",
      "2\n",
      "2\n",
      "4\n",
      "5\n",
      "8\n"
     ]
    }
   ],
   "source": [
    "def cocktailSort(a):\n",
    "    n = len(a)\n",
    "    swapped = True\n",
    "    start = 0\n",
    "    end = n-1\n",
    "    while (swapped==True):\n",
    "\n",
    "        swapped = False\n",
    "\n",
    "        for i in range (start, end):\n",
    "            if (a[i] > a[i+1]) :\n",
    "                a[i], a[i+1]= a[i+1], a[i]\n",
    "                swapped=True\n",
    "\n",
    "        if (swapped==False):\n",
    "            break\n",
    "\n",
    "        swapped = False\n",
    "  \n",
    "        end = end-1\n",
    "\n",
    "        for i in range(end-1, start-1,-1):\n",
    "            if (a[i] > a[i+1]):\n",
    "                a[i], a[i+1] = a[i+1], a[i]\n",
    "                swapped = True\n",
    "\n",
    "        start = start+1\n",
    "\n",
    "a = [5, 1, 4, 2, 8, 0, 2]\n",
    "cocktailSort(a)\n",
    "print(\"Sorted array is:\")\n",
    "for i in range(len(a)):\n",
    "    print (\"%d\" %a[i]),"
   ]
  },
  {
   "cell_type": "markdown",
   "id": "b12c88f4",
   "metadata": {},
   "source": [
    "8. Python Program for Gnome Sort\n"
   ]
  },
  {
   "cell_type": "code",
   "execution_count": 17,
   "id": "e7142f95",
   "metadata": {},
   "outputs": [
    {
     "name": "stdout",
     "output_type": "stream",
     "text": [
      "Sorted sequence after applying Gnome Sort :\n",
      "-9\n",
      "2\n",
      "10\n",
      "34\n"
     ]
    }
   ],
   "source": [
    "def gnomeSort( arr, n):\n",
    "    index = 0\n",
    "    while index < n:\n",
    "        if index == 0:\n",
    "            index = index + 1\n",
    "        if arr[index] >= arr[index - 1]:\n",
    "            index = index + 1\n",
    "        else:\n",
    "            arr[index], arr[index-1] = arr[index-1], arr[index]\n",
    "            index = index - 1\n",
    " \n",
    "    return arr\n",
    " \n",
    "# Driver Code\n",
    "arr = [ 34, 2, 10, -9]\n",
    "n = len(arr)\n",
    " \n",
    "arr = gnomeSort(arr, n)\n",
    "print (\"Sorted sequence after applying Gnome Sort :\")\n",
    "for i in arr:\n",
    "    print(i)"
   ]
  },
  {
   "cell_type": "markdown",
   "id": "0c3abdae",
   "metadata": {},
   "source": [
    "9. Python Program for Odd-Even Sort / Brick Sort\n"
   ]
  },
  {
   "cell_type": "code",
   "execution_count": 18,
   "id": "300091fa",
   "metadata": {},
   "outputs": [
    {
     "name": "stdout",
     "output_type": "stream",
     "text": [
      "-9 2 10 34 "
     ]
    }
   ],
   "source": [
    "def oddEvenSort(arr, n):\n",
    "  \n",
    "    isSorted = 0\n",
    "    while isSorted == 0:\n",
    "        isSorted = 1\n",
    "        temp = 0\n",
    "        for i in range(1, n-1, 2):\n",
    "            if arr[i] > arr[i+1]:\n",
    "                arr[i], arr[i+1] = arr[i+1], arr[i]\n",
    "                isSorted = 0\n",
    "                  \n",
    "        for i in range(0, n-1, 2):\n",
    "            if arr[i] > arr[i+1]:\n",
    "                arr[i], arr[i+1] = arr[i+1], arr[i]\n",
    "                isSorted = 0\n",
    "      \n",
    "    return\n",
    "  \n",
    "  \n",
    "arr = [34, 2, 10, -9]\n",
    "n = len(arr)\n",
    "  \n",
    "oddEvenSort(arr, n);\n",
    "for i in range(0, n):\n",
    "    print(arr[i], end =\" \")"
   ]
  },
  {
   "cell_type": "markdown",
   "id": "28fe50fe",
   "metadata": {},
   "source": [
    "10. Python Program for BogoSort or Permutation Sort"
   ]
  },
  {
   "cell_type": "code",
   "execution_count": 20,
   "id": "5a25dc78",
   "metadata": {},
   "outputs": [
    {
     "name": "stdout",
     "output_type": "stream",
     "text": [
      "Sorted array :\n",
      "0\n",
      "1\n",
      "2\n",
      "3\n",
      "4\n",
      "5\n"
     ]
    }
   ],
   "source": [
    "import random\n",
    "\n",
    "def bogoSort(a):\n",
    "    n = len(a)\n",
    "    while (is_sorted(a)== False):\n",
    "        shuffle(a)\n",
    "\n",
    "def is_sorted(a):\n",
    "    n = len(a)\n",
    "    for i in range(0, n-1):\n",
    "        if (a[i] > a[i+1] ):\n",
    "            return False\n",
    "    return True\n",
    "\n",
    "def shuffle(a):\n",
    "    n = len(a)\n",
    "    for i in range (0,n):\n",
    "        r = random.randint(0,n-1)\n",
    "        a[i], a[r] = a[r], a[i]\n",
    "\n",
    "a = [3, 2, 4, 1, 0, 5]\n",
    "bogoSort(a)\n",
    "print(\"Sorted array :\")\n",
    "for i in range(len(a)):\n",
    "    print (\"%d\" %a[i])"
   ]
  }
 ],
 "metadata": {
  "kernelspec": {
   "display_name": "Python 3 (ipykernel)",
   "language": "python",
   "name": "python3"
  },
  "language_info": {
   "codemirror_mode": {
    "name": "ipython",
    "version": 3
   },
   "file_extension": ".py",
   "mimetype": "text/x-python",
   "name": "python",
   "nbconvert_exporter": "python",
   "pygments_lexer": "ipython3",
   "version": "3.9.7"
  }
 },
 "nbformat": 4,
 "nbformat_minor": 5
}
