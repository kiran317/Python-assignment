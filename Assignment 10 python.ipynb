{
 "cells": [
  {
   "cell_type": "markdown",
   "id": "34d5f1ad",
   "metadata": {},
   "source": [
    "1. Python | Ways to remove a key from dictionary\n"
   ]
  },
  {
   "cell_type": "code",
   "execution_count": 9,
   "id": "01bf906b",
   "metadata": {},
   "outputs": [
    {
     "name": "stdout",
     "output_type": "stream",
     "text": [
      "{'hari': 21, 'sita': 15}\n"
     ]
    }
   ],
   "source": [
    "a={\"ram\":10,\"hari\":21,\"sita\":15}\n",
    "a.pop(\"ram\")\n",
    "print(a)"
   ]
  },
  {
   "cell_type": "markdown",
   "id": "7bda670e",
   "metadata": {},
   "source": [
    "2. Ways to sort list of dictionaries by values in Python – Using itemgetter\n"
   ]
  },
  {
   "cell_type": "code",
   "execution_count": 13,
   "id": "4d28500e",
   "metadata": {},
   "outputs": [
    {
     "name": "stdout",
     "output_type": "stream",
     "text": [
      "The list printed sorting by age: \n",
      "[{'name': 'Nikhil', 'age': 19}, {'name': 'Nandini', 'age': 20}, {'name': 'Manjeet', 'age': 20}]\n",
      "\r\n",
      "The list printed sorting by age and name: \n",
      "[{'name': 'Nikhil', 'age': 19}, {'name': 'Manjeet', 'age': 20}, {'name': 'Nandini', 'age': 20}]\n"
     ]
    }
   ],
   "source": [
    "from operator import itemgetter\n",
    "\n",
    "lis = [{ \"name\" : \"Nandini\", \"age\" : 20}, \n",
    "{ \"name\" : \"Manjeet\", \"age\" : 20 },\n",
    "{ \"name\" : \"Nikhil\" , \"age\" : 19 }]\n",
    "\n",
    "print (\"The list printed sorting by age: \")\n",
    "print (sorted(lis, key=itemgetter('age')))\n",
    "  \n",
    "print (\"\\r\")\n",
    "\n",
    "print (\"The list printed sorting by age and name: \")\n",
    "print (sorted(lis, key=itemgetter('age', 'name')))\n"
   ]
  },
  {
   "cell_type": "markdown",
   "id": "bb592e17",
   "metadata": {},
   "source": [
    "3. Ways to sort list of dictionaries by values in Python – Using lambda function\n"
   ]
  },
  {
   "cell_type": "code",
   "execution_count": 15,
   "id": "330d9fd3",
   "metadata": {},
   "outputs": [
    {
     "name": "stdout",
     "output_type": "stream",
     "text": [
      "The list printed sorting by age: \n",
      "[{'name': 'Nikhil', 'age': 19}, {'name': 'Nandini', 'age': 20}, {'name': 'Manjeet', 'age': 20}]\n",
      "\r\n",
      "The list printed sorting by age and name: \n",
      "[{'name': 'Nikhil', 'age': 19}, {'name': 'Manjeet', 'age': 20}, {'name': 'Nandini', 'age': 20}]\n"
     ]
    }
   ],
   "source": [
    "\n",
    "lis = [{ \"name\" : \"Nandini\", \"age\" : 20},\n",
    "{ \"name\" : \"Manjeet\", \"age\" : 20 },\n",
    "{ \"name\" : \"Nikhil\" , \"age\" : 19 }]\n",
    "\n",
    "print (\"The list printed sorting by age: \")\n",
    "print (sorted(lis, key = lambda i: i['age']))\n",
    " \n",
    "print (\"\\r\")\n",
    "\n",
    "print (\"The list printed sorting by age and name: \")\n",
    "print (sorted(lis, key = lambda i: (i['age'], i['name'])))"
   ]
  },
  {
   "cell_type": "markdown",
   "id": "57f8412a",
   "metadata": {},
   "source": [
    "4. Python | Merging two Dictionaries\n"
   ]
  },
  {
   "cell_type": "code",
   "execution_count": 16,
   "id": "ed4a95e4",
   "metadata": {},
   "outputs": [
    {
     "name": "stdout",
     "output_type": "stream",
     "text": [
      "None\n",
      "{'d': 6, 'c': 4, 'a': 10, 'b': 8}\n"
     ]
    }
   ],
   "source": [
    "def Merge(dict1, dict2):\n",
    "    return(dict2.update(dict1))\n",
    "\n",
    "dict1 = {'a': 10, 'b': 8}\n",
    "dict2 = {'d': 6, 'c': 4}\n",
    "\n",
    "print(Merge(dict1, dict2))\n",
    "\n",
    "print(dict2)"
   ]
  },
  {
   "cell_type": "markdown",
   "id": "a66387f1",
   "metadata": {},
   "source": [
    "5. Python – Convert key-values list to flat dictionary\n"
   ]
  },
  {
   "cell_type": "code",
   "execution_count": 21,
   "id": "1eb83bb4",
   "metadata": {},
   "outputs": [
    {
     "name": "stdout",
     "output_type": "stream",
     "text": [
      "{'month': [1, 2, 3], 'name': ['jan', 'feb', 'march']}\n",
      "{1: 'jan', 2: 'feb', 3: 'march'}\n"
     ]
    }
   ],
   "source": [
    "from itertools import product\n",
    "test_dict={\"month\":[1,2,3],\"name\":['jan','feb','march']}\n",
    "print(test_dict)\n",
    "res=dict(zip(test_dict[\"month\"],test_dict[\"name\"]))\n",
    "print(res)"
   ]
  },
  {
   "cell_type": "markdown",
   "id": "9e87e3c5",
   "metadata": {},
   "source": [
    "6. Python – Insertion at the beginning in OrderedDict\n"
   ]
  },
  {
   "cell_type": "code",
   "execution_count": 26,
   "id": "00dc5692",
   "metadata": {},
   "outputs": [
    {
     "name": "stdout",
     "output_type": "stream",
     "text": [
      "OrderedDict([('shyam', '15'), ('ram', '10'), ('hari', '12')])\n"
     ]
    }
   ],
   "source": [
    "from collections import OrderedDict\n",
    "inordered_dict=OrderedDict([('ram','10'),('hari','12')])\n",
    "inordered_dict.update({'shyam':'15'})\n",
    "inordered_dict.move_to_end('shyam',last=False)\n",
    "print(inordered_dict)\n"
   ]
  },
  {
   "cell_type": "markdown",
   "id": "96c8595d",
   "metadata": {},
   "source": [
    "7. Python | Check order of character in string using OrderedDict( )\n"
   ]
  },
  {
   "cell_type": "code",
   "execution_count": 50,
   "id": "88108da8",
   "metadata": {},
   "outputs": [
    {
     "name": "stdout",
     "output_type": "stream",
     "text": [
      "True\n"
     ]
    }
   ],
   "source": [
    "from collections import OrderedDict\n",
    "def checkorder(input,pattern):\n",
    "    dict=OrderedDict.fromkeys(input)\n",
    "    pat=0\n",
    "    for key,value in dict.items():\n",
    "        if (key==pattern[pat]):\n",
    "            pat=pat+1\n",
    "            if (len(pattern)==pat):\n",
    "                return True\n",
    "    \n",
    "    return False\n",
    "input='engineers rock'\n",
    "pattern='en'\n",
    "print(checkorder(input,pattern))\n",
    "    \n",
    "    "
   ]
  },
  {
   "cell_type": "markdown",
   "id": "e4451377",
   "metadata": {},
   "source": [
    "8. Dictionary and counter in Python to find winner of election\n"
   ]
  },
  {
   "cell_type": "code",
   "execution_count": 52,
   "id": "558b7eed",
   "metadata": {},
   "outputs": [
    {
     "name": "stdout",
     "output_type": "stream",
     "text": [
      "The winner is  john\n"
     ]
    }
   ],
   "source": [
    "from collections import Counter\n",
    " \n",
    "votes =['john','john','jackie','johnny','john','jackie',\n",
    "    'jamie','jamie','john','johnny','jamie','johnny','john']\n",
    "\n",
    "vote_count=Counter(votes)\n",
    "max_votes=max(vote_count.values())\n",
    "for i in vote_count.keys():\n",
    "    if vote_count[i]==max_votes:\n",
    "        print(\"The winner is \",i)"
   ]
  },
  {
   "cell_type": "markdown",
   "id": "0df08215",
   "metadata": {},
   "source": [
    "9. Python – Append Dictionary Keys and Values ( In order ) in dictionary\n"
   ]
  },
  {
   "cell_type": "code",
   "execution_count": 56,
   "id": "5cfbd28b",
   "metadata": {},
   "outputs": [
    {
     "name": "stdout",
     "output_type": "stream",
     "text": [
      "The ordered keys and values: ['Gfg', 'is', 'Best', 1, 3, 2]\n"
     ]
    }
   ],
   "source": [
    "test_dict = {\"Gfg\" : 1, \"is\" :  3, \"Best\" : 2}\n",
    "res=list(test_dict.keys()) + list(test_dict.values())\n",
    "print(\"The ordered keys and values:\", res)"
   ]
  },
  {
   "cell_type": "markdown",
   "id": "80bf5dd2",
   "metadata": {},
   "source": [
    "10. Python | Sort Python Dictionaries by Key or Value"
   ]
  },
  {
   "cell_type": "code",
   "execution_count": 64,
   "id": "35163955",
   "metadata": {},
   "outputs": [
    {
     "name": "stdout",
     "output_type": "stream",
     "text": [
      "Task 2:-\n",
      "Keys and Values sorted in alphabetical order by the key  \n",
      "(1, 2) (2, 56) (3, 323) (4, 24) (5, 12) (6, 18) "
     ]
    }
   ],
   "source": [
    "def dictionairy():\n",
    "    key_value ={}\n",
    "    key_value[2] = 56      \n",
    "    key_value[1] = 2\n",
    "    key_value[5] = 12\n",
    "    key_value[4] = 24\n",
    "    key_value[6] = 18     \n",
    "    key_value[3] = 323\n",
    "    print (\"Task 2:-\\nKeys and Values sorted in\",\n",
    "            \"alphabetical order by the key  \") \n",
    "    for i in sorted (key_value) :\n",
    "        print ((i, key_value[i]), end =\" \")\n",
    "        \n",
    "dictionairy()  \n",
    " "
   ]
  },
  {
   "cell_type": "code",
   "execution_count": null,
   "id": "6fc2daee",
   "metadata": {},
   "outputs": [],
   "source": []
  }
 ],
 "metadata": {
  "kernelspec": {
   "display_name": "Python 3 (ipykernel)",
   "language": "python",
   "name": "python3"
  },
  "language_info": {
   "codemirror_mode": {
    "name": "ipython",
    "version": 3
   },
   "file_extension": ".py",
   "mimetype": "text/x-python",
   "name": "python",
   "nbconvert_exporter": "python",
   "pygments_lexer": "ipython3",
   "version": "3.9.7"
  }
 },
 "nbformat": 4,
 "nbformat_minor": 5
}
