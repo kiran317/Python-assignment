{
 "cells": [
  {
   "cell_type": "markdown",
   "id": "5bc6739a",
   "metadata": {},
   "source": [
    "1. Python program to find difference between current time and given time\n"
   ]
  },
  {
   "cell_type": "code",
   "execution_count": 1,
   "id": "76d1a7f4",
   "metadata": {},
   "outputs": [
    {
     "name": "stdout",
     "output_type": "stream",
     "text": [
      "The current times:  4 : 5\n",
      "The given times: 6 : 7\n",
      "The difference:  2 : 2 \n",
      "\n",
      "The current times:  1 : 1\n",
      "The given times: 1 : 1\n",
      "The difference: Both are Same !\n"
     ]
    }
   ],
   "source": [
    "def time_difference(h1, m1, h2, m2):\n",
    "    print(\"The current times: \", h1, \":\", m1)\n",
    "    t1 = h1 * 60 + m1\n",
    "    print(\"The given times:\", h2, \":\", m2)\n",
    "    t2 = h2 * 60 + m2\n",
    "    if(t1 == t2):\n",
    "        print(\"The difference: Both are Same !\")\n",
    "        return\n",
    "    else:\n",
    "        difference = t2 - t1\n",
    "    h = (int(difference/60)) % 24\n",
    "    m = difference % 60\n",
    "    print(\"The difference: \", h, \":\", m, \"\\n\")\n",
    "time_difference(4, 5, 6, 7)\n",
    "time_difference(1, 1, 1, 1)"
   ]
  },
  {
   "cell_type": "markdown",
   "id": "8ff309c0",
   "metadata": {},
   "source": [
    "2. Python Program to Create a Lap Timer\n"
   ]
  },
  {
   "cell_type": "code",
   "execution_count": 2,
   "id": "cbd390b2",
   "metadata": {},
   "outputs": [
    {
     "name": "stdout",
     "output_type": "stream",
     "text": [
      "Press ENTER to count laps.\n",
      "Press CTRL+C to stop\n",
      "\n",
      "Lap No. 1\n",
      "Total Time: 5.06\n",
      "Lap Time: 5.06\n",
      "********************\n",
      "\n",
      "Lap No. 2\n",
      "Total Time: 45.02\n",
      "Lap Time: 39.96\n",
      "********************\n",
      "\n",
      "Lap No. 3\n",
      "Total Time: 47.5\n",
      "Lap Time: 2.47\n",
      "********************\n",
      "\n",
      "Lap No. 4\n",
      "Total Time: 49.95\n",
      "Lap Time: 2.46\n",
      "********************\n",
      "\n",
      "Lap No. 5\n",
      "Total Time: 54.62\n",
      "Lap Time: 4.67\n",
      "********************\n",
      "\n",
      "Lap No. 6\n",
      "Total Time: 58.33\n",
      "Lap Time: 3.71\n",
      "********************\n",
      "\n",
      "Lap No. 7\n",
      "Total Time: 69.73\n",
      "Lap Time: 11.4\n",
      "********************\n",
      "\n",
      "Lap No. 8\n",
      "Total Time: 73.95\n",
      "Lap Time: 4.22\n",
      "********************\n",
      "\n",
      "Lap No. 9\n",
      "Total Time: 77.13\n",
      "Lap Time: 3.18\n",
      "********************\n",
      "\n",
      "Lap No. 10\n",
      "Total Time: 79.98\n",
      "Lap Time: 2.85\n",
      "********************\n",
      "\n",
      "Lap No. 11\n",
      "Total Time: 82.33\n",
      "Lap Time: 2.35\n",
      "********************\n",
      "\n",
      "Lap No. 12\n",
      "Total Time: 87.44\n",
      "Lap Time: 5.11\n",
      "********************\n",
      "\n",
      "Lap No. 13\n",
      "Total Time: 88.35\n",
      "Lap Time: 0.9\n",
      "********************\n",
      "\n",
      "Lap No. 14\n",
      "Total Time: 89.46\n",
      "Lap Time: 1.11\n",
      "********************\n",
      "\n",
      "Lap No. 15\n",
      "Total Time: 90.94\n",
      "Lap Time: 1.48\n",
      "********************\n",
      "\n",
      "Lap No. 16\n",
      "Total Time: 93.57\n",
      "Lap Time: 2.63\n",
      "********************\n",
      "\n",
      "Lap No. 17\n",
      "Total Time: 94.97\n",
      "Lap Time: 1.4\n",
      "********************\n",
      "d\n",
      "Lap No. 18\n",
      "Total Time: 409.01\n",
      "Lap Time: 314.04\n",
      "********************\n",
      "Done\n"
     ]
    }
   ],
   "source": [
    "import time\n",
    "\n",
    "starttime=time.time()\n",
    "lasttime=starttime\n",
    "lapnum=1\n",
    "  \n",
    "print(\"Press ENTER to count laps.\\nPress CTRL+C to stop\")\n",
    "  \n",
    "try:\n",
    "     while True:\n",
    "\n",
    "          input()\n",
    "\n",
    "          laptime=round((time.time() - lasttime), 2)\n",
    "\n",
    "          totaltime=round((time.time() - starttime), 2)\n",
    "\n",
    "          print(\"Lap No. \"+str(lapnum)) \n",
    "          print(\"Total Time: \"+str(totaltime))\n",
    "          print(\"Lap Time: \"+str(laptime))\n",
    "            \n",
    "          print(\"*\"*20)\n",
    "\n",
    "          lasttime=time.time()\n",
    "          lapnum+=1\n",
    "\n",
    "except KeyboardInterrupt:\n",
    "     print(\"Done\")"
   ]
  },
  {
   "cell_type": "markdown",
   "id": "89a9ecf9",
   "metadata": {},
   "source": [
    "3. Convert date string to timestamp in Python\n"
   ]
  },
  {
   "cell_type": "code",
   "execution_count": 3,
   "id": "f4ab822c",
   "metadata": {},
   "outputs": [
    {
     "name": "stdout",
     "output_type": "stream",
     "text": [
      "1579458600.0\n"
     ]
    }
   ],
   "source": [
    "import time\n",
    "import datetime\n",
    "string = \"20/01/2020\"\n",
    "print(time.mktime(datetime.datetime.strptime(string,\n",
    "                                             \"%d/%m/%Y\").timetuple()))"
   ]
  },
  {
   "cell_type": "markdown",
   "id": "cd267dd1",
   "metadata": {},
   "source": [
    "4. How to convert timestamp string to datetime object in Python?\n"
   ]
  },
  {
   "cell_type": "code",
   "execution_count": 4,
   "id": "a07a4de5",
   "metadata": {},
   "outputs": [
    {
     "name": "stdout",
     "output_type": "stream",
     "text": [
      "date_time: 2006-02-25 05:30:00\n",
      "type of dt: <class 'datetime.datetime'>\n"
     ]
    }
   ],
   "source": [
    "from datetime import datetime\n",
    "timestamp = 1545730073\n",
    "dt_obj = datetime.fromtimestamp(1140825600)\n",
    "  \n",
    "print(\"date_time:\",dt_obj)\n",
    "print(\"type of dt:\",type(dt_obj))"
   ]
  },
  {
   "cell_type": "markdown",
   "id": "97b89804",
   "metadata": {},
   "source": [
    "5. Find number of times every day occurs in a Year\n"
   ]
  },
  {
   "cell_type": "code",
   "execution_count": 5,
   "id": "b4c4d142",
   "metadata": {},
   "outputs": [
    {
     "name": "stdout",
     "output_type": "stream",
     "text": [
      "Monday 52\n",
      "Tuesday 53\n",
      "Wednesday 52\n",
      "Thursday 52\n",
      "Friday 52\n",
      "Saturday 52\n",
      "Sunday 52\n"
     ]
    }
   ],
   "source": [
    "import datetime\n",
    "import calendar\n",
    "  \n",
    "def day_occur_time(year):\n",
    "\n",
    "    days = [ \"Monday\", \"Tuesday\", \"Wednesday\", \n",
    "           \"Thursday\",  \"Friday\", \"Saturday\",\n",
    "           \"Sunday\" ]\n",
    "\n",
    "    L = [52 for i in range(7)]\n",
    "\n",
    "    pos = -1\n",
    "    day = datetime.datetime(year, month = 1, day = 1).strftime(\"%A\")\n",
    "    for i in range(7):\n",
    "        if day == days[i]:\n",
    "            pos = i\n",
    "\n",
    "    if calendar.isleap(year):\n",
    "        L[pos] += 1\n",
    "        L[(pos+1)%7] += 1\n",
    "         \n",
    "    else:\n",
    "        L[pos] += 1\n",
    "\n",
    "    for i in range(7):\n",
    "        print(days[i], L[i])\n",
    "\n",
    "year = 2019\n",
    "day_occur_time(year)"
   ]
  },
  {
   "cell_type": "markdown",
   "id": "c44718de",
   "metadata": {},
   "source": [
    "6. Python Program to Check if String Contain Only Defined Characters using Regex\n"
   ]
  },
  {
   "cell_type": "code",
   "execution_count": 6,
   "id": "119ca187",
   "metadata": {},
   "outputs": [
    {
     "name": "stdout",
     "output_type": "stream",
     "text": [
      "Valid String\n",
      "Invalid String\n"
     ]
    }
   ],
   "source": [
    "import re\n",
    "  \n",
    "  \n",
    "def check(str, pattern):\n",
    "    if re.search(pattern, str):\n",
    "        print(\"Valid String\")\n",
    "    else:\n",
    "        print(\"Invalid String\")\n",
    "\n",
    "pattern = re.compile('^[1234]+$')\n",
    "check('2134', pattern)\n",
    "check('349', pattern)"
   ]
  },
  {
   "cell_type": "markdown",
   "id": "fdf5c7ab",
   "metadata": {},
   "source": [
    "7. Python program to Count Uppercase, Lowercase, special character and numeric values using\n",
    "Regex\n"
   ]
  },
  {
   "cell_type": "code",
   "execution_count": 7,
   "id": "fd56b934",
   "metadata": {},
   "outputs": [
    {
     "name": "stdout",
     "output_type": "stream",
     "text": [
      "The no. of uppercase characters is 4\n",
      "The no. of lowercase characters is 15\n",
      "The no. of numerical characters is 3\n",
      "The no. of special characters is 4\n"
     ]
    }
   ],
   "source": [
    "import re\n",
    "string = \"ThisIsGeeksforGeeks !, 123\"\n",
    "\n",
    "uppercase_characters = re.findall(r\"[A-Z]\", string)\n",
    "lowercase_characters = re.findall(r\"[a-z]\", string)\n",
    "numerical_characters = re.findall(r\"[0-9]\", string)\n",
    "special_characters = re.findall(r\"[, .!?]\", string)\n",
    " \n",
    "print(\"The no. of uppercase characters is\", len(uppercase_characters))\n",
    "print(\"The no. of lowercase characters is\", len(lowercase_characters))\n",
    "print(\"The no. of numerical characters is\", len(numerical_characters))\n",
    "print(\"The no. of special characters is\", len(special_characters))"
   ]
  },
  {
   "cell_type": "markdown",
   "id": "7c3521c3",
   "metadata": {},
   "source": [
    "8. Python Program to find the most occurring number in a string using Regex\n"
   ]
  },
  {
   "cell_type": "code",
   "execution_count": 8,
   "id": "989d1017",
   "metadata": {},
   "outputs": [
    {
     "name": "stdout",
     "output_type": "stream",
     "text": [
      "55\n"
     ]
    }
   ],
   "source": [
    "import re \n",
    "from collections import Counter \n",
    "  \n",
    "def most_occr_element(word):\n",
    "\n",
    "    arr = re.findall(r'[0-9]+', word)    \n",
    "\n",
    "    maxm = 0  \n",
    "\n",
    "    max_elem = 0\n",
    "  \n",
    "    c = Counter(arr)\n",
    "\n",
    "    for x in list(c.keys()):\n",
    "  \n",
    "        if c[x]>= maxm:\n",
    "            maxm = c[x]\n",
    "            max_elem = int(x)\n",
    "                  \n",
    "    return max_elem\n",
    "\n",
    "word = 'geek55of55gee4ksabc3dr2x'\n",
    "print(most_occr_element(word))"
   ]
  },
  {
   "cell_type": "markdown",
   "id": "089a3b49",
   "metadata": {},
   "source": [
    "9. Python Regex to extract maximum numeric value from a string\n"
   ]
  },
  {
   "cell_type": "code",
   "execution_count": 10,
   "id": "6db7f539",
   "metadata": {},
   "outputs": [
    {
     "name": "stdout",
     "output_type": "stream",
     "text": [
      "564\n"
     ]
    }
   ],
   "source": [
    "import re\n",
    "  \n",
    "def extractMax(input):\n",
    "\n",
    "     numbers = re.findall('\\d+',input)\n",
    " \n",
    "     numbers = map(int,numbers)\n",
    "  \n",
    "     print (max(numbers))\n",
    "\n",
    "input = '100klh564abc365bg'\n",
    "extractMax(input)"
   ]
  },
  {
   "cell_type": "markdown",
   "id": "72c9ed7c",
   "metadata": {},
   "source": [
    "10. Python Program to put spaces between words starting with capital letters using Regex"
   ]
  },
  {
   "cell_type": "code",
   "execution_count": 13,
   "id": "de2a7944",
   "metadata": {},
   "outputs": [
    {
     "name": "stdout",
     "output_type": "stream",
     "text": [
      "bruce wayne is batman\n"
     ]
    }
   ],
   "source": [
    "import re\n",
    "   \n",
    "def putSpace(input):\n",
    "\n",
    "    words = re.findall('[A-Z][a-z]*', input)\n",
    "\n",
    "    for i in range(0,len(words)):\n",
    "        words[i]=words[i][0].lower()+words[i][1:]\n",
    "    print(' '.join(words))\n",
    "\n",
    "input = 'BruceWayneIsBatman'\n",
    "putSpace(input)"
   ]
  },
  {
   "cell_type": "code",
   "execution_count": null,
   "id": "72afc84a",
   "metadata": {},
   "outputs": [],
   "source": []
  }
 ],
 "metadata": {
  "kernelspec": {
   "display_name": "Python 3 (ipykernel)",
   "language": "python",
   "name": "python3"
  },
  "language_info": {
   "codemirror_mode": {
    "name": "ipython",
    "version": 3
   },
   "file_extension": ".py",
   "mimetype": "text/x-python",
   "name": "python",
   "nbconvert_exporter": "python",
   "pygments_lexer": "ipython3",
   "version": "3.9.7"
  }
 },
 "nbformat": 4,
 "nbformat_minor": 5
}
