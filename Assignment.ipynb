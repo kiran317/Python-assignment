{
 "cells": [
  {
   "cell_type": "markdown",
   "id": "f41a3b82",
   "metadata": {},
   "source": [
    "1. Python program to find smallest number in a list"
   ]
  },
  {
   "cell_type": "code",
   "execution_count": 2,
   "id": "65ab07af",
   "metadata": {},
   "outputs": [
    {
     "name": "stdout",
     "output_type": "stream",
     "text": [
      "smallest number in a list is 12\n"
     ]
    }
   ],
   "source": [
    "a=[12,23,45,67,98,67]\n",
    "print(\"smallest number in a list is\" ,min(a))\n"
   ]
  },
  {
   "cell_type": "markdown",
   "id": "c177812b",
   "metadata": {},
   "source": [
    "2. Python program to find largest number in a list"
   ]
  },
  {
   "cell_type": "code",
   "execution_count": 3,
   "id": "da49e1a4",
   "metadata": {},
   "outputs": [
    {
     "name": "stdout",
     "output_type": "stream",
     "text": [
      "Largest number in a list is 98\n"
     ]
    }
   ],
   "source": [
    "a=[12,23,45,67,98,67]\n",
    "print(\"Largest number in a list is\" ,max(a))\n"
   ]
  },
  {
   "cell_type": "markdown",
   "id": "eba1e32f",
   "metadata": {},
   "source": [
    "3. Python program to find second largest number in a list"
   ]
  },
  {
   "cell_type": "code",
   "execution_count": 9,
   "id": "0e92105e",
   "metadata": {},
   "outputs": [
    {
     "name": "stdout",
     "output_type": "stream",
     "text": [
      "The second lageset number is 69\n"
     ]
    }
   ],
   "source": [
    "a=[12,23,45,67,98,69]\n",
    "b=sorted(a)\n",
    "print(\"The second lageset number is\",b[len(a)-2])\n"
   ]
  },
  {
   "cell_type": "markdown",
   "id": "4e63c073",
   "metadata": {},
   "source": [
    "4. Python program to find N largest elements from a list"
   ]
  },
  {
   "cell_type": "code",
   "execution_count": 10,
   "id": "c64d27d8",
   "metadata": {},
   "outputs": [
    {
     "name": "stdout",
     "output_type": "stream",
     "text": [
      "3rd element of a list is 45\n"
     ]
    }
   ],
   "source": [
    "a=[12,23,45,67,98,69]\n",
    "print(\"3rd element of a list is\",a[2]\n",
    "# for nth element = a[n-1]"
   ]
  },
  {
   "cell_type": "markdown",
   "id": "5dfec42f",
   "metadata": {},
   "source": [
    "5. Python program to print even numbers in a list"
   ]
  },
  {
   "cell_type": "code",
   "execution_count": 22,
   "id": "115b8b6a",
   "metadata": {},
   "outputs": [
    {
     "name": "stdout",
     "output_type": "stream",
     "text": [
      "12  98  "
     ]
    }
   ],
   "source": [
    "a=[12,23,45,67,98,69]\n",
    "b=[]\n",
    "for i in a:\n",
    "    if i%2==0:\n",
    "        print(i, end=\"  \")\n",
    "\n",
    "        \n",
    "    "
   ]
  },
  {
   "cell_type": "markdown",
   "id": "693834b6",
   "metadata": {},
   "source": [
    "6. Python program to print odd numbers in a List"
   ]
  },
  {
   "cell_type": "code",
   "execution_count": 23,
   "id": "38041034",
   "metadata": {},
   "outputs": [
    {
     "name": "stdout",
     "output_type": "stream",
     "text": [
      "23  45  67  69  "
     ]
    }
   ],
   "source": [
    "a=[12,23,45,67,98,69]\n",
    "b=[]\n",
    "for i in a:\n",
    "    if i%2!=0:\n",
    "        print(i, end=\"  \")"
   ]
  },
  {
   "cell_type": "markdown",
   "id": "c3ac922f",
   "metadata": {},
   "source": [
    "7. Python program to print all even numbers in a range"
   ]
  },
  {
   "cell_type": "code",
   "execution_count": 24,
   "id": "4dd44ed9",
   "metadata": {},
   "outputs": [
    {
     "name": "stdout",
     "output_type": "stream",
     "text": [
      "Enter the number20\n",
      "2 4 6 8 10 12 14 16 18 20 "
     ]
    }
   ],
   "source": [
    "n=int(input(\"Enter the number\"))\n",
    "for i in range(1,n+1):\n",
    "    if i%2==0:\n",
    "        print(i,end=\" \")"
   ]
  },
  {
   "cell_type": "markdown",
   "id": "b8e88b06",
   "metadata": {},
   "source": [
    "8. Python program to print all odd numbers in a range"
   ]
  },
  {
   "cell_type": "code",
   "execution_count": 25,
   "id": "08ff45dc",
   "metadata": {},
   "outputs": [
    {
     "name": "stdout",
     "output_type": "stream",
     "text": [
      "Enter the number20\n",
      "1 3 5 7 9 11 13 15 17 19 "
     ]
    }
   ],
   "source": [
    "n=int(input(\"Enter the number\"))\n",
    "for i in range(1,n+1):\n",
    "    if i%2!=0:\n",
    "        print(i,end=\" \")"
   ]
  },
  {
   "cell_type": "markdown",
   "id": "24a52624",
   "metadata": {},
   "source": [
    "9. Python program to print positive numbers in a list"
   ]
  },
  {
   "cell_type": "code",
   "execution_count": 26,
   "id": "d581244e",
   "metadata": {},
   "outputs": [
    {
     "name": "stdout",
     "output_type": "stream",
     "text": [
      "4 6 10 "
     ]
    }
   ],
   "source": [
    "a=[-2,4,6,-9,10]\n",
    "for i in a:\n",
    "    if i>=0:\n",
    "        print(i,end=\" \")"
   ]
  },
  {
   "cell_type": "markdown",
   "id": "04064c0f",
   "metadata": {},
   "source": [
    "10. Python program to print negative numbers in a list"
   ]
  },
  {
   "cell_type": "code",
   "execution_count": 28,
   "id": "2869cdca",
   "metadata": {},
   "outputs": [
    {
     "name": "stdout",
     "output_type": "stream",
     "text": [
      "-2 -9 "
     ]
    }
   ],
   "source": [
    "a=[-2,4,6,-9,10]\n",
    "for i in a:\n",
    "    if i<0:\n",
    "        print(i,end=\" \")"
   ]
  },
  {
   "cell_type": "markdown",
   "id": "4a0e21ab",
   "metadata": {},
   "source": [
    "11. Python program to print all positive numbers in a range"
   ]
  },
  {
   "cell_type": "code",
   "execution_count": 29,
   "id": "b835a39d",
   "metadata": {},
   "outputs": [
    {
     "name": "stdout",
     "output_type": "stream",
     "text": [
      "0 1 2 3 4 "
     ]
    }
   ],
   "source": [
    "for i in range(-4,5):\n",
    "    if i>=0:\n",
    "        print(i,end=\" \")\n"
   ]
  }
 ],
 "metadata": {
  "kernelspec": {
   "display_name": "Python 3 (ipykernel)",
   "language": "python",
   "name": "python3"
  },
  "language_info": {
   "codemirror_mode": {
    "name": "ipython",
    "version": 3
   },
   "file_extension": ".py",
   "mimetype": "text/x-python",
   "name": "python",
   "nbconvert_exporter": "python",
   "pygments_lexer": "ipython3",
   "version": "3.9.7"
  }
 },
 "nbformat": 4,
 "nbformat_minor": 5
}
